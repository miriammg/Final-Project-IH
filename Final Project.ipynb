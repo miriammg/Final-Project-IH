{
 "cells": [
  {
   "cell_type": "code",
   "execution_count": 86,
   "metadata": {},
   "outputs": [],
   "source": [
    "import pandas as pd\n",
    "import numpy as np\n",
    "\n",
    "# Display all columns\n",
    "from IPython.display import display\n",
    "pd.options.display.max_columns = None\n",
    "\n",
    "# Data Visualization\n",
    "import matplotlib.pyplot as plt\n",
    "import seaborn as sns\n",
    "from datetime import datetime\n",
    "\n",
    "# Split train/test\n",
    "from sklearn.model_selection import train_test_split\n",
    "from sklearn import metrics\n",
    "\n",
    "# Label Encode\n",
    "from sklearn.preprocessing import label_binarize\n",
    "\n",
    "# Feature Scaling (normalize)\n",
    "from sklearn.preprocessing import RobustScaler\n",
    "\n",
    "# SVM\n",
    "from sklearn import svm\n",
    "\n",
    "# Logistic Regression\n",
    "from sklearn import linear_model\n",
    "from sklearn.linear_model import LogisticRegression\n",
    "\n",
    "# Random Forest Classifier\n",
    "from sklearn.ensemble import RandomForestClassifier\n",
    "\n",
    "# Confusion Matrix\n",
    "from sklearn.metrics import confusion_matrix\n",
    "\n",
    "# ROC Curve\n",
    "from sklearn.metrics import roc_curve, roc_auc_score\n",
    "\n",
    "\n",
    "from sklearn.metrics import r2_score"
   ]
  },
  {
   "cell_type": "markdown",
   "metadata": {},
   "source": [
    "Web Watson Analytics IBM\n",
    "https://www.ibm.com/communities/analytics/watson-analytics-blog/marketing-customer-value-analysis/"
   ]
  },
  {
   "cell_type": "code",
   "execution_count": 2,
   "metadata": {
    "scrolled": true
   },
   "outputs": [
    {
     "data": {
      "text/html": [
       "<div>\n",
       "<style scoped>\n",
       "    .dataframe tbody tr th:only-of-type {\n",
       "        vertical-align: middle;\n",
       "    }\n",
       "\n",
       "    .dataframe tbody tr th {\n",
       "        vertical-align: top;\n",
       "    }\n",
       "\n",
       "    .dataframe thead th {\n",
       "        text-align: right;\n",
       "    }\n",
       "</style>\n",
       "<table border=\"1\" class=\"dataframe\">\n",
       "  <thead>\n",
       "    <tr style=\"text-align: right;\">\n",
       "      <th></th>\n",
       "      <th>Customer</th>\n",
       "      <th>State</th>\n",
       "      <th>Customer Lifetime Value</th>\n",
       "      <th>Response</th>\n",
       "      <th>Coverage</th>\n",
       "      <th>Education</th>\n",
       "      <th>Effective To Date</th>\n",
       "      <th>EmploymentStatus</th>\n",
       "      <th>Gender</th>\n",
       "      <th>Income</th>\n",
       "      <th>Location Code</th>\n",
       "      <th>Marital Status</th>\n",
       "      <th>Monthly Premium Auto</th>\n",
       "      <th>Months Since Last Claim</th>\n",
       "      <th>Months Since Policy Inception</th>\n",
       "      <th>Number of Open Complaints</th>\n",
       "      <th>Number of Policies</th>\n",
       "      <th>Policy Type</th>\n",
       "      <th>Policy</th>\n",
       "      <th>Renew Offer Type</th>\n",
       "      <th>Sales Channel</th>\n",
       "      <th>Total Claim Amount</th>\n",
       "      <th>Vehicle Class</th>\n",
       "      <th>Vehicle Size</th>\n",
       "    </tr>\n",
       "  </thead>\n",
       "  <tbody>\n",
       "    <tr>\n",
       "      <th>0</th>\n",
       "      <td>BU79786</td>\n",
       "      <td>Washington</td>\n",
       "      <td>2763.519279</td>\n",
       "      <td>No</td>\n",
       "      <td>Basic</td>\n",
       "      <td>Bachelor</td>\n",
       "      <td>2/24/11</td>\n",
       "      <td>Employed</td>\n",
       "      <td>F</td>\n",
       "      <td>56274</td>\n",
       "      <td>Suburban</td>\n",
       "      <td>Married</td>\n",
       "      <td>69</td>\n",
       "      <td>32</td>\n",
       "      <td>5</td>\n",
       "      <td>0</td>\n",
       "      <td>1</td>\n",
       "      <td>Corporate Auto</td>\n",
       "      <td>Corporate L3</td>\n",
       "      <td>Offer1</td>\n",
       "      <td>Agent</td>\n",
       "      <td>384.811147</td>\n",
       "      <td>Two-Door Car</td>\n",
       "      <td>Medsize</td>\n",
       "    </tr>\n",
       "    <tr>\n",
       "      <th>1</th>\n",
       "      <td>QZ44356</td>\n",
       "      <td>Arizona</td>\n",
       "      <td>6979.535903</td>\n",
       "      <td>No</td>\n",
       "      <td>Extended</td>\n",
       "      <td>Bachelor</td>\n",
       "      <td>1/31/11</td>\n",
       "      <td>Unemployed</td>\n",
       "      <td>F</td>\n",
       "      <td>0</td>\n",
       "      <td>Suburban</td>\n",
       "      <td>Single</td>\n",
       "      <td>94</td>\n",
       "      <td>13</td>\n",
       "      <td>42</td>\n",
       "      <td>0</td>\n",
       "      <td>8</td>\n",
       "      <td>Personal Auto</td>\n",
       "      <td>Personal L3</td>\n",
       "      <td>Offer3</td>\n",
       "      <td>Agent</td>\n",
       "      <td>1131.464935</td>\n",
       "      <td>Four-Door Car</td>\n",
       "      <td>Medsize</td>\n",
       "    </tr>\n",
       "    <tr>\n",
       "      <th>2</th>\n",
       "      <td>AI49188</td>\n",
       "      <td>Nevada</td>\n",
       "      <td>12887.431650</td>\n",
       "      <td>No</td>\n",
       "      <td>Premium</td>\n",
       "      <td>Bachelor</td>\n",
       "      <td>2/19/11</td>\n",
       "      <td>Employed</td>\n",
       "      <td>F</td>\n",
       "      <td>48767</td>\n",
       "      <td>Suburban</td>\n",
       "      <td>Married</td>\n",
       "      <td>108</td>\n",
       "      <td>18</td>\n",
       "      <td>38</td>\n",
       "      <td>0</td>\n",
       "      <td>2</td>\n",
       "      <td>Personal Auto</td>\n",
       "      <td>Personal L3</td>\n",
       "      <td>Offer1</td>\n",
       "      <td>Agent</td>\n",
       "      <td>566.472247</td>\n",
       "      <td>Two-Door Car</td>\n",
       "      <td>Medsize</td>\n",
       "    </tr>\n",
       "    <tr>\n",
       "      <th>3</th>\n",
       "      <td>WW63253</td>\n",
       "      <td>California</td>\n",
       "      <td>7645.861827</td>\n",
       "      <td>No</td>\n",
       "      <td>Basic</td>\n",
       "      <td>Bachelor</td>\n",
       "      <td>1/20/11</td>\n",
       "      <td>Unemployed</td>\n",
       "      <td>M</td>\n",
       "      <td>0</td>\n",
       "      <td>Suburban</td>\n",
       "      <td>Married</td>\n",
       "      <td>106</td>\n",
       "      <td>18</td>\n",
       "      <td>65</td>\n",
       "      <td>0</td>\n",
       "      <td>7</td>\n",
       "      <td>Corporate Auto</td>\n",
       "      <td>Corporate L2</td>\n",
       "      <td>Offer1</td>\n",
       "      <td>Call Center</td>\n",
       "      <td>529.881344</td>\n",
       "      <td>SUV</td>\n",
       "      <td>Medsize</td>\n",
       "    </tr>\n",
       "    <tr>\n",
       "      <th>4</th>\n",
       "      <td>HB64268</td>\n",
       "      <td>Washington</td>\n",
       "      <td>2813.692575</td>\n",
       "      <td>No</td>\n",
       "      <td>Basic</td>\n",
       "      <td>Bachelor</td>\n",
       "      <td>2/3/11</td>\n",
       "      <td>Employed</td>\n",
       "      <td>M</td>\n",
       "      <td>43836</td>\n",
       "      <td>Rural</td>\n",
       "      <td>Single</td>\n",
       "      <td>73</td>\n",
       "      <td>12</td>\n",
       "      <td>44</td>\n",
       "      <td>0</td>\n",
       "      <td>1</td>\n",
       "      <td>Personal Auto</td>\n",
       "      <td>Personal L1</td>\n",
       "      <td>Offer1</td>\n",
       "      <td>Agent</td>\n",
       "      <td>138.130879</td>\n",
       "      <td>Four-Door Car</td>\n",
       "      <td>Medsize</td>\n",
       "    </tr>\n",
       "  </tbody>\n",
       "</table>\n",
       "</div>"
      ],
      "text/plain": [
       "  Customer       State  Customer Lifetime Value Response  Coverage Education  \\\n",
       "0  BU79786  Washington              2763.519279       No     Basic  Bachelor   \n",
       "1  QZ44356     Arizona              6979.535903       No  Extended  Bachelor   \n",
       "2  AI49188      Nevada             12887.431650       No   Premium  Bachelor   \n",
       "3  WW63253  California              7645.861827       No     Basic  Bachelor   \n",
       "4  HB64268  Washington              2813.692575       No     Basic  Bachelor   \n",
       "\n",
       "  Effective To Date EmploymentStatus Gender  Income Location Code  \\\n",
       "0           2/24/11         Employed      F   56274      Suburban   \n",
       "1           1/31/11       Unemployed      F       0      Suburban   \n",
       "2           2/19/11         Employed      F   48767      Suburban   \n",
       "3           1/20/11       Unemployed      M       0      Suburban   \n",
       "4            2/3/11         Employed      M   43836         Rural   \n",
       "\n",
       "  Marital Status  Monthly Premium Auto  Months Since Last Claim  \\\n",
       "0        Married                    69                       32   \n",
       "1         Single                    94                       13   \n",
       "2        Married                   108                       18   \n",
       "3        Married                   106                       18   \n",
       "4         Single                    73                       12   \n",
       "\n",
       "   Months Since Policy Inception  Number of Open Complaints  \\\n",
       "0                              5                          0   \n",
       "1                             42                          0   \n",
       "2                             38                          0   \n",
       "3                             65                          0   \n",
       "4                             44                          0   \n",
       "\n",
       "   Number of Policies     Policy Type        Policy Renew Offer Type  \\\n",
       "0                   1  Corporate Auto  Corporate L3           Offer1   \n",
       "1                   8   Personal Auto   Personal L3           Offer3   \n",
       "2                   2   Personal Auto   Personal L3           Offer1   \n",
       "3                   7  Corporate Auto  Corporate L2           Offer1   \n",
       "4                   1   Personal Auto   Personal L1           Offer1   \n",
       "\n",
       "  Sales Channel  Total Claim Amount  Vehicle Class Vehicle Size  \n",
       "0         Agent          384.811147   Two-Door Car      Medsize  \n",
       "1         Agent         1131.464935  Four-Door Car      Medsize  \n",
       "2         Agent          566.472247   Two-Door Car      Medsize  \n",
       "3   Call Center          529.881344            SUV      Medsize  \n",
       "4         Agent          138.130879  Four-Door Car      Medsize  "
      ]
     },
     "metadata": {},
     "output_type": "display_data"
    }
   ],
   "source": [
    "df = pd.read_csv('WA_Fn-UseC_-Marketing-Customer-Value-Analysis.csv')\n",
    "display(df.head())\n"
   ]
  },
  {
   "cell_type": "markdown",
   "metadata": {},
   "source": [
    "## Question"
   ]
  },
  {
   "cell_type": "markdown",
   "metadata": {},
   "source": [
    "Can we predict the amount claimed by a client?"
   ]
  },
  {
   "cell_type": "markdown",
   "metadata": {},
   "source": [
    "### Data Cleaning and Exploratory Analysis"
   ]
  },
  {
   "cell_type": "code",
   "execution_count": 3,
   "metadata": {},
   "outputs": [
    {
     "name": "stdout",
     "output_type": "stream",
     "text": [
      "24\n",
      "Index(['Customer', 'State', 'Customer Lifetime Value', 'Response', 'Coverage',\n",
      "       'Education', 'Effective To Date', 'EmploymentStatus', 'Gender',\n",
      "       'Income', 'Location Code', 'Marital Status', 'Monthly Premium Auto',\n",
      "       'Months Since Last Claim', 'Months Since Policy Inception',\n",
      "       'Number of Open Complaints', 'Number of Policies', 'Policy Type',\n",
      "       'Policy', 'Renew Offer Type', 'Sales Channel', 'Total Claim Amount',\n",
      "       'Vehicle Class', 'Vehicle Size'],\n",
      "      dtype='object')\n",
      "<class 'pandas.core.frame.DataFrame'>\n",
      "RangeIndex: 9134 entries, 0 to 9133\n",
      "Data columns (total 24 columns):\n",
      "Customer                         9134 non-null object\n",
      "State                            9134 non-null object\n",
      "Customer Lifetime Value          9134 non-null float64\n",
      "Response                         9134 non-null object\n",
      "Coverage                         9134 non-null object\n",
      "Education                        9134 non-null object\n",
      "Effective To Date                9134 non-null object\n",
      "EmploymentStatus                 9134 non-null object\n",
      "Gender                           9134 non-null object\n",
      "Income                           9134 non-null int64\n",
      "Location Code                    9134 non-null object\n",
      "Marital Status                   9134 non-null object\n",
      "Monthly Premium Auto             9134 non-null int64\n",
      "Months Since Last Claim          9134 non-null int64\n",
      "Months Since Policy Inception    9134 non-null int64\n",
      "Number of Open Complaints        9134 non-null int64\n",
      "Number of Policies               9134 non-null int64\n",
      "Policy Type                      9134 non-null object\n",
      "Policy                           9134 non-null object\n",
      "Renew Offer Type                 9134 non-null object\n",
      "Sales Channel                    9134 non-null object\n",
      "Total Claim Amount               9134 non-null float64\n",
      "Vehicle Class                    9134 non-null object\n",
      "Vehicle Size                     9134 non-null object\n",
      "dtypes: float64(2), int64(6), object(16)\n",
      "memory usage: 1.7+ MB\n",
      "None\n"
     ]
    }
   ],
   "source": [
    "# Columns of dataset\n",
    "print( len(df.columns))\n",
    "print(df.columns)\n",
    "print(df.info())"
   ]
  },
  {
   "cell_type": "code",
   "execution_count": 4,
   "metadata": {},
   "outputs": [
    {
     "data": {
      "text/plain": [
       "Customer                         0\n",
       "State                            0\n",
       "Customer Lifetime Value          0\n",
       "Response                         0\n",
       "Coverage                         0\n",
       "Education                        0\n",
       "Effective To Date                0\n",
       "EmploymentStatus                 0\n",
       "Gender                           0\n",
       "Income                           0\n",
       "Location Code                    0\n",
       "Marital Status                   0\n",
       "Monthly Premium Auto             0\n",
       "Months Since Last Claim          0\n",
       "Months Since Policy Inception    0\n",
       "Number of Open Complaints        0\n",
       "Number of Policies               0\n",
       "Policy Type                      0\n",
       "Policy                           0\n",
       "Renew Offer Type                 0\n",
       "Sales Channel                    0\n",
       "Total Claim Amount               0\n",
       "Vehicle Class                    0\n",
       "Vehicle Size                     0\n",
       "dtype: int64"
      ]
     },
     "execution_count": 4,
     "metadata": {},
     "output_type": "execute_result"
    }
   ],
   "source": [
    "# Missing values\n",
    "df.isna().sum()"
   ]
  },
  {
   "cell_type": "code",
   "execution_count": 5,
   "metadata": {},
   "outputs": [
    {
     "name": "stdout",
     "output_type": "stream",
     "text": [
      "Customer 9134\n",
      "State 5\n",
      "Customer Lifetime Value 8041\n",
      "Response 2\n",
      "Coverage 3\n",
      "Education 5\n",
      "Effective To Date 59\n",
      "EmploymentStatus 5\n",
      "Gender 2\n",
      "Income 5694\n",
      "Location Code 3\n",
      "Marital Status 3\n",
      "Monthly Premium Auto 202\n",
      "Months Since Last Claim 36\n",
      "Months Since Policy Inception 100\n",
      "Number of Open Complaints 6\n",
      "Number of Policies 9\n",
      "Policy Type 3\n",
      "Policy 9\n",
      "Renew Offer Type 4\n",
      "Sales Channel 4\n",
      "Total Claim Amount 5106\n",
      "Vehicle Class 6\n",
      "Vehicle Size 3\n"
     ]
    }
   ],
   "source": [
    "# Know the unique values for each column\n",
    "for item in df.columns.tolist():\n",
    "    print(item, len(df[item].unique()))"
   ]
  },
  {
   "cell_type": "markdown",
   "metadata": {},
   "source": [
    "### Categorical Variable"
   ]
  },
  {
   "cell_type": "markdown",
   "metadata": {},
   "source": [
    "#### Effective To Date"
   ]
  },
  {
   "cell_type": "code",
   "execution_count": 268,
   "metadata": {},
   "outputs": [
    {
     "name": "stdout",
     "output_type": "stream",
     "text": [
      "int64\n",
      "0    719163\n",
      "1    719163\n",
      "2    719163\n",
      "3    719163\n",
      "4    719163\n",
      "Name: Effective To Date, dtype: int64\n",
      "\n",
      "datetime64[ns]\n",
      "1970-01-01 00:00:00.000719163\n",
      "1970-01-01 00:00:00.000719163\n",
      "1970    9134\n",
      "Name: Effective To Date, dtype: int64\n",
      "1    9134\n",
      "Name: Effective To Date, dtype: int64\n",
      "\n"
     ]
    }
   ],
   "source": [
    "# Change the type to ordinal.\n",
    "print(df['Effective To Date'].dtype)\n",
    "print(df['Effective To Date'].head())\n",
    "print('''''')\n",
    "df['Effective To Date'] = pd.to_datetime(df['Effective To Date'])\n",
    "print(df['Effective To Date'].dtype)\n",
    "print(df['Effective To Date'].min())\n",
    "print(df['Effective To Date'].max())\n",
    "print(df['Effective To Date'].dt.year.value_counts())\n",
    "print(df['Effective To Date'].dt.month.value_counts())\n",
    "print('''''')\n",
    "\n",
    "df['Effective To Date'] = df['Effective To Date'].apply(lambda x: x.toordinal())"
   ]
  },
  {
   "cell_type": "markdown",
   "metadata": {},
   "source": [
    "#### Customers\n",
    "Drop customer columns, it's not relevant for our model. "
   ]
  },
  {
   "cell_type": "code",
   "execution_count": 269,
   "metadata": {
    "collapsed": true
   },
   "outputs": [
    {
     "ename": "AttributeError",
     "evalue": "'DataFrame' object has no attribute 'Customer'",
     "output_type": "error",
     "traceback": [
      "\u001b[0;31m---------------------------------------------------------------------------\u001b[0m",
      "\u001b[0;31mAttributeError\u001b[0m                            Traceback (most recent call last)",
      "\u001b[0;32m<ipython-input-269-404a70d74dfc>\u001b[0m in \u001b[0;36m<module>\u001b[0;34m\u001b[0m\n\u001b[1;32m      1\u001b[0m \u001b[0;31m# Unique value for each customer\u001b[0m\u001b[0;34m\u001b[0m\u001b[0;34m\u001b[0m\u001b[0;34m\u001b[0m\u001b[0m\n\u001b[0;32m----> 2\u001b[0;31m \u001b[0mprint\u001b[0m\u001b[0;34m(\u001b[0m\u001b[0;34m'type'\u001b[0m\u001b[0;34m,\u001b[0m \u001b[0mdf\u001b[0m\u001b[0;34m.\u001b[0m\u001b[0mCustomer\u001b[0m\u001b[0;34m.\u001b[0m\u001b[0mdtype\u001b[0m\u001b[0;34m)\u001b[0m\u001b[0;34m\u001b[0m\u001b[0;34m\u001b[0m\u001b[0m\n\u001b[0m\u001b[1;32m      3\u001b[0m \u001b[0mprint\u001b[0m\u001b[0;34m(\u001b[0m\u001b[0mdf\u001b[0m\u001b[0;34m.\u001b[0m\u001b[0mCustomer\u001b[0m\u001b[0;34m.\u001b[0m\u001b[0mhead\u001b[0m\u001b[0;34m(\u001b[0m\u001b[0;34m)\u001b[0m\u001b[0;34m)\u001b[0m\u001b[0;34m\u001b[0m\u001b[0;34m\u001b[0m\u001b[0m\n\u001b[1;32m      4\u001b[0m \u001b[0mprint\u001b[0m\u001b[0;34m(\u001b[0m\u001b[0mlen\u001b[0m\u001b[0;34m(\u001b[0m\u001b[0mdf\u001b[0m\u001b[0;34m.\u001b[0m\u001b[0mCustomer\u001b[0m\u001b[0;34m.\u001b[0m\u001b[0munique\u001b[0m\u001b[0;34m(\u001b[0m\u001b[0;34m)\u001b[0m\u001b[0;34m)\u001b[0m\u001b[0;34m)\u001b[0m\u001b[0;34m\u001b[0m\u001b[0;34m\u001b[0m\u001b[0m\n\u001b[1;32m      5\u001b[0m \u001b[0;34m\u001b[0m\u001b[0m\n",
      "\u001b[0;32m~/.local/lib/python3.6/site-packages/pandas/core/generic.py\u001b[0m in \u001b[0;36m__getattr__\u001b[0;34m(self, name)\u001b[0m\n\u001b[1;32m   4374\u001b[0m             \u001b[0;32mif\u001b[0m \u001b[0mself\u001b[0m\u001b[0;34m.\u001b[0m\u001b[0m_info_axis\u001b[0m\u001b[0;34m.\u001b[0m\u001b[0m_can_hold_identifiers_and_holds_name\u001b[0m\u001b[0;34m(\u001b[0m\u001b[0mname\u001b[0m\u001b[0;34m)\u001b[0m\u001b[0;34m:\u001b[0m\u001b[0;34m\u001b[0m\u001b[0;34m\u001b[0m\u001b[0m\n\u001b[1;32m   4375\u001b[0m                 \u001b[0;32mreturn\u001b[0m \u001b[0mself\u001b[0m\u001b[0;34m[\u001b[0m\u001b[0mname\u001b[0m\u001b[0;34m]\u001b[0m\u001b[0;34m\u001b[0m\u001b[0;34m\u001b[0m\u001b[0m\n\u001b[0;32m-> 4376\u001b[0;31m             \u001b[0;32mreturn\u001b[0m \u001b[0mobject\u001b[0m\u001b[0;34m.\u001b[0m\u001b[0m__getattribute__\u001b[0m\u001b[0;34m(\u001b[0m\u001b[0mself\u001b[0m\u001b[0;34m,\u001b[0m \u001b[0mname\u001b[0m\u001b[0;34m)\u001b[0m\u001b[0;34m\u001b[0m\u001b[0;34m\u001b[0m\u001b[0m\n\u001b[0m\u001b[1;32m   4377\u001b[0m \u001b[0;34m\u001b[0m\u001b[0m\n\u001b[1;32m   4378\u001b[0m     \u001b[0;32mdef\u001b[0m \u001b[0m__setattr__\u001b[0m\u001b[0;34m(\u001b[0m\u001b[0mself\u001b[0m\u001b[0;34m,\u001b[0m \u001b[0mname\u001b[0m\u001b[0;34m,\u001b[0m \u001b[0mvalue\u001b[0m\u001b[0;34m)\u001b[0m\u001b[0;34m:\u001b[0m\u001b[0;34m\u001b[0m\u001b[0;34m\u001b[0m\u001b[0m\n",
      "\u001b[0;31mAttributeError\u001b[0m: 'DataFrame' object has no attribute 'Customer'"
     ]
    }
   ],
   "source": [
    "# Unique value for each customer\n",
    "print('type', df.Customer.dtype)\n",
    "print(df.Customer.head())\n",
    "print(len(df.Customer.unique()))\n",
    "\n",
    "df.drop(labels=['Customer'], axis=1, inplace=True)"
   ]
  },
  {
   "cell_type": "markdown",
   "metadata": {},
   "source": [
    "#### State\n",
    "\n"
   ]
  },
  {
   "cell_type": "code",
   "execution_count": 12,
   "metadata": {},
   "outputs": [
    {
     "name": "stdout",
     "output_type": "stream",
     "text": [
      "type object\n",
      "['Washington' 'Arizona' 'Nevada' 'California' 'Oregon']\n",
      "5\n",
      "California    34.486534\n",
      "Oregon        28.476024\n",
      "Arizona       18.644624\n",
      "Nevada         9.656229\n",
      "Washington     8.736589\n",
      "Name: State, dtype: float64\n"
     ]
    }
   ],
   "source": [
    "print('type', df.State.dtype)\n",
    "print(df.State.unique())\n",
    "print(len(df.State.unique()))\n",
    "print((df.State.value_counts()/ sum(df.State.value_counts()))*100)\n",
    "a =df.State.value_counts()"
   ]
  },
  {
   "cell_type": "markdown",
   "metadata": {},
   "source": [
    "#### Response"
   ]
  },
  {
   "cell_type": "code",
   "execution_count": 270,
   "metadata": {},
   "outputs": [
    {
     "name": "stdout",
     "output_type": "stream",
     "text": [
      "type object\n",
      "['No' 'Yes']\n",
      "No     85.679877\n",
      "Yes    14.320123\n",
      "Name: Response, dtype: float64\n"
     ]
    }
   ],
   "source": [
    "print('type', df['Response'].dtype)\n",
    "print(df['Response'].unique())\n",
    "print((df.Response.value_counts()/sum(df.State.value_counts()))*100)"
   ]
  },
  {
   "cell_type": "markdown",
   "metadata": {},
   "source": [
    "#### Coverage"
   ]
  },
  {
   "cell_type": "code",
   "execution_count": 14,
   "metadata": {
    "scrolled": true
   },
   "outputs": [
    {
     "name": "stdout",
     "output_type": "stream",
     "text": [
      "type object\n",
      "['Basic' 'Extended' 'Premium']\n",
      "3\n",
      "Basic       60.959054\n",
      "Extended    30.019707\n",
      "Premium      9.021239\n",
      "Name: Coverage, dtype: float64\n"
     ]
    }
   ],
   "source": [
    "print('type', df.Coverage.dtype)\n",
    "print(df.Coverage.unique())\n",
    "print(len(df.Coverage.unique()))\n",
    "print((df.Coverage.value_counts()/ sum(df.Coverage.value_counts()))*100)"
   ]
  },
  {
   "cell_type": "markdown",
   "metadata": {},
   "source": [
    "#### Education"
   ]
  },
  {
   "cell_type": "code",
   "execution_count": 15,
   "metadata": {},
   "outputs": [
    {
     "name": "stdout",
     "output_type": "stream",
     "text": [
      "type object\n",
      "['Bachelor' 'College' 'Master' 'High School or Below' 'Doctor']\n",
      "5\n",
      "Bachelor                30.085395\n",
      "College                 29.351872\n",
      "High School or Below    28.705934\n",
      "Master                   8.112547\n",
      "Doctor                   3.744252\n",
      "Name: Education, dtype: float64\n"
     ]
    }
   ],
   "source": [
    "print('type', df.Education.dtype)\n",
    "print(df.Education.unique())\n",
    "print(len(df.Education.unique()))\n",
    "print((df.Education.value_counts()/ sum(df.Education.value_counts()))*100)"
   ]
  },
  {
   "cell_type": "markdown",
   "metadata": {},
   "source": [
    "#### EmploymentStatus"
   ]
  },
  {
   "cell_type": "code",
   "execution_count": 16,
   "metadata": {},
   "outputs": [
    {
     "name": "stdout",
     "output_type": "stream",
     "text": [
      "type object\n",
      "['Employed' 'Unemployed' 'Medical Leave' 'Disabled' 'Retired']\n",
      "5\n",
      "Employed         62.382308\n",
      "Unemployed       25.366762\n",
      "Medical Leave     4.729582\n",
      "Disabled          4.433983\n",
      "Retired           3.087366\n",
      "Name: EmploymentStatus, dtype: float64\n"
     ]
    }
   ],
   "source": [
    "print('type', df.EmploymentStatus.dtype)\n",
    "print(df.EmploymentStatus.unique())\n",
    "print(len(df.EmploymentStatus.unique()))\n",
    "print((df.EmploymentStatus.value_counts()/ sum(df.EmploymentStatus.value_counts()))*100)"
   ]
  },
  {
   "cell_type": "markdown",
   "metadata": {},
   "source": [
    "#### Gender"
   ]
  },
  {
   "cell_type": "code",
   "execution_count": 17,
   "metadata": {},
   "outputs": [
    {
     "name": "stdout",
     "output_type": "stream",
     "text": [
      "type object\n",
      "['F' 'M']\n",
      "2\n",
      "F    50.996278\n",
      "M    49.003722\n",
      "Name: Gender, dtype: float64\n"
     ]
    }
   ],
   "source": [
    "print('type', df.Gender.dtype)\n",
    "print(df.Gender.unique())\n",
    "print(len(df.Gender.unique()))\n",
    "print((df.Gender.value_counts()/ sum(df.Gender.value_counts()))*100)"
   ]
  },
  {
   "cell_type": "markdown",
   "metadata": {},
   "source": [
    "#### Location Code "
   ]
  },
  {
   "cell_type": "code",
   "execution_count": 18,
   "metadata": {},
   "outputs": [
    {
     "name": "stdout",
     "output_type": "stream",
     "text": [
      "type object\n",
      "['Suburban' 'Rural' 'Urban']\n",
      "3\n",
      "Suburban    63.269104\n",
      "Rural       19.410992\n",
      "Urban       17.319904\n",
      "Name: Location Code, dtype: float64\n"
     ]
    }
   ],
   "source": [
    "print('type', df['Location Code'].dtype)\n",
    "print(df['Location Code'].unique())\n",
    "print(len(df['Location Code'].unique()))\n",
    "print((df['Location Code'].value_counts()/ sum(df['Location Code'].value_counts()))*100)"
   ]
  },
  {
   "cell_type": "markdown",
   "metadata": {},
   "source": [
    "#### Marital Status"
   ]
  },
  {
   "cell_type": "code",
   "execution_count": 19,
   "metadata": {},
   "outputs": [
    {
     "name": "stdout",
     "output_type": "stream",
     "text": [
      "type object\n",
      "['Married' 'Single' 'Divorced']\n",
      "3\n",
      "Married     58.003065\n",
      "Single      27.008977\n",
      "Divorced    14.987957\n",
      "Name: Marital Status, dtype: float64\n"
     ]
    }
   ],
   "source": [
    "print('type', df['Marital Status'].dtype)\n",
    "print(df['Marital Status'].unique())\n",
    "print(len(df['Marital Status'].unique()))\n",
    "print((df['Marital Status'].value_counts()/ sum(df['Marital Status'].value_counts()))*100)"
   ]
  },
  {
   "cell_type": "markdown",
   "metadata": {},
   "source": [
    "#### Policy Type"
   ]
  },
  {
   "cell_type": "code",
   "execution_count": 20,
   "metadata": {},
   "outputs": [
    {
     "name": "stdout",
     "output_type": "stream",
     "text": [
      "type object\n",
      "['Corporate Auto' 'Personal Auto' 'Special Auto']\n",
      "3\n",
      "Personal Auto     74.315743\n",
      "Corporate Auto    21.545873\n",
      "Special Auto       4.138384\n",
      "Name: Policy Type, dtype: float64\n"
     ]
    }
   ],
   "source": [
    "print('type', df['Policy Type'].dtype)\n",
    "print(df['Policy Type'].unique())\n",
    "print(len(df['Policy Type'].unique()))\n",
    "print((df['Policy Type'].value_counts()/ sum(df['Policy Type'].value_counts()))*100)"
   ]
  },
  {
   "cell_type": "markdown",
   "metadata": {},
   "source": [
    "#### Policy"
   ]
  },
  {
   "cell_type": "code",
   "execution_count": 21,
   "metadata": {},
   "outputs": [
    {
     "name": "stdout",
     "output_type": "stream",
     "text": [
      "type object\n",
      "['Corporate L3' 'Personal L3' 'Corporate L2' 'Personal L1' 'Special L2'\n",
      " 'Corporate L1' 'Personal L2' 'Special L1' 'Special L3']\n",
      "9\n",
      "Personal L3     37.508211\n",
      "Personal L2     23.231881\n",
      "Personal L1     13.575651\n",
      "Corporate L3    11.101379\n",
      "Corporate L2     6.514123\n",
      "Corporate L1     3.930370\n",
      "Special L2       1.795489\n",
      "Special L3       1.620320\n",
      "Special L1       0.722575\n",
      "Name: Policy, dtype: float64\n"
     ]
    }
   ],
   "source": [
    "print('type', df['Policy'].dtype)\n",
    "print(df['Policy'].unique())\n",
    "print(len(df['Policy'].unique()))\n",
    "print((df['Policy'].value_counts()/ sum(df['Policy'].value_counts()))*100)"
   ]
  },
  {
   "cell_type": "markdown",
   "metadata": {},
   "source": [
    "#### Renew Offer Type"
   ]
  },
  {
   "cell_type": "code",
   "execution_count": 22,
   "metadata": {},
   "outputs": [
    {
     "name": "stdout",
     "output_type": "stream",
     "text": [
      "type object\n",
      "['Offer1' 'Offer3' 'Offer2' 'Offer4']\n",
      "4\n",
      "Offer1    41.077294\n",
      "Offer2    32.034158\n",
      "Offer3    15.677688\n",
      "Offer4    11.210861\n",
      "Name: Renew Offer Type, dtype: float64\n"
     ]
    }
   ],
   "source": [
    "print('type', df['Renew Offer Type'].dtype)\n",
    "print(df['Renew Offer Type'].unique())\n",
    "print(len(df['Renew Offer Type'].unique()))\n",
    "print((df['Renew Offer Type'].value_counts()/ sum(df['Renew Offer Type'].value_counts()))*100)"
   ]
  },
  {
   "cell_type": "markdown",
   "metadata": {},
   "source": [
    "#### Sales Channel"
   ]
  },
  {
   "cell_type": "code",
   "execution_count": 23,
   "metadata": {},
   "outputs": [
    {
     "name": "stdout",
     "output_type": "stream",
     "text": [
      "type object\n",
      "['Agent' 'Call Center' 'Web' 'Branch']\n",
      "4\n",
      "Agent          38.066564\n",
      "Branch         28.103788\n",
      "Call Center    19.323407\n",
      "Web            14.506240\n",
      "Name: Sales Channel, dtype: float64\n"
     ]
    }
   ],
   "source": [
    "print('type', df['Sales Channel'].dtype)\n",
    "print(df['Sales Channel'].unique())\n",
    "print(len(df['Sales Channel'].unique()))\n",
    "print((df['Sales Channel'].value_counts()/ sum(df['Sales Channel'].value_counts()))*100)"
   ]
  },
  {
   "cell_type": "markdown",
   "metadata": {},
   "source": [
    "#### Vehicle Class"
   ]
  },
  {
   "cell_type": "code",
   "execution_count": 24,
   "metadata": {},
   "outputs": [
    {
     "name": "stdout",
     "output_type": "stream",
     "text": [
      "type object\n",
      "['Two-Door Car' 'Four-Door Car' 'SUV' 'Luxury SUV' 'Sports Car'\n",
      " 'Luxury Car']\n",
      "6\n",
      "Four-Door Car    50.591198\n",
      "Two-Door Car     20.648128\n",
      "SUV              19.662798\n",
      "Sports Car        5.298883\n",
      "Luxury SUV        2.014451\n",
      "Luxury Car        1.784541\n",
      "Name: Vehicle Class, dtype: float64\n"
     ]
    }
   ],
   "source": [
    "print('type', df['Vehicle Class'].dtype)\n",
    "print(df['Vehicle Class'].unique())\n",
    "print(len(df['Vehicle Class'].unique()))\n",
    "print((df['Vehicle Class'].value_counts()/ sum(df['Vehicle Class'].value_counts()))*100)"
   ]
  },
  {
   "cell_type": "markdown",
   "metadata": {},
   "source": [
    "#### Vehicle Size"
   ]
  },
  {
   "cell_type": "code",
   "execution_count": 25,
   "metadata": {
    "scrolled": true
   },
   "outputs": [
    {
     "name": "stdout",
     "output_type": "stream",
     "text": [
      "type object\n",
      "['Medsize' 'Small' 'Large']\n",
      "3\n",
      "Medsize    70.330633\n",
      "Small      19.312459\n",
      "Large      10.356908\n",
      "Name: Vehicle Size, dtype: float64\n"
     ]
    }
   ],
   "source": [
    "print('type', df['Vehicle Size'].dtype)\n",
    "print(df['Vehicle Size'].unique())\n",
    "print(len(df['Vehicle Size'].unique()))\n",
    "print((df['Vehicle Size'].value_counts()/ sum(df['Vehicle Size'].value_counts()))*100)"
   ]
  },
  {
   "cell_type": "markdown",
   "metadata": {},
   "source": [
    "### Data Visualization"
   ]
  },
  {
   "cell_type": "markdown",
   "metadata": {},
   "source": [
    "#### Categorical Variable"
   ]
  },
  {
   "cell_type": "code",
   "execution_count": 26,
   "metadata": {},
   "outputs": [
    {
     "data": {
      "image/png": "[encoded data removed]",
      "text/plain": [
       "<Figure size 720x2880 with 14 Axes>"
      ]
     },
     "metadata": {
      "needs_background": "light"
     },
     "output_type": "display_data"
    }
   ],
   "source": [
    "# Bar plot for each categorical variable.\n",
    "y = [col for col in df.columns if df[col].dtype == object]\n",
    "fig, axes = plt.subplots(int((len(y)/2)), 2, figsize=(10,40))\n",
    "for i, x in enumerate(y):\n",
    "    axes[int(i/2)][i%2].bar(df[x].unique(), df[x].value_counts())\n",
    "    axes[int(i/2)][i%2].set_title(x)"
   ]
  },
  {
   "cell_type": "markdown",
   "metadata": {},
   "source": [
    "### Columns - Numerical Variable"
   ]
  },
  {
   "cell_type": "code",
   "execution_count": 27,
   "metadata": {},
   "outputs": [
    {
     "data": {
      "text/html": [
       "<div>\n",
       "<style scoped>\n",
       "    .dataframe tbody tr th:only-of-type {\n",
       "        vertical-align: middle;\n",
       "    }\n",
       "\n",
       "    .dataframe tbody tr th {\n",
       "        vertical-align: top;\n",
       "    }\n",
       "\n",
       "    .dataframe thead th {\n",
       "        text-align: right;\n",
       "    }\n",
       "</style>\n",
       "<table border=\"1\" class=\"dataframe\">\n",
       "  <thead>\n",
       "    <tr style=\"text-align: right;\">\n",
       "      <th></th>\n",
       "      <th>Customer Lifetime Value</th>\n",
       "      <th>Effective To Date</th>\n",
       "      <th>Income</th>\n",
       "      <th>Monthly Premium Auto</th>\n",
       "      <th>Months Since Last Claim</th>\n",
       "      <th>Months Since Policy Inception</th>\n",
       "      <th>Number of Open Complaints</th>\n",
       "      <th>Number of Policies</th>\n",
       "      <th>Total Claim Amount</th>\n",
       "    </tr>\n",
       "  </thead>\n",
       "  <tbody>\n",
       "    <tr>\n",
       "      <th>count</th>\n",
       "      <td>9134.000000</td>\n",
       "      <td>9134.000000</td>\n",
       "      <td>9134.000000</td>\n",
       "      <td>9134.000000</td>\n",
       "      <td>9134.000000</td>\n",
       "      <td>9134.000000</td>\n",
       "      <td>9134.000000</td>\n",
       "      <td>9134.000000</td>\n",
       "      <td>9134.000000</td>\n",
       "    </tr>\n",
       "    <tr>\n",
       "      <th>mean</th>\n",
       "      <td>8004.940475</td>\n",
       "      <td>734166.837749</td>\n",
       "      <td>37657.380009</td>\n",
       "      <td>93.219291</td>\n",
       "      <td>15.097000</td>\n",
       "      <td>48.064594</td>\n",
       "      <td>0.384388</td>\n",
       "      <td>2.966170</td>\n",
       "      <td>434.088794</td>\n",
       "    </tr>\n",
       "    <tr>\n",
       "      <th>std</th>\n",
       "      <td>6870.967608</td>\n",
       "      <td>16.942769</td>\n",
       "      <td>30379.904734</td>\n",
       "      <td>34.407967</td>\n",
       "      <td>10.073257</td>\n",
       "      <td>27.905991</td>\n",
       "      <td>0.910384</td>\n",
       "      <td>2.390182</td>\n",
       "      <td>290.500092</td>\n",
       "    </tr>\n",
       "    <tr>\n",
       "      <th>min</th>\n",
       "      <td>1898.007675</td>\n",
       "      <td>734138.000000</td>\n",
       "      <td>0.000000</td>\n",
       "      <td>61.000000</td>\n",
       "      <td>0.000000</td>\n",
       "      <td>0.000000</td>\n",
       "      <td>0.000000</td>\n",
       "      <td>1.000000</td>\n",
       "      <td>0.099007</td>\n",
       "    </tr>\n",
       "    <tr>\n",
       "      <th>25%</th>\n",
       "      <td>3994.251794</td>\n",
       "      <td>734152.000000</td>\n",
       "      <td>0.000000</td>\n",
       "      <td>68.000000</td>\n",
       "      <td>6.000000</td>\n",
       "      <td>24.000000</td>\n",
       "      <td>0.000000</td>\n",
       "      <td>1.000000</td>\n",
       "      <td>272.258244</td>\n",
       "    </tr>\n",
       "    <tr>\n",
       "      <th>50%</th>\n",
       "      <td>5780.182197</td>\n",
       "      <td>734166.000000</td>\n",
       "      <td>33889.500000</td>\n",
       "      <td>83.000000</td>\n",
       "      <td>14.000000</td>\n",
       "      <td>48.000000</td>\n",
       "      <td>0.000000</td>\n",
       "      <td>2.000000</td>\n",
       "      <td>383.945434</td>\n",
       "    </tr>\n",
       "    <tr>\n",
       "      <th>75%</th>\n",
       "      <td>8962.167041</td>\n",
       "      <td>734181.000000</td>\n",
       "      <td>62320.000000</td>\n",
       "      <td>109.000000</td>\n",
       "      <td>23.000000</td>\n",
       "      <td>71.000000</td>\n",
       "      <td>0.000000</td>\n",
       "      <td>4.000000</td>\n",
       "      <td>547.514839</td>\n",
       "    </tr>\n",
       "    <tr>\n",
       "      <th>max</th>\n",
       "      <td>83325.381190</td>\n",
       "      <td>734196.000000</td>\n",
       "      <td>99981.000000</td>\n",
       "      <td>298.000000</td>\n",
       "      <td>35.000000</td>\n",
       "      <td>99.000000</td>\n",
       "      <td>5.000000</td>\n",
       "      <td>9.000000</td>\n",
       "      <td>2893.239678</td>\n",
       "    </tr>\n",
       "  </tbody>\n",
       "</table>\n",
       "</div>"
      ],
      "text/plain": [
       "       Customer Lifetime Value  Effective To Date        Income  \\\n",
       "count              9134.000000        9134.000000   9134.000000   \n",
       "mean               8004.940475      734166.837749  37657.380009   \n",
       "std                6870.967608          16.942769  30379.904734   \n",
       "min                1898.007675      734138.000000      0.000000   \n",
       "25%                3994.251794      734152.000000      0.000000   \n",
       "50%                5780.182197      734166.000000  33889.500000   \n",
       "75%                8962.167041      734181.000000  62320.000000   \n",
       "max               83325.381190      734196.000000  99981.000000   \n",
       "\n",
       "       Monthly Premium Auto  Months Since Last Claim  \\\n",
       "count           9134.000000              9134.000000   \n",
       "mean              93.219291                15.097000   \n",
       "std               34.407967                10.073257   \n",
       "min               61.000000                 0.000000   \n",
       "25%               68.000000                 6.000000   \n",
       "50%               83.000000                14.000000   \n",
       "75%              109.000000                23.000000   \n",
       "max              298.000000                35.000000   \n",
       "\n",
       "       Months Since Policy Inception  Number of Open Complaints  \\\n",
       "count                    9134.000000                9134.000000   \n",
       "mean                       48.064594                   0.384388   \n",
       "std                        27.905991                   0.910384   \n",
       "min                         0.000000                   0.000000   \n",
       "25%                        24.000000                   0.000000   \n",
       "50%                        48.000000                   0.000000   \n",
       "75%                        71.000000                   0.000000   \n",
       "max                        99.000000                   5.000000   \n",
       "\n",
       "       Number of Policies  Total Claim Amount  \n",
       "count         9134.000000         9134.000000  \n",
       "mean             2.966170          434.088794  \n",
       "std              2.390182          290.500092  \n",
       "min              1.000000            0.099007  \n",
       "25%              1.000000          272.258244  \n",
       "50%              2.000000          383.945434  \n",
       "75%              4.000000          547.514839  \n",
       "max              9.000000         2893.239678  "
      ]
     },
     "execution_count": 27,
     "metadata": {},
     "output_type": "execute_result"
    }
   ],
   "source": [
    "df.describe()"
   ]
  },
  {
   "cell_type": "code",
   "execution_count": 28,
   "metadata": {},
   "outputs": [
    {
     "data": {
      "text/plain": [
       "<matplotlib.axes._subplots.AxesSubplot at 0x7f6bbf863828>"
      ]
     },
     "execution_count": 28,
     "metadata": {},
     "output_type": "execute_result"
    },
    {
     "data": {
      "image/png": "[encoded data removed]",
      "text/plain": [
       "<Figure size 576x432 with 2 Axes>"
      ]
     },
     "metadata": {
      "needs_background": "light"
     },
     "output_type": "display_data"
    }
   ],
   "source": [
    "df.corr()\n",
    "fig, axes = plt.subplots(1,1, figsize=(8,6))\n",
    "sns.heatmap(df.corr(), cmap=plt.cm.Blues,  annot=True)"
   ]
  },
  {
   "cell_type": "code",
   "execution_count": 29,
   "metadata": {},
   "outputs": [
    {
     "data": {
      "text/plain": [
       "<matplotlib.axes._subplots.AxesSubplot at 0x7f6bc1fda940>"
      ]
     },
     "execution_count": 29,
     "metadata": {},
     "output_type": "execute_result"
    },
    {
     "data": {
      "image/png": "[encoded data removed]",
      "text/plain": [
       "<Figure size 432x288 with 1 Axes>"
      ]
     },
     "metadata": {
      "needs_background": "light"
     },
     "output_type": "display_data"
    }
   ],
   "source": [
    "df['Income'].hist()"
   ]
  },
  {
   "cell_type": "code",
   "execution_count": 30,
   "metadata": {},
   "outputs": [
    {
     "data": {
      "text/plain": [
       "<matplotlib.axes._subplots.AxesSubplot at 0x7f6bc1f52be0>"
      ]
     },
     "execution_count": 30,
     "metadata": {},
     "output_type": "execute_result"
    },
    {
     "data": {
      "image/png": "[encoded data removed]",
      "text/plain": [
       "<Figure size 720x360 with 1 Axes>"
      ]
     },
     "metadata": {
      "needs_background": "light"
     },
     "output_type": "display_data"
    }
   ],
   "source": [
    "fig, axes = plt.subplots(1,1, figsize=(10,5))\n",
    "df.boxplot(column='Income')"
   ]
  },
  {
   "cell_type": "markdown",
   "metadata": {},
   "source": [
    "Numeric_cols = df._get_numeric_data()\n",
    "fig, axes = plt.subplots(int((len(Numeric_cols)/2)), 2, figsize=(10,40))\n",
    "for i, x in enumerate(Numeric_cols):\n",
    "    axes[int(i/2)][i%2].hist(df[x])\n",
    "    axes[int(i/2)][i%2].set_title(x)"
   ]
  },
  {
   "cell_type": "markdown",
   "metadata": {},
   "source": [
    "### Total Claim Amount (3 class)"
   ]
  },
  {
   "cell_type": "code",
   "execution_count": 31,
   "metadata": {},
   "outputs": [
    {
     "data": {
      "text/plain": [
       "<matplotlib.axes._subplots.AxesSubplot at 0x7f6bc1eab518>"
      ]
     },
     "execution_count": 31,
     "metadata": {},
     "output_type": "execute_result"
    },
    {
     "data": {
      "image/png": "[encoded data removed]",
      "text/plain": [
       "<Figure size 720x360 with 1 Axes>"
      ]
     },
     "metadata": {
      "needs_background": "light"
     },
     "output_type": "display_data"
    }
   ],
   "source": [
    "fig, axes = plt.subplots(1,1, figsize=(10,5))\n",
    "df.boxplot(column='Total Claim Amount')"
   ]
  },
  {
   "cell_type": "code",
   "execution_count": 32,
   "metadata": {},
   "outputs": [
    {
     "data": {
      "text/plain": [
       "<matplotlib.axes._subplots.AxesSubplot at 0x7f6bc1e74c88>"
      ]
     },
     "execution_count": 32,
     "metadata": {},
     "output_type": "execute_result"
    },
    {
     "data": {
      "image/png": "[encoded data removed]",
      "text/plain": [
       "<Figure size 432x288 with 1 Axes>"
      ]
     },
     "metadata": {
      "needs_background": "light"
     },
     "output_type": "display_data"
    }
   ],
   "source": [
    "df['Total Claim Amount'].hist()"
   ]
  },
  {
   "cell_type": "code",
   "execution_count": 33,
   "metadata": {},
   "outputs": [
    {
     "data": {
      "text/plain": [
       "0.09900700000000001"
      ]
     },
     "execution_count": 33,
     "metadata": {},
     "output_type": "execute_result"
    }
   ],
   "source": [
    "df['Total Claim Amount'][2334]"
   ]
  },
  {
   "cell_type": "code",
   "execution_count": 34,
   "metadata": {},
   "outputs": [
    {
     "name": "stdout",
     "output_type": "stream",
     "text": [
      "0.09900700000000001 2893.239678 434.0887943128969 272.2582445 547.5148387500001\n"
     ]
    }
   ],
   "source": [
    "Total_claim_min = df['Total Claim Amount'].min()\n",
    "Total_claim_max = df['Total Claim Amount'].max()\n",
    "Total_claim_mean = df['Total Claim Amount'].mean()\n",
    "Total_claim_q1 = df['Total Claim Amount'].quantile(0.25)\n",
    "Total_claim_q2 = df['Total Claim Amount'].quantile(0.75)\n",
    "print(Total_claim_min, Total_claim_max, Total_claim_mean, Total_claim_q1, Total_claim_q2)"
   ]
  },
  {
   "cell_type": "code",
   "execution_count": 35,
   "metadata": {
    "scrolled": true
   },
   "outputs": [
    {
     "name": "stdout",
     "output_type": "stream",
     "text": [
      "0    1\n",
      "1    2\n",
      "2    2\n",
      "3    1\n",
      "4    0\n",
      "Name: Total Claim Labels, dtype: category\n",
      "Categories (3, int64): [0 < 1 < 2]\n"
     ]
    }
   ],
   "source": [
    "#Labels = 0: Low , 1:Moderate, 2:High\n",
    "cutoffs = [0, Total_claim_q1, Total_claim_q2, Total_claim_max]\n",
    "df['Total Claim Labels'] = pd.cut(df['Total Claim Amount'],cutoffs, labels=[0,1,2])\n",
    "print(df['Total Claim Labels'].head())\n"
   ]
  },
  {
   "cell_type": "code",
   "execution_count": 36,
   "metadata": {},
   "outputs": [
    {
     "data": {
      "text/plain": [
       "0.09900700000000001"
      ]
     },
     "execution_count": 36,
     "metadata": {},
     "output_type": "execute_result"
    }
   ],
   "source": [
    "# Problemas con el NAN, el primer valor no lo cogía\n",
    "df.index[df['Total Claim Labels'].isna() == True].tolist()\n",
    "df['Total Claim Amount'][2334]"
   ]
  },
  {
   "cell_type": "code",
   "execution_count": 37,
   "metadata": {},
   "outputs": [
    {
     "data": {
      "text/plain": [
       "dtype('int64')"
      ]
     },
     "execution_count": 37,
     "metadata": {},
     "output_type": "execute_result"
    }
   ],
   "source": [
    "# Cambiar tipo\n",
    "df['Total Claim Labels'] = df['Total Claim Labels'].astype('int64')\n",
    "df['Total Claim Labels'].dtype"
   ]
  },
  {
   "cell_type": "markdown",
   "metadata": {},
   "source": [
    "----"
   ]
  },
  {
   "cell_type": "markdown",
   "metadata": {},
   "source": [
    "## Machine Learning "
   ]
  },
  {
   "cell_type": "markdown",
   "metadata": {},
   "source": [
    "Let's convert them to ordinal data using Pandas' get_dummies"
   ]
  },
  {
   "cell_type": "code",
   "execution_count": 38,
   "metadata": {},
   "outputs": [],
   "source": [
    "#df['Total Claim Labels'].astype(object)\n",
    "#columns = [col for col in df.columns if (df[col].dtype == object)]\n",
    "columns=[col for col in df.columns if df[col].dtype == object]\n",
    "\n",
    "df_model = pd.get_dummies(data=df, columns = columns, drop_first=True)"
   ]
  },
  {
   "cell_type": "code",
   "execution_count": 39,
   "metadata": {
    "scrolled": true
   },
   "outputs": [
    {
     "data": {
      "text/html": [
       "<div>\n",
       "<style scoped>\n",
       "    .dataframe tbody tr th:only-of-type {\n",
       "        vertical-align: middle;\n",
       "    }\n",
       "\n",
       "    .dataframe tbody tr th {\n",
       "        vertical-align: top;\n",
       "    }\n",
       "\n",
       "    .dataframe thead th {\n",
       "        text-align: right;\n",
       "    }\n",
       "</style>\n",
       "<table border=\"1\" class=\"dataframe\">\n",
       "  <thead>\n",
       "    <tr style=\"text-align: right;\">\n",
       "      <th></th>\n",
       "      <th>Customer Lifetime Value</th>\n",
       "      <th>Effective To Date</th>\n",
       "      <th>Income</th>\n",
       "      <th>Monthly Premium Auto</th>\n",
       "      <th>Months Since Last Claim</th>\n",
       "      <th>Months Since Policy Inception</th>\n",
       "      <th>Number of Open Complaints</th>\n",
       "      <th>Number of Policies</th>\n",
       "      <th>Total Claim Amount</th>\n",
       "      <th>Total Claim Labels</th>\n",
       "      <th>State_California</th>\n",
       "      <th>State_Nevada</th>\n",
       "      <th>State_Oregon</th>\n",
       "      <th>State_Washington</th>\n",
       "      <th>Response_Yes</th>\n",
       "      <th>Coverage_Extended</th>\n",
       "      <th>Coverage_Premium</th>\n",
       "      <th>Education_College</th>\n",
       "      <th>Education_Doctor</th>\n",
       "      <th>Education_High School or Below</th>\n",
       "      <th>Education_Master</th>\n",
       "      <th>EmploymentStatus_Employed</th>\n",
       "      <th>EmploymentStatus_Medical Leave</th>\n",
       "      <th>EmploymentStatus_Retired</th>\n",
       "      <th>EmploymentStatus_Unemployed</th>\n",
       "      <th>Gender_M</th>\n",
       "      <th>Location Code_Suburban</th>\n",
       "      <th>Location Code_Urban</th>\n",
       "      <th>Marital Status_Married</th>\n",
       "      <th>Marital Status_Single</th>\n",
       "      <th>Policy Type_Personal Auto</th>\n",
       "      <th>Policy Type_Special Auto</th>\n",
       "      <th>Policy_Corporate L2</th>\n",
       "      <th>Policy_Corporate L3</th>\n",
       "      <th>Policy_Personal L1</th>\n",
       "      <th>Policy_Personal L2</th>\n",
       "      <th>Policy_Personal L3</th>\n",
       "      <th>Policy_Special L1</th>\n",
       "      <th>Policy_Special L2</th>\n",
       "      <th>Policy_Special L3</th>\n",
       "      <th>Renew Offer Type_Offer2</th>\n",
       "      <th>Renew Offer Type_Offer3</th>\n",
       "      <th>Renew Offer Type_Offer4</th>\n",
       "      <th>Sales Channel_Branch</th>\n",
       "      <th>Sales Channel_Call Center</th>\n",
       "      <th>Sales Channel_Web</th>\n",
       "      <th>Vehicle Class_Luxury Car</th>\n",
       "      <th>Vehicle Class_Luxury SUV</th>\n",
       "      <th>Vehicle Class_SUV</th>\n",
       "      <th>Vehicle Class_Sports Car</th>\n",
       "      <th>Vehicle Class_Two-Door Car</th>\n",
       "      <th>Vehicle Size_Medsize</th>\n",
       "      <th>Vehicle Size_Small</th>\n",
       "    </tr>\n",
       "  </thead>\n",
       "  <tbody>\n",
       "    <tr>\n",
       "      <th>0</th>\n",
       "      <td>2763.519279</td>\n",
       "      <td>734192</td>\n",
       "      <td>56274</td>\n",
       "      <td>69</td>\n",
       "      <td>32</td>\n",
       "      <td>5</td>\n",
       "      <td>0</td>\n",
       "      <td>1</td>\n",
       "      <td>384.811147</td>\n",
       "      <td>1</td>\n",
       "      <td>0</td>\n",
       "      <td>0</td>\n",
       "      <td>0</td>\n",
       "      <td>1</td>\n",
       "      <td>0</td>\n",
       "      <td>0</td>\n",
       "      <td>0</td>\n",
       "      <td>0</td>\n",
       "      <td>0</td>\n",
       "      <td>0</td>\n",
       "      <td>0</td>\n",
       "      <td>1</td>\n",
       "      <td>0</td>\n",
       "      <td>0</td>\n",
       "      <td>0</td>\n",
       "      <td>0</td>\n",
       "      <td>1</td>\n",
       "      <td>0</td>\n",
       "      <td>1</td>\n",
       "      <td>0</td>\n",
       "      <td>0</td>\n",
       "      <td>0</td>\n",
       "      <td>0</td>\n",
       "      <td>1</td>\n",
       "      <td>0</td>\n",
       "      <td>0</td>\n",
       "      <td>0</td>\n",
       "      <td>0</td>\n",
       "      <td>0</td>\n",
       "      <td>0</td>\n",
       "      <td>0</td>\n",
       "      <td>0</td>\n",
       "      <td>0</td>\n",
       "      <td>0</td>\n",
       "      <td>0</td>\n",
       "      <td>0</td>\n",
       "      <td>0</td>\n",
       "      <td>0</td>\n",
       "      <td>0</td>\n",
       "      <td>0</td>\n",
       "      <td>1</td>\n",
       "      <td>1</td>\n",
       "      <td>0</td>\n",
       "    </tr>\n",
       "    <tr>\n",
       "      <th>1</th>\n",
       "      <td>6979.535903</td>\n",
       "      <td>734168</td>\n",
       "      <td>0</td>\n",
       "      <td>94</td>\n",
       "      <td>13</td>\n",
       "      <td>42</td>\n",
       "      <td>0</td>\n",
       "      <td>8</td>\n",
       "      <td>1131.464935</td>\n",
       "      <td>2</td>\n",
       "      <td>0</td>\n",
       "      <td>0</td>\n",
       "      <td>0</td>\n",
       "      <td>0</td>\n",
       "      <td>0</td>\n",
       "      <td>1</td>\n",
       "      <td>0</td>\n",
       "      <td>0</td>\n",
       "      <td>0</td>\n",
       "      <td>0</td>\n",
       "      <td>0</td>\n",
       "      <td>0</td>\n",
       "      <td>0</td>\n",
       "      <td>0</td>\n",
       "      <td>1</td>\n",
       "      <td>0</td>\n",
       "      <td>1</td>\n",
       "      <td>0</td>\n",
       "      <td>0</td>\n",
       "      <td>1</td>\n",
       "      <td>1</td>\n",
       "      <td>0</td>\n",
       "      <td>0</td>\n",
       "      <td>0</td>\n",
       "      <td>0</td>\n",
       "      <td>0</td>\n",
       "      <td>1</td>\n",
       "      <td>0</td>\n",
       "      <td>0</td>\n",
       "      <td>0</td>\n",
       "      <td>0</td>\n",
       "      <td>1</td>\n",
       "      <td>0</td>\n",
       "      <td>0</td>\n",
       "      <td>0</td>\n",
       "      <td>0</td>\n",
       "      <td>0</td>\n",
       "      <td>0</td>\n",
       "      <td>0</td>\n",
       "      <td>0</td>\n",
       "      <td>0</td>\n",
       "      <td>1</td>\n",
       "      <td>0</td>\n",
       "    </tr>\n",
       "    <tr>\n",
       "      <th>2</th>\n",
       "      <td>12887.431650</td>\n",
       "      <td>734187</td>\n",
       "      <td>48767</td>\n",
       "      <td>108</td>\n",
       "      <td>18</td>\n",
       "      <td>38</td>\n",
       "      <td>0</td>\n",
       "      <td>2</td>\n",
       "      <td>566.472247</td>\n",
       "      <td>2</td>\n",
       "      <td>0</td>\n",
       "      <td>1</td>\n",
       "      <td>0</td>\n",
       "      <td>0</td>\n",
       "      <td>0</td>\n",
       "      <td>0</td>\n",
       "      <td>1</td>\n",
       "      <td>0</td>\n",
       "      <td>0</td>\n",
       "      <td>0</td>\n",
       "      <td>0</td>\n",
       "      <td>1</td>\n",
       "      <td>0</td>\n",
       "      <td>0</td>\n",
       "      <td>0</td>\n",
       "      <td>0</td>\n",
       "      <td>1</td>\n",
       "      <td>0</td>\n",
       "      <td>1</td>\n",
       "      <td>0</td>\n",
       "      <td>1</td>\n",
       "      <td>0</td>\n",
       "      <td>0</td>\n",
       "      <td>0</td>\n",
       "      <td>0</td>\n",
       "      <td>0</td>\n",
       "      <td>1</td>\n",
       "      <td>0</td>\n",
       "      <td>0</td>\n",
       "      <td>0</td>\n",
       "      <td>0</td>\n",
       "      <td>0</td>\n",
       "      <td>0</td>\n",
       "      <td>0</td>\n",
       "      <td>0</td>\n",
       "      <td>0</td>\n",
       "      <td>0</td>\n",
       "      <td>0</td>\n",
       "      <td>0</td>\n",
       "      <td>0</td>\n",
       "      <td>1</td>\n",
       "      <td>1</td>\n",
       "      <td>0</td>\n",
       "    </tr>\n",
       "    <tr>\n",
       "      <th>3</th>\n",
       "      <td>7645.861827</td>\n",
       "      <td>734157</td>\n",
       "      <td>0</td>\n",
       "      <td>106</td>\n",
       "      <td>18</td>\n",
       "      <td>65</td>\n",
       "      <td>0</td>\n",
       "      <td>7</td>\n",
       "      <td>529.881344</td>\n",
       "      <td>1</td>\n",
       "      <td>1</td>\n",
       "      <td>0</td>\n",
       "      <td>0</td>\n",
       "      <td>0</td>\n",
       "      <td>0</td>\n",
       "      <td>0</td>\n",
       "      <td>0</td>\n",
       "      <td>0</td>\n",
       "      <td>0</td>\n",
       "      <td>0</td>\n",
       "      <td>0</td>\n",
       "      <td>0</td>\n",
       "      <td>0</td>\n",
       "      <td>0</td>\n",
       "      <td>1</td>\n",
       "      <td>1</td>\n",
       "      <td>1</td>\n",
       "      <td>0</td>\n",
       "      <td>1</td>\n",
       "      <td>0</td>\n",
       "      <td>0</td>\n",
       "      <td>0</td>\n",
       "      <td>1</td>\n",
       "      <td>0</td>\n",
       "      <td>0</td>\n",
       "      <td>0</td>\n",
       "      <td>0</td>\n",
       "      <td>0</td>\n",
       "      <td>0</td>\n",
       "      <td>0</td>\n",
       "      <td>0</td>\n",
       "      <td>0</td>\n",
       "      <td>0</td>\n",
       "      <td>0</td>\n",
       "      <td>1</td>\n",
       "      <td>0</td>\n",
       "      <td>0</td>\n",
       "      <td>0</td>\n",
       "      <td>1</td>\n",
       "      <td>0</td>\n",
       "      <td>0</td>\n",
       "      <td>1</td>\n",
       "      <td>0</td>\n",
       "    </tr>\n",
       "    <tr>\n",
       "      <th>4</th>\n",
       "      <td>2813.692575</td>\n",
       "      <td>734171</td>\n",
       "      <td>43836</td>\n",
       "      <td>73</td>\n",
       "      <td>12</td>\n",
       "      <td>44</td>\n",
       "      <td>0</td>\n",
       "      <td>1</td>\n",
       "      <td>138.130879</td>\n",
       "      <td>0</td>\n",
       "      <td>0</td>\n",
       "      <td>0</td>\n",
       "      <td>0</td>\n",
       "      <td>1</td>\n",
       "      <td>0</td>\n",
       "      <td>0</td>\n",
       "      <td>0</td>\n",
       "      <td>0</td>\n",
       "      <td>0</td>\n",
       "      <td>0</td>\n",
       "      <td>0</td>\n",
       "      <td>1</td>\n",
       "      <td>0</td>\n",
       "      <td>0</td>\n",
       "      <td>0</td>\n",
       "      <td>1</td>\n",
       "      <td>0</td>\n",
       "      <td>0</td>\n",
       "      <td>0</td>\n",
       "      <td>1</td>\n",
       "      <td>1</td>\n",
       "      <td>0</td>\n",
       "      <td>0</td>\n",
       "      <td>0</td>\n",
       "      <td>1</td>\n",
       "      <td>0</td>\n",
       "      <td>0</td>\n",
       "      <td>0</td>\n",
       "      <td>0</td>\n",
       "      <td>0</td>\n",
       "      <td>0</td>\n",
       "      <td>0</td>\n",
       "      <td>0</td>\n",
       "      <td>0</td>\n",
       "      <td>0</td>\n",
       "      <td>0</td>\n",
       "      <td>0</td>\n",
       "      <td>0</td>\n",
       "      <td>0</td>\n",
       "      <td>0</td>\n",
       "      <td>0</td>\n",
       "      <td>1</td>\n",
       "      <td>0</td>\n",
       "    </tr>\n",
       "  </tbody>\n",
       "</table>\n",
       "</div>"
      ],
      "text/plain": [
       "   Customer Lifetime Value  Effective To Date  Income  Monthly Premium Auto  \\\n",
       "0              2763.519279             734192   56274                    69   \n",
       "1              6979.535903             734168       0                    94   \n",
       "2             12887.431650             734187   48767                   108   \n",
       "3              7645.861827             734157       0                   106   \n",
       "4              2813.692575             734171   43836                    73   \n",
       "\n",
       "   Months Since Last Claim  Months Since Policy Inception  \\\n",
       "0                       32                              5   \n",
       "1                       13                             42   \n",
       "2                       18                             38   \n",
       "3                       18                             65   \n",
       "4                       12                             44   \n",
       "\n",
       "   Number of Open Complaints  Number of Policies  Total Claim Amount  \\\n",
       "0                          0                   1          384.811147   \n",
       "1                          0                   8         1131.464935   \n",
       "2                          0                   2          566.472247   \n",
       "3                          0                   7          529.881344   \n",
       "4                          0                   1          138.130879   \n",
       "\n",
       "   Total Claim Labels  State_California  State_Nevada  State_Oregon  \\\n",
       "0                   1                 0             0             0   \n",
       "1                   2                 0             0             0   \n",
       "2                   2                 0             1             0   \n",
       "3                   1                 1             0             0   \n",
       "4                   0                 0             0             0   \n",
       "\n",
       "   State_Washington  Response_Yes  Coverage_Extended  Coverage_Premium  \\\n",
       "0                 1             0                  0                 0   \n",
       "1                 0             0                  1                 0   \n",
       "2                 0             0                  0                 1   \n",
       "3                 0             0                  0                 0   \n",
       "4                 1             0                  0                 0   \n",
       "\n",
       "   Education_College  Education_Doctor  Education_High School or Below  \\\n",
       "0                  0                 0                               0   \n",
       "1                  0                 0                               0   \n",
       "2                  0                 0                               0   \n",
       "3                  0                 0                               0   \n",
       "4                  0                 0                               0   \n",
       "\n",
       "   Education_Master  EmploymentStatus_Employed  \\\n",
       "0                 0                          1   \n",
       "1                 0                          0   \n",
       "2                 0                          1   \n",
       "3                 0                          0   \n",
       "4                 0                          1   \n",
       "\n",
       "   EmploymentStatus_Medical Leave  EmploymentStatus_Retired  \\\n",
       "0                               0                         0   \n",
       "1                               0                         0   \n",
       "2                               0                         0   \n",
       "3                               0                         0   \n",
       "4                               0                         0   \n",
       "\n",
       "   EmploymentStatus_Unemployed  Gender_M  Location Code_Suburban  \\\n",
       "0                            0         0                       1   \n",
       "1                            1         0                       1   \n",
       "2                            0         0                       1   \n",
       "3                            1         1                       1   \n",
       "4                            0         1                       0   \n",
       "\n",
       "   Location Code_Urban  Marital Status_Married  Marital Status_Single  \\\n",
       "0                    0                       1                      0   \n",
       "1                    0                       0                      1   \n",
       "2                    0                       1                      0   \n",
       "3                    0                       1                      0   \n",
       "4                    0                       0                      1   \n",
       "\n",
       "   Policy Type_Personal Auto  Policy Type_Special Auto  Policy_Corporate L2  \\\n",
       "0                          0                         0                    0   \n",
       "1                          1                         0                    0   \n",
       "2                          1                         0                    0   \n",
       "3                          0                         0                    1   \n",
       "4                          1                         0                    0   \n",
       "\n",
       "   Policy_Corporate L3  Policy_Personal L1  Policy_Personal L2  \\\n",
       "0                    1                   0                   0   \n",
       "1                    0                   0                   0   \n",
       "2                    0                   0                   0   \n",
       "3                    0                   0                   0   \n",
       "4                    0                   1                   0   \n",
       "\n",
       "   Policy_Personal L3  Policy_Special L1  Policy_Special L2  \\\n",
       "0                   0                  0                  0   \n",
       "1                   1                  0                  0   \n",
       "2                   1                  0                  0   \n",
       "3                   0                  0                  0   \n",
       "4                   0                  0                  0   \n",
       "\n",
       "   Policy_Special L3  Renew Offer Type_Offer2  Renew Offer Type_Offer3  \\\n",
       "0                  0                        0                        0   \n",
       "1                  0                        0                        1   \n",
       "2                  0                        0                        0   \n",
       "3                  0                        0                        0   \n",
       "4                  0                        0                        0   \n",
       "\n",
       "   Renew Offer Type_Offer4  Sales Channel_Branch  Sales Channel_Call Center  \\\n",
       "0                        0                     0                          0   \n",
       "1                        0                     0                          0   \n",
       "2                        0                     0                          0   \n",
       "3                        0                     0                          1   \n",
       "4                        0                     0                          0   \n",
       "\n",
       "   Sales Channel_Web  Vehicle Class_Luxury Car  Vehicle Class_Luxury SUV  \\\n",
       "0                  0                         0                         0   \n",
       "1                  0                         0                         0   \n",
       "2                  0                         0                         0   \n",
       "3                  0                         0                         0   \n",
       "4                  0                         0                         0   \n",
       "\n",
       "   Vehicle Class_SUV  Vehicle Class_Sports Car  Vehicle Class_Two-Door Car  \\\n",
       "0                  0                         0                           1   \n",
       "1                  0                         0                           0   \n",
       "2                  0                         0                           1   \n",
       "3                  1                         0                           0   \n",
       "4                  0                         0                           0   \n",
       "\n",
       "   Vehicle Size_Medsize  Vehicle Size_Small  \n",
       "0                     1                   0  \n",
       "1                     1                   0  \n",
       "2                     1                   0  \n",
       "3                     1                   0  \n",
       "4                     1                   0  "
      ]
     },
     "execution_count": 39,
     "metadata": {},
     "output_type": "execute_result"
    }
   ],
   "source": [
    "df_model.head()"
   ]
  },
  {
   "cell_type": "code",
   "execution_count": 40,
   "metadata": {},
   "outputs": [],
   "source": [
    "cols = [col for col in df_model.columns if col != ['Total Claim Labels']]\n",
    "X = df_model[cols]\n",
    "y = df_model['Total Claim Labels']\n",
    "\n"
   ]
  },
  {
   "cell_type": "markdown",
   "metadata": {},
   "source": [
    "### SVM - SVC"
   ]
  },
  {
   "cell_type": "code",
   "execution_count": 41,
   "metadata": {
    "scrolled": true
   },
   "outputs": [
    {
     "data": {
      "text/plain": [
       "SVC(C=1.0, cache_size=200, class_weight=None, coef0=0.0,\n",
       "  decision_function_shape='ovr', degree=3, gamma='auto_deprecated',\n",
       "  kernel='rbf', max_iter=-1, probability=False, random_state=None,\n",
       "  shrinking=True, tol=0.001, verbose=False)"
      ]
     },
     "execution_count": 41,
     "metadata": {},
     "output_type": "execute_result"
    }
   ],
   "source": [
    "clf = svm.SVC()\n",
    "clf"
   ]
  },
  {
   "cell_type": "code",
   "execution_count": 42,
   "metadata": {},
   "outputs": [
    {
     "data": {
      "text/plain": [
       "(7307,)"
      ]
     },
     "metadata": {},
     "output_type": "display_data"
    },
    {
     "data": {
      "text/plain": [
       "(1827,)"
      ]
     },
     "metadata": {},
     "output_type": "display_data"
    },
    {
     "name": "stderr",
     "output_type": "stream",
     "text": [
      "/home/miriam/.local/lib/python3.6/site-packages/sklearn/svm/base.py:196: FutureWarning: The default value of gamma will change from 'auto' to 'scale' in version 0.22 to account better for unscaled features. Set gamma explicitly to 'auto' or 'scale' to avoid this warning.\n",
      "  \"avoid this warning.\", FutureWarning)\n"
     ]
    },
    {
     "name": "stdout",
     "output_type": "stream",
     "text": [
      "Score: 0.5615763546798029\n",
      "Intercept: [-0.44872713  0.0490511   0.47312182]\n",
      "Accuracy SVM: 0.5615763546798029\n"
     ]
    }
   ],
   "source": [
    "X_train, X_test, y_train, y_test = train_test_split(X, y, test_size=0.2)\n",
    "\n",
    "\n",
    "display(y_train.shape)\n",
    "display(y_test.shape)\n",
    "clf = svm.SVC()\n",
    "clf.fit(X_train, y_train)\n",
    "print('Score:', clf.score(X_test, y_test))\n",
    "print('Intercept:', clf.intercept_)\n",
    "y_pred1 = clf.predict(X_test)\n",
    "accuracy_svm = metrics.accuracy_score(y_test, y_pred1)\n",
    "print('Accuracy SVM:', accuracy_svm)"
   ]
  },
  {
   "cell_type": "code",
   "execution_count": 43,
   "metadata": {},
   "outputs": [],
   "source": [
    "def print_matrix(cm, accuracy, model):\n",
    "    plt.figure(figsize=(9,9))\n",
    "    sns.heatmap(cm, annot=True, fmt=\".3f\", linewidths=.5, square = True);\n",
    "    plt.ylabel('True label');\n",
    "    plt.xlabel('Predicted label');\n",
    "    all_sample_title = model, 'Accuracy: {0}'.format(accuracy)\n",
    "    plt.title(all_sample_title, size = 15)\n",
    "    "
   ]
  },
  {
   "cell_type": "code",
   "execution_count": 44,
   "metadata": {},
   "outputs": [],
   "source": [
    "cm_svm = metrics.confusion_matrix(y_test, y_pred1)"
   ]
  },
  {
   "cell_type": "code",
   "execution_count": 45,
   "metadata": {},
   "outputs": [
    {
     "data": {
      "image/png": "[encoded data removed]",
      "text/plain": [
       "<Figure size 648x648 with 2 Axes>"
      ]
     },
     "metadata": {
      "needs_background": "light"
     },
     "output_type": "display_data"
    }
   ],
   "source": [
    "print_matrix(cm_svm, accuracy_svm, model='SVM')"
   ]
  },
  {
   "cell_type": "markdown",
   "metadata": {},
   "source": [
    "### SVM - SVC (Robust Scaler)"
   ]
  },
  {
   "cell_type": "code",
   "execution_count": 46,
   "metadata": {},
   "outputs": [
    {
     "name": "stderr",
     "output_type": "stream",
     "text": [
      "/home/miriam/.local/lib/python3.6/site-packages/sklearn/svm/base.py:196: FutureWarning: The default value of gamma will change from 'auto' to 'scale' in version 0.22 to account better for unscaled features. Set gamma explicitly to 'auto' or 'scale' to avoid this warning.\n",
      "  \"avoid this warning.\", FutureWarning)\n"
     ]
    },
    {
     "name": "stdout",
     "output_type": "stream",
     "text": [
      "SVM Robust - Accuracy: 1.0\n"
     ]
    }
   ],
   "source": [
    "robut_scaler = RobustScaler().fit(X_train)\n",
    "\n",
    "X_train_transform = robut_scaler.fit_transform(X_train)\n",
    "X_test_transform = robut_scaler.transform(X_test)\n",
    "\n",
    "clf.fit(X_train_transform, y_train)\n",
    "clf.score(X_test, y_test)\n",
    "y_pred_transform = clf.predict(X_test_transform)\n",
    "\n",
    "accuracy_svm_Robust = metrics.accuracy_score(y_test, y_pred_transform)\n",
    "\n",
    "print(\"SVM Robust - Accuracy:\", accuracy_svm_Robust)"
   ]
  },
  {
   "cell_type": "markdown",
   "metadata": {},
   "source": [
    "### Logistic Regression "
   ]
  },
  {
   "cell_type": "code",
   "execution_count": 47,
   "metadata": {},
   "outputs": [
    {
     "name": "stderr",
     "output_type": "stream",
     "text": [
      "/home/miriam/.local/lib/python3.6/site-packages/sklearn/linear_model/logistic.py:433: FutureWarning: Default solver will be changed to 'lbfgs' in 0.22. Specify a solver to silence this warning.\n",
      "  FutureWarning)\n",
      "/home/miriam/.local/lib/python3.6/site-packages/sklearn/linear_model/logistic.py:460: FutureWarning: Default multi_class will be changed to 'auto' in 0.22. Specify the multi_class option to silence this warning.\n",
      "  \"this warning.\", FutureWarning)\n"
     ]
    },
    {
     "name": "stdout",
     "output_type": "stream",
     "text": [
      "Logistic Regression - Accuracy: 0.9594964422550629\n"
     ]
    }
   ],
   "source": [
    "clf_logistic = linear_model.LogisticRegression() #multi_class='multinomial', solver='lbfgs'\n",
    "clf_logistic.fit(X_train, y_train)\n",
    "score = clf_logistic.score(X_test, y_test)\n",
    "y_pred_logistic = clf_logistic.predict(X_test)\n",
    "\n",
    "accuracy_logistic = metrics.accuracy_score(y_test, y_pred_logistic)\n",
    "\n",
    "cm_logistic = metrics.confusion_matrix(y_test, y_pred_logistic)\n",
    "\n",
    "\n",
    "print(\"Logistic Regression - Accuracy:\", accuracy_logistic)"
   ]
  },
  {
   "cell_type": "code",
   "execution_count": 48,
   "metadata": {
    "scrolled": true
   },
   "outputs": [
    {
     "data": {
      "image/png": "[encoded data removed]",
      "text/plain": [
       "<Figure size 648x648 with 2 Axes>"
      ]
     },
     "metadata": {
      "needs_background": "light"
     },
     "output_type": "display_data"
    }
   ],
   "source": [
    "print_matrix(cm_logistic, accuracy_logistic, model='Logistic Regression')"
   ]
  },
  {
   "cell_type": "code",
   "execution_count": 49,
   "metadata": {},
   "outputs": [],
   "source": [
    "# from sklearn.metrics import classification_report\n",
    "# print(classification_report(y_test, y_pred))"
   ]
  },
  {
   "cell_type": "markdown",
   "metadata": {},
   "source": [
    "### Robust Scaler"
   ]
  },
  {
   "cell_type": "code",
   "execution_count": 50,
   "metadata": {},
   "outputs": [],
   "source": [
    "# Por Hacer ****"
   ]
  },
  {
   "cell_type": "markdown",
   "metadata": {},
   "source": [
    "### Principal components "
   ]
  },
  {
   "cell_type": "code",
   "execution_count": 51,
   "metadata": {},
   "outputs": [
    {
     "data": {
      "text/html": [
       "<div>\n",
       "<style scoped>\n",
       "    .dataframe tbody tr th:only-of-type {\n",
       "        vertical-align: middle;\n",
       "    }\n",
       "\n",
       "    .dataframe tbody tr th {\n",
       "        vertical-align: top;\n",
       "    }\n",
       "\n",
       "    .dataframe thead th {\n",
       "        text-align: right;\n",
       "    }\n",
       "</style>\n",
       "<table border=\"1\" class=\"dataframe\">\n",
       "  <thead>\n",
       "    <tr style=\"text-align: right;\">\n",
       "      <th></th>\n",
       "      <th>pc1</th>\n",
       "      <th>pc2</th>\n",
       "      <th>pc3</th>\n",
       "      <th>pc4</th>\n",
       "      <th>pc5</th>\n",
       "      <th>pc6</th>\n",
       "    </tr>\n",
       "  </thead>\n",
       "  <tbody>\n",
       "    <tr>\n",
       "      <th>0</th>\n",
       "      <td>18585.936413</td>\n",
       "      <td>-5349.049701</td>\n",
       "      <td>65.957055</td>\n",
       "      <td>-44.392062</td>\n",
       "      <td>-14.614736</td>\n",
       "      <td>25.458866</td>\n",
       "    </tr>\n",
       "    <tr>\n",
       "      <th>1</th>\n",
       "      <td>-37664.848699</td>\n",
       "      <td>-801.034014</td>\n",
       "      <td>575.950466</td>\n",
       "      <td>-9.404871</td>\n",
       "      <td>-42.477761</td>\n",
       "      <td>1.506097</td>\n",
       "    </tr>\n",
       "    <tr>\n",
       "      <th>2</th>\n",
       "      <td>11137.265056</td>\n",
       "      <td>4819.388042</td>\n",
       "      <td>122.144219</td>\n",
       "      <td>-10.547694</td>\n",
       "      <td>-2.977267</td>\n",
       "      <td>20.372182</td>\n",
       "    </tr>\n",
       "    <tr>\n",
       "      <th>3</th>\n",
       "      <td>-37658.938458</td>\n",
       "      <td>-140.732647</td>\n",
       "      <td>-29.576576</td>\n",
       "      <td>17.928041</td>\n",
       "      <td>13.218909</td>\n",
       "      <td>-10.421998</td>\n",
       "    </tr>\n",
       "    <tr>\n",
       "      <th>4</th>\n",
       "      <td>6149.346549</td>\n",
       "      <td>-5229.546661</td>\n",
       "      <td>-222.989407</td>\n",
       "      <td>-3.170168</td>\n",
       "      <td>7.922040</td>\n",
       "      <td>4.053108</td>\n",
       "    </tr>\n",
       "  </tbody>\n",
       "</table>\n",
       "</div>"
      ],
      "text/plain": [
       "            pc1          pc2         pc3        pc4        pc5        pc6\n",
       "0  18585.936413 -5349.049701   65.957055 -44.392062 -14.614736  25.458866\n",
       "1 -37664.848699  -801.034014  575.950466  -9.404871 -42.477761   1.506097\n",
       "2  11137.265056  4819.388042  122.144219 -10.547694  -2.977267  20.372182\n",
       "3 -37658.938458  -140.732647  -29.576576  17.928041  13.218909 -10.421998\n",
       "4   6149.346549 -5229.546661 -222.989407  -3.170168   7.922040   4.053108"
      ]
     },
     "metadata": {},
     "output_type": "display_data"
    },
    {
     "data": {
      "text/plain": [
       "(9134, 6)"
      ]
     },
     "metadata": {},
     "output_type": "display_data"
    },
    {
     "name": "stderr",
     "output_type": "stream",
     "text": [
      "/home/miriam/.local/lib/python3.6/site-packages/sklearn/linear_model/logistic.py:433: FutureWarning: Default solver will be changed to 'lbfgs' in 0.22. Specify a solver to silence this warning.\n",
      "  FutureWarning)\n",
      "/home/miriam/.local/lib/python3.6/site-packages/sklearn/linear_model/logistic.py:460: FutureWarning: Default multi_class will be changed to 'auto' in 0.22. Specify the multi_class option to silence this warning.\n",
      "  \"this warning.\", FutureWarning)\n"
     ]
    },
    {
     "name": "stdout",
     "output_type": "stream",
     "text": [
      "PCA_1 - Accuracy: 0.9304871373836892\n"
     ]
    }
   ],
   "source": [
    "# Principal Components\n",
    "from sklearn.decomposition import PCA\n",
    "\n",
    "pca = PCA(n_components=6)\n",
    "\n",
    "principalComponents = pca.fit_transform(X)\n",
    "\n",
    "df_pca = pd.DataFrame(data=principalComponents, columns =['pc1', 'pc2','pc3','pc4', 'pc5','pc6'])\n",
    "display(df_pca.head())\n",
    "display(df_pca.shape)\n",
    "\n",
    "\n",
    "X = df_pca\n",
    "y = df_model['Total Claim Labels']\n",
    "\n",
    "X_pca = df_pca\n",
    "y_pca = df_model['Total Claim Labels']\n",
    "\n",
    "X_train_pca, X_test_pca, y_train_pca, y_test_pca = train_test_split(X_pca, y_pca, test_size=0.2)\n",
    "\n",
    "\n",
    "clf_logistic.fit(X_train_pca, y_train_pca)\n",
    "clf_logistic.score(X_test_pca, y_test_pca)\n",
    "y_pred_logistic_pca = clf_logistic.predict(X_test_pca)\n",
    "\n",
    "accuracy_pca1 = metrics.accuracy_score(y_test_pca, y_pred_logistic_pca)\n",
    "\n",
    "print ('PCA_1 - Accuracy:', accuracy_pca1)"
   ]
  },
  {
   "cell_type": "code",
   "execution_count": 52,
   "metadata": {},
   "outputs": [
    {
     "data": {
      "text/html": [
       "<div>\n",
       "<style scoped>\n",
       "    .dataframe tbody tr th:only-of-type {\n",
       "        vertical-align: middle;\n",
       "    }\n",
       "\n",
       "    .dataframe tbody tr th {\n",
       "        vertical-align: top;\n",
       "    }\n",
       "\n",
       "    .dataframe thead th {\n",
       "        text-align: right;\n",
       "    }\n",
       "</style>\n",
       "<table border=\"1\" class=\"dataframe\">\n",
       "  <thead>\n",
       "    <tr style=\"text-align: right;\">\n",
       "      <th></th>\n",
       "      <th>pc1</th>\n",
       "      <th>pc2</th>\n",
       "    </tr>\n",
       "  </thead>\n",
       "  <tbody>\n",
       "    <tr>\n",
       "      <th>0</th>\n",
       "      <td>18585.936413</td>\n",
       "      <td>-5349.049701</td>\n",
       "    </tr>\n",
       "    <tr>\n",
       "      <th>1</th>\n",
       "      <td>-37664.848699</td>\n",
       "      <td>-801.034014</td>\n",
       "    </tr>\n",
       "    <tr>\n",
       "      <th>2</th>\n",
       "      <td>11137.265056</td>\n",
       "      <td>4819.388042</td>\n",
       "    </tr>\n",
       "    <tr>\n",
       "      <th>3</th>\n",
       "      <td>-37658.938458</td>\n",
       "      <td>-140.732647</td>\n",
       "    </tr>\n",
       "    <tr>\n",
       "      <th>4</th>\n",
       "      <td>6149.346549</td>\n",
       "      <td>-5229.546661</td>\n",
       "    </tr>\n",
       "  </tbody>\n",
       "</table>\n",
       "</div>"
      ],
      "text/plain": [
       "            pc1          pc2\n",
       "0  18585.936413 -5349.049701\n",
       "1 -37664.848699  -801.034014\n",
       "2  11137.265056  4819.388042\n",
       "3 -37658.938458  -140.732647\n",
       "4   6149.346549 -5229.546661"
      ]
     },
     "metadata": {},
     "output_type": "display_data"
    },
    {
     "data": {
      "text/plain": [
       "(9134, 2)"
      ]
     },
     "metadata": {},
     "output_type": "display_data"
    },
    {
     "name": "stdout",
     "output_type": "stream",
     "text": [
      "PCA_2 - Accuracy: 0.43349753694581283\n"
     ]
    },
    {
     "name": "stderr",
     "output_type": "stream",
     "text": [
      "/home/miriam/.local/lib/python3.6/site-packages/sklearn/linear_model/logistic.py:433: FutureWarning: Default solver will be changed to 'lbfgs' in 0.22. Specify a solver to silence this warning.\n",
      "  FutureWarning)\n",
      "/home/miriam/.local/lib/python3.6/site-packages/sklearn/linear_model/logistic.py:460: FutureWarning: Default multi_class will be changed to 'auto' in 0.22. Specify the multi_class option to silence this warning.\n",
      "  \"this warning.\", FutureWarning)\n"
     ]
    }
   ],
   "source": [
    "# Principal Components\n",
    "from sklearn.decomposition import PCA\n",
    "\n",
    "pca = PCA(n_components=2)\n",
    "\n",
    "principalComponents2 = pca.fit_transform(X)\n",
    "\n",
    "df_pca2 = pd.DataFrame(data=principalComponents2, columns =['pc1', 'pc2'])\n",
    "display(df_pca2.head())\n",
    "display(df_pca2.shape)\n",
    "\n",
    "\n",
    "X = df_pca2\n",
    "y = df_model['Total Claim Labels']\n",
    "\n",
    "X_pca = df_pca2\n",
    "y_pca = df_model['Total Claim Labels']\n",
    "\n",
    "X_train_pca2, X_test_pca2, y_train_pca2, y_test_pca2 = train_test_split(X_pca, y_pca, test_size=0.2)\n",
    "\n",
    "\n",
    "clf_logistic.fit(X_train_pca2, y_train_pca2)\n",
    "clf_logistic.score(X_test_pca2, y_test_pca2)\n",
    "y_pred_logistic_pca2 = clf_logistic.predict(X_test_pca2)\n",
    "\n",
    "accuracy_pca2 = metrics.accuracy_score(y_test_pca, y_pred_logistic_pca2)\n",
    "\n",
    "print ('PCA_2 - Accuracy:', accuracy_pca2)"
   ]
  },
  {
   "cell_type": "markdown",
   "metadata": {},
   "source": [
    "### Cross Validation Score"
   ]
  },
  {
   "cell_type": "code",
   "execution_count": 53,
   "metadata": {},
   "outputs": [
    {
     "name": "stdout",
     "output_type": "stream",
     "text": [
      "KFold(n_splits=10, random_state=None, shuffle=False)\n"
     ]
    }
   ],
   "source": [
    "# https://towardsdatascience.com/train-test-split-and-cross-validation-in-python-80b61beca4b6\n",
    "\n",
    "from sklearn.model_selection import KFold \n",
    "\n",
    "X_val = df_model[cols]\n",
    "y_val = df_model['Total Claim Labels']\n",
    "kf = KFold(n_splits=10)\n",
    "kf.get_n_splits(X) \n",
    "\n",
    "print(kf) "
   ]
  },
  {
   "cell_type": "code",
   "execution_count": 54,
   "metadata": {},
   "outputs": [
    {
     "name": "stdout",
     "output_type": "stream",
     "text": [
      "TRAIN: [ 914  915  916 ... 9131 9132 9133] TEST: [  0   1   2   3   4   5   6   7   8   9  10  11  12  13  14  15  16  17\n",
      "  18  19  20  21  22  23  24  25  26  27  28  29  30  31  32  33  34  35\n",
      "  36  37  38  39  40  41  42  43  44  45  46  47  48  49  50  51  52  53\n",
      "  54  55  56  57  58  59  60  61  62  63  64  65  66  67  68  69  70  71\n",
      "  72  73  74  75  76  77  78  79  80  81  82  83  84  85  86  87  88  89\n",
      "  90  91  92  93  94  95  96  97  98  99 100 101 102 103 104 105 106 107\n",
      " 108 109 110 111 112 113 114 115 116 117 118 119 120 121 122 123 124 125\n",
      " 126 127 128 129 130 131 132 133 134 135 136 137 138 139 140 141 142 143\n",
      " 144 145 146 147 148 149 150 151 152 153 154 155 156 157 158 159 160 161\n",
      " 162 163 164 165 166 167 168 169 170 171 172 173 174 175 176 177 178 179\n",
      " 180 181 182 183 184 185 186 187 188 189 190 191 192 193 194 195 196 197\n",
      " 198 199 200 201 202 203 204 205 206 207 208 209 210 211 212 213 214 215\n",
      " 216 217 218 219 220 221 222 223 224 225 226 227 228 229 230 231 232 233\n",
      " 234 235 236 237 238 239 240 241 242 243 244 245 246 247 248 249 250 251\n",
      " 252 253 254 255 256 257 258 259 260 261 262 263 264 265 266 267 268 269\n",
      " 270 271 272 273 274 275 276 277 278 279 280 281 282 283 284 285 286 287\n",
      " 288 289 290 291 292 293 294 295 296 297 298 299 300 301 302 303 304 305\n",
      " 306 307 308 309 310 311 312 313 314 315 316 317 318 319 320 321 322 323\n",
      " 324 325 326 327 328 329 330 331 332 333 334 335 336 337 338 339 340 341\n",
      " 342 343 344 345 346 347 348 349 350 351 352 353 354 355 356 357 358 359\n",
      " 360 361 362 363 364 365 366 367 368 369 370 371 372 373 374 375 376 377\n",
      " 378 379 380 381 382 383 384 385 386 387 388 389 390 391 392 393 394 395\n",
      " 396 397 398 399 400 401 402 403 404 405 406 407 408 409 410 411 412 413\n",
      " 414 415 416 417 418 419 420 421 422 423 424 425 426 427 428 429 430 431\n",
      " 432 433 434 435 436 437 438 439 440 441 442 443 444 445 446 447 448 449\n",
      " 450 451 452 453 454 455 456 457 458 459 460 461 462 463 464 465 466 467\n",
      " 468 469 470 471 472 473 474 475 476 477 478 479 480 481 482 483 484 485\n",
      " 486 487 488 489 490 491 492 493 494 495 496 497 498 499 500 501 502 503\n",
      " 504 505 506 507 508 509 510 511 512 513 514 515 516 517 518 519 520 521\n",
      " 522 523 524 525 526 527 528 529 530 531 532 533 534 535 536 537 538 539\n",
      " 540 541 542 543 544 545 546 547 548 549 550 551 552 553 554 555 556 557\n",
      " 558 559 560 561 562 563 564 565 566 567 568 569 570 571 572 573 574 575\n",
      " 576 577 578 579 580 581 582 583 584 585 586 587 588 589 590 591 592 593\n",
      " 594 595 596 597 598 599 600 601 602 603 604 605 606 607 608 609 610 611\n",
      " 612 613 614 615 616 617 618 619 620 621 622 623 624 625 626 627 628 629\n",
      " 630 631 632 633 634 635 636 637 638 639 640 641 642 643 644 645 646 647\n",
      " 648 649 650 651 652 653 654 655 656 657 658 659 660 661 662 663 664 665\n",
      " 666 667 668 669 670 671 672 673 674 675 676 677 678 679 680 681 682 683\n",
      " 684 685 686 687 688 689 690 691 692 693 694 695 696 697 698 699 700 701\n",
      " 702 703 704 705 706 707 708 709 710 711 712 713 714 715 716 717 718 719\n",
      " 720 721 722 723 724 725 726 727 728 729 730 731 732 733 734 735 736 737\n",
      " 738 739 740 741 742 743 744 745 746 747 748 749 750 751 752 753 754 755\n",
      " 756 757 758 759 760 761 762 763 764 765 766 767 768 769 770 771 772 773\n",
      " 774 775 776 777 778 779 780 781 782 783 784 785 786 787 788 789 790 791\n",
      " 792 793 794 795 796 797 798 799 800 801 802 803 804 805 806 807 808 809\n",
      " 810 811 812 813 814 815 816 817 818 819 820 821 822 823 824 825 826 827\n",
      " 828 829 830 831 832 833 834 835 836 837 838 839 840 841 842 843 844 845\n",
      " 846 847 848 849 850 851 852 853 854 855 856 857 858 859 860 861 862 863\n",
      " 864 865 866 867 868 869 870 871 872 873 874 875 876 877 878 879 880 881\n",
      " 882 883 884 885 886 887 888 889 890 891 892 893 894 895 896 897 898 899\n",
      " 900 901 902 903 904 905 906 907 908 909 910 911 912 913]\n",
      "TRAIN: [   0    1    2 ... 9131 9132 9133] TEST: [ 914  915  916  917  918  919  920  921  922  923  924  925  926  927\n",
      "  928  929  930  931  932  933  934  935  936  937  938  939  940  941\n",
      "  942  943  944  945  946  947  948  949  950  951  952  953  954  955\n",
      "  956  957  958  959  960  961  962  963  964  965  966  967  968  969\n",
      "  970  971  972  973  974  975  976  977  978  979  980  981  982  983\n",
      "  984  985  986  987  988  989  990  991  992  993  994  995  996  997\n",
      "  998  999 1000 1001 1002 1003 1004 1005 1006 1007 1008 1009 1010 1011\n",
      " 1012 1013 1014 1015 1016 1017 1018 1019 1020 1021 1022 1023 1024 1025\n",
      " 1026 1027 1028 1029 1030 1031 1032 1033 1034 1035 1036 1037 1038 1039\n",
      " 1040 1041 1042 1043 1044 1045 1046 1047 1048 1049 1050 1051 1052 1053\n",
      " 1054 1055 1056 1057 1058 1059 1060 1061 1062 1063 1064 1065 1066 1067\n",
      " 1068 1069 1070 1071 1072 1073 1074 1075 1076 1077 1078 1079 1080 1081\n",
      " 1082 1083 1084 1085 1086 1087 1088 1089 1090 1091 1092 1093 1094 1095\n",
      " 1096 1097 1098 1099 1100 1101 1102 1103 1104 1105 1106 1107 1108 1109\n",
      " 1110 1111 1112 1113 1114 1115 1116 1117 1118 1119 1120 1121 1122 1123\n",
      " 1124 1125 1126 1127 1128 1129 1130 1131 1132 1133 1134 1135 1136 1137\n",
      " 1138 1139 1140 1141 1142 1143 1144 1145 1146 1147 1148 1149 1150 1151\n",
      " 1152 1153 1154 1155 1156 1157 1158 1159 1160 1161 1162 1163 1164 1165\n",
      " 1166 1167 1168 1169 1170 1171 1172 1173 1174 1175 1176 1177 1178 1179\n",
      " 1180 1181 1182 1183 1184 1185 1186 1187 1188 1189 1190 1191 1192 1193\n",
      " 1194 1195 1196 1197 1198 1199 1200 1201 1202 1203 1204 1205 1206 1207\n",
      " 1208 1209 1210 1211 1212 1213 1214 1215 1216 1217 1218 1219 1220 1221\n",
      " 1222 1223 1224 1225 1226 1227 1228 1229 1230 1231 1232 1233 1234 1235\n",
      " 1236 1237 1238 1239 1240 1241 1242 1243 1244 1245 1246 1247 1248 1249\n",
      " 1250 1251 1252 1253 1254 1255 1256 1257 1258 1259 1260 1261 1262 1263\n",
      " 1264 1265 1266 1267 1268 1269 1270 1271 1272 1273 1274 1275 1276 1277\n",
      " 1278 1279 1280 1281 1282 1283 1284 1285 1286 1287 1288 1289 1290 1291\n",
      " 1292 1293 1294 1295 1296 1297 1298 1299 1300 1301 1302 1303 1304 1305\n",
      " 1306 1307 1308 1309 1310 1311 1312 1313 1314 1315 1316 1317 1318 1319\n",
      " 1320 1321 1322 1323 1324 1325 1326 1327 1328 1329 1330 1331 1332 1333\n",
      " 1334 1335 1336 1337 1338 1339 1340 1341 1342 1343 1344 1345 1346 1347\n",
      " 1348 1349 1350 1351 1352 1353 1354 1355 1356 1357 1358 1359 1360 1361\n",
      " 1362 1363 1364 1365 1366 1367 1368 1369 1370 1371 1372 1373 1374 1375\n",
      " 1376 1377 1378 1379 1380 1381 1382 1383 1384 1385 1386 1387 1388 1389\n",
      " 1390 1391 1392 1393 1394 1395 1396 1397 1398 1399 1400 1401 1402 1403\n",
      " 1404 1405 1406 1407 1408 1409 1410 1411 1412 1413 1414 1415 1416 1417\n",
      " 1418 1419 1420 1421 1422 1423 1424 1425 1426 1427 1428 1429 1430 1431\n",
      " 1432 1433 1434 1435 1436 1437 1438 1439 1440 1441 1442 1443 1444 1445\n",
      " 1446 1447 1448 1449 1450 1451 1452 1453 1454 1455 1456 1457 1458 1459\n",
      " 1460 1461 1462 1463 1464 1465 1466 1467 1468 1469 1470 1471 1472 1473\n",
      " 1474 1475 1476 1477 1478 1479 1480 1481 1482 1483 1484 1485 1486 1487\n",
      " 1488 1489 1490 1491 1492 1493 1494 1495 1496 1497 1498 1499 1500 1501\n",
      " 1502 1503 1504 1505 1506 1507 1508 1509 1510 1511 1512 1513 1514 1515\n",
      " 1516 1517 1518 1519 1520 1521 1522 1523 1524 1525 1526 1527 1528 1529\n",
      " 1530 1531 1532 1533 1534 1535 1536 1537 1538 1539 1540 1541 1542 1543\n",
      " 1544 1545 1546 1547 1548 1549 1550 1551 1552 1553 1554 1555 1556 1557\n",
      " 1558 1559 1560 1561 1562 1563 1564 1565 1566 1567 1568 1569 1570 1571\n",
      " 1572 1573 1574 1575 1576 1577 1578 1579 1580 1581 1582 1583 1584 1585\n",
      " 1586 1587 1588 1589 1590 1591 1592 1593 1594 1595 1596 1597 1598 1599\n",
      " 1600 1601 1602 1603 1604 1605 1606 1607 1608 1609 1610 1611 1612 1613\n",
      " 1614 1615 1616 1617 1618 1619 1620 1621 1622 1623 1624 1625 1626 1627\n",
      " 1628 1629 1630 1631 1632 1633 1634 1635 1636 1637 1638 1639 1640 1641\n",
      " 1642 1643 1644 1645 1646 1647 1648 1649 1650 1651 1652 1653 1654 1655\n",
      " 1656 1657 1658 1659 1660 1661 1662 1663 1664 1665 1666 1667 1668 1669\n",
      " 1670 1671 1672 1673 1674 1675 1676 1677 1678 1679 1680 1681 1682 1683\n",
      " 1684 1685 1686 1687 1688 1689 1690 1691 1692 1693 1694 1695 1696 1697\n",
      " 1698 1699 1700 1701 1702 1703 1704 1705 1706 1707 1708 1709 1710 1711\n",
      " 1712 1713 1714 1715 1716 1717 1718 1719 1720 1721 1722 1723 1724 1725\n",
      " 1726 1727 1728 1729 1730 1731 1732 1733 1734 1735 1736 1737 1738 1739\n",
      " 1740 1741 1742 1743 1744 1745 1746 1747 1748 1749 1750 1751 1752 1753\n",
      " 1754 1755 1756 1757 1758 1759 1760 1761 1762 1763 1764 1765 1766 1767\n",
      " 1768 1769 1770 1771 1772 1773 1774 1775 1776 1777 1778 1779 1780 1781\n",
      " 1782 1783 1784 1785 1786 1787 1788 1789 1790 1791 1792 1793 1794 1795\n",
      " 1796 1797 1798 1799 1800 1801 1802 1803 1804 1805 1806 1807 1808 1809\n",
      " 1810 1811 1812 1813 1814 1815 1816 1817 1818 1819 1820 1821 1822 1823\n",
      " 1824 1825 1826 1827]\n",
      "TRAIN: [   0    1    2 ... 9131 9132 9133] TEST: [1828 1829 1830 1831 1832 1833 1834 1835 1836 1837 1838 1839 1840 1841\n",
      " 1842 1843 1844 1845 1846 1847 1848 1849 1850 1851 1852 1853 1854 1855\n",
      " 1856 1857 1858 1859 1860 1861 1862 1863 1864 1865 1866 1867 1868 1869\n",
      " 1870 1871 1872 1873 1874 1875 1876 1877 1878 1879 1880 1881 1882 1883\n",
      " 1884 1885 1886 1887 1888 1889 1890 1891 1892 1893 1894 1895 1896 1897\n",
      " 1898 1899 1900 1901 1902 1903 1904 1905 1906 1907 1908 1909 1910 1911\n",
      " 1912 1913 1914 1915 1916 1917 1918 1919 1920 1921 1922 1923 1924 1925\n",
      " 1926 1927 1928 1929 1930 1931 1932 1933 1934 1935 1936 1937 1938 1939\n",
      " 1940 1941 1942 1943 1944 1945 1946 1947 1948 1949 1950 1951 1952 1953\n",
      " 1954 1955 1956 1957 1958 1959 1960 1961 1962 1963 1964 1965 1966 1967\n",
      " 1968 1969 1970 1971 1972 1973 1974 1975 1976 1977 1978 1979 1980 1981\n",
      " 1982 1983 1984 1985 1986 1987 1988 1989 1990 1991 1992 1993 1994 1995\n",
      " 1996 1997 1998 1999 2000 2001 2002 2003 2004 2005 2006 2007 2008 2009\n",
      " 2010 2011 2012 2013 2014 2015 2016 2017 2018 2019 2020 2021 2022 2023\n",
      " 2024 2025 2026 2027 2028 2029 2030 2031 2032 2033 2034 2035 2036 2037\n",
      " 2038 2039 2040 2041 2042 2043 2044 2045 2046 2047 2048 2049 2050 2051\n",
      " 2052 2053 2054 2055 2056 2057 2058 2059 2060 2061 2062 2063 2064 2065\n",
      " 2066 2067 2068 2069 2070 2071 2072 2073 2074 2075 2076 2077 2078 2079\n",
      " 2080 2081 2082 2083 2084 2085 2086 2087 2088 2089 2090 2091 2092 2093\n",
      " 2094 2095 2096 2097 2098 2099 2100 2101 2102 2103 2104 2105 2106 2107\n",
      " 2108 2109 2110 2111 2112 2113 2114 2115 2116 2117 2118 2119 2120 2121\n",
      " 2122 2123 2124 2125 2126 2127 2128 2129 2130 2131 2132 2133 2134 2135\n",
      " 2136 2137 2138 2139 2140 2141 2142 2143 2144 2145 2146 2147 2148 2149\n",
      " 2150 2151 2152 2153 2154 2155 2156 2157 2158 2159 2160 2161 2162 2163\n",
      " 2164 2165 2166 2167 2168 2169 2170 2171 2172 2173 2174 2175 2176 2177\n",
      " 2178 2179 2180 2181 2182 2183 2184 2185 2186 2187 2188 2189 2190 2191\n",
      " 2192 2193 2194 2195 2196 2197 2198 2199 2200 2201 2202 2203 2204 2205\n",
      " 2206 2207 2208 2209 2210 2211 2212 2213 2214 2215 2216 2217 2218 2219\n",
      " 2220 2221 2222 2223 2224 2225 2226 2227 2228 2229 2230 2231 2232 2233\n",
      " 2234 2235 2236 2237 2238 2239 2240 2241 2242 2243 2244 2245 2246 2247\n",
      " 2248 2249 2250 2251 2252 2253 2254 2255 2256 2257 2258 2259 2260 2261\n",
      " 2262 2263 2264 2265 2266 2267 2268 2269 2270 2271 2272 2273 2274 2275\n",
      " 2276 2277 2278 2279 2280 2281 2282 2283 2284 2285 2286 2287 2288 2289\n",
      " 2290 2291 2292 2293 2294 2295 2296 2297 2298 2299 2300 2301 2302 2303\n",
      " 2304 2305 2306 2307 2308 2309 2310 2311 2312 2313 2314 2315 2316 2317\n",
      " 2318 2319 2320 2321 2322 2323 2324 2325 2326 2327 2328 2329 2330 2331\n",
      " 2332 2333 2334 2335 2336 2337 2338 2339 2340 2341 2342 2343 2344 2345\n",
      " 2346 2347 2348 2349 2350 2351 2352 2353 2354 2355 2356 2357 2358 2359\n",
      " 2360 2361 2362 2363 2364 2365 2366 2367 2368 2369 2370 2371 2372 2373\n",
      " 2374 2375 2376 2377 2378 2379 2380 2381 2382 2383 2384 2385 2386 2387\n",
      " 2388 2389 2390 2391 2392 2393 2394 2395 2396 2397 2398 2399 2400 2401\n",
      " 2402 2403 2404 2405 2406 2407 2408 2409 2410 2411 2412 2413 2414 2415\n",
      " 2416 2417 2418 2419 2420 2421 2422 2423 2424 2425 2426 2427 2428 2429\n",
      " 2430 2431 2432 2433 2434 2435 2436 2437 2438 2439 2440 2441 2442 2443\n",
      " 2444 2445 2446 2447 2448 2449 2450 2451 2452 2453 2454 2455 2456 2457\n",
      " 2458 2459 2460 2461 2462 2463 2464 2465 2466 2467 2468 2469 2470 2471\n",
      " 2472 2473 2474 2475 2476 2477 2478 2479 2480 2481 2482 2483 2484 2485\n",
      " 2486 2487 2488 2489 2490 2491 2492 2493 2494 2495 2496 2497 2498 2499\n",
      " 2500 2501 2502 2503 2504 2505 2506 2507 2508 2509 2510 2511 2512 2513\n",
      " 2514 2515 2516 2517 2518 2519 2520 2521 2522 2523 2524 2525 2526 2527\n",
      " 2528 2529 2530 2531 2532 2533 2534 2535 2536 2537 2538 2539 2540 2541\n",
      " 2542 2543 2544 2545 2546 2547 2548 2549 2550 2551 2552 2553 2554 2555\n",
      " 2556 2557 2558 2559 2560 2561 2562 2563 2564 2565 2566 2567 2568 2569\n",
      " 2570 2571 2572 2573 2574 2575 2576 2577 2578 2579 2580 2581 2582 2583\n",
      " 2584 2585 2586 2587 2588 2589 2590 2591 2592 2593 2594 2595 2596 2597\n",
      " 2598 2599 2600 2601 2602 2603 2604 2605 2606 2607 2608 2609 2610 2611\n",
      " 2612 2613 2614 2615 2616 2617 2618 2619 2620 2621 2622 2623 2624 2625\n",
      " 2626 2627 2628 2629 2630 2631 2632 2633 2634 2635 2636 2637 2638 2639\n",
      " 2640 2641 2642 2643 2644 2645 2646 2647 2648 2649 2650 2651 2652 2653\n",
      " 2654 2655 2656 2657 2658 2659 2660 2661 2662 2663 2664 2665 2666 2667\n",
      " 2668 2669 2670 2671 2672 2673 2674 2675 2676 2677 2678 2679 2680 2681\n",
      " 2682 2683 2684 2685 2686 2687 2688 2689 2690 2691 2692 2693 2694 2695\n",
      " 2696 2697 2698 2699 2700 2701 2702 2703 2704 2705 2706 2707 2708 2709\n",
      " 2710 2711 2712 2713 2714 2715 2716 2717 2718 2719 2720 2721 2722 2723\n",
      " 2724 2725 2726 2727 2728 2729 2730 2731 2732 2733 2734 2735 2736 2737\n",
      " 2738 2739 2740 2741]\n"
     ]
    },
    {
     "name": "stdout",
     "output_type": "stream",
     "text": [
      "TRAIN: [   0    1    2 ... 9131 9132 9133] TEST: [2742 2743 2744 2745 2746 2747 2748 2749 2750 2751 2752 2753 2754 2755\n",
      " 2756 2757 2758 2759 2760 2761 2762 2763 2764 2765 2766 2767 2768 2769\n",
      " 2770 2771 2772 2773 2774 2775 2776 2777 2778 2779 2780 2781 2782 2783\n",
      " 2784 2785 2786 2787 2788 2789 2790 2791 2792 2793 2794 2795 2796 2797\n",
      " 2798 2799 2800 2801 2802 2803 2804 2805 2806 2807 2808 2809 2810 2811\n",
      " 2812 2813 2814 2815 2816 2817 2818 2819 2820 2821 2822 2823 2824 2825\n",
      " 2826 2827 2828 2829 2830 2831 2832 2833 2834 2835 2836 2837 2838 2839\n",
      " 2840 2841 2842 2843 2844 2845 2846 2847 2848 2849 2850 2851 2852 2853\n",
      " 2854 2855 2856 2857 2858 2859 2860 2861 2862 2863 2864 2865 2866 2867\n",
      " 2868 2869 2870 2871 2872 2873 2874 2875 2876 2877 2878 2879 2880 2881\n",
      " 2882 2883 2884 2885 2886 2887 2888 2889 2890 2891 2892 2893 2894 2895\n",
      " 2896 2897 2898 2899 2900 2901 2902 2903 2904 2905 2906 2907 2908 2909\n",
      " 2910 2911 2912 2913 2914 2915 2916 2917 2918 2919 2920 2921 2922 2923\n",
      " 2924 2925 2926 2927 2928 2929 2930 2931 2932 2933 2934 2935 2936 2937\n",
      " 2938 2939 2940 2941 2942 2943 2944 2945 2946 2947 2948 2949 2950 2951\n",
      " 2952 2953 2954 2955 2956 2957 2958 2959 2960 2961 2962 2963 2964 2965\n",
      " 2966 2967 2968 2969 2970 2971 2972 2973 2974 2975 2976 2977 2978 2979\n",
      " 2980 2981 2982 2983 2984 2985 2986 2987 2988 2989 2990 2991 2992 2993\n",
      " 2994 2995 2996 2997 2998 2999 3000 3001 3002 3003 3004 3005 3006 3007\n",
      " 3008 3009 3010 3011 3012 3013 3014 3015 3016 3017 3018 3019 3020 3021\n",
      " 3022 3023 3024 3025 3026 3027 3028 3029 3030 3031 3032 3033 3034 3035\n",
      " 3036 3037 3038 3039 3040 3041 3042 3043 3044 3045 3046 3047 3048 3049\n",
      " 3050 3051 3052 3053 3054 3055 3056 3057 3058 3059 3060 3061 3062 3063\n",
      " 3064 3065 3066 3067 3068 3069 3070 3071 3072 3073 3074 3075 3076 3077\n",
      " 3078 3079 3080 3081 3082 3083 3084 3085 3086 3087 3088 3089 3090 3091\n",
      " 3092 3093 3094 3095 3096 3097 3098 3099 3100 3101 3102 3103 3104 3105\n",
      " 3106 3107 3108 3109 3110 3111 3112 3113 3114 3115 3116 3117 3118 3119\n",
      " 3120 3121 3122 3123 3124 3125 3126 3127 3128 3129 3130 3131 3132 3133\n",
      " 3134 3135 3136 3137 3138 3139 3140 3141 3142 3143 3144 3145 3146 3147\n",
      " 3148 3149 3150 3151 3152 3153 3154 3155 3156 3157 3158 3159 3160 3161\n",
      " 3162 3163 3164 3165 3166 3167 3168 3169 3170 3171 3172 3173 3174 3175\n",
      " 3176 3177 3178 3179 3180 3181 3182 3183 3184 3185 3186 3187 3188 3189\n",
      " 3190 3191 3192 3193 3194 3195 3196 3197 3198 3199 3200 3201 3202 3203\n",
      " 3204 3205 3206 3207 3208 3209 3210 3211 3212 3213 3214 3215 3216 3217\n",
      " 3218 3219 3220 3221 3222 3223 3224 3225 3226 3227 3228 3229 3230 3231\n",
      " 3232 3233 3234 3235 3236 3237 3238 3239 3240 3241 3242 3243 3244 3245\n",
      " 3246 3247 3248 3249 3250 3251 3252 3253 3254 3255 3256 3257 3258 3259\n",
      " 3260 3261 3262 3263 3264 3265 3266 3267 3268 3269 3270 3271 3272 3273\n",
      " 3274 3275 3276 3277 3278 3279 3280 3281 3282 3283 3284 3285 3286 3287\n",
      " 3288 3289 3290 3291 3292 3293 3294 3295 3296 3297 3298 3299 3300 3301\n",
      " 3302 3303 3304 3305 3306 3307 3308 3309 3310 3311 3312 3313 3314 3315\n",
      " 3316 3317 3318 3319 3320 3321 3322 3323 3324 3325 3326 3327 3328 3329\n",
      " 3330 3331 3332 3333 3334 3335 3336 3337 3338 3339 3340 3341 3342 3343\n",
      " 3344 3345 3346 3347 3348 3349 3350 3351 3352 3353 3354 3355 3356 3357\n",
      " 3358 3359 3360 3361 3362 3363 3364 3365 3366 3367 3368 3369 3370 3371\n",
      " 3372 3373 3374 3375 3376 3377 3378 3379 3380 3381 3382 3383 3384 3385\n",
      " 3386 3387 3388 3389 3390 3391 3392 3393 3394 3395 3396 3397 3398 3399\n",
      " 3400 3401 3402 3403 3404 3405 3406 3407 3408 3409 3410 3411 3412 3413\n",
      " 3414 3415 3416 3417 3418 3419 3420 3421 3422 3423 3424 3425 3426 3427\n",
      " 3428 3429 3430 3431 3432 3433 3434 3435 3436 3437 3438 3439 3440 3441\n",
      " 3442 3443 3444 3445 3446 3447 3448 3449 3450 3451 3452 3453 3454 3455\n",
      " 3456 3457 3458 3459 3460 3461 3462 3463 3464 3465 3466 3467 3468 3469\n",
      " 3470 3471 3472 3473 3474 3475 3476 3477 3478 3479 3480 3481 3482 3483\n",
      " 3484 3485 3486 3487 3488 3489 3490 3491 3492 3493 3494 3495 3496 3497\n",
      " 3498 3499 3500 3501 3502 3503 3504 3505 3506 3507 3508 3509 3510 3511\n",
      " 3512 3513 3514 3515 3516 3517 3518 3519 3520 3521 3522 3523 3524 3525\n",
      " 3526 3527 3528 3529 3530 3531 3532 3533 3534 3535 3536 3537 3538 3539\n",
      " 3540 3541 3542 3543 3544 3545 3546 3547 3548 3549 3550 3551 3552 3553\n",
      " 3554 3555 3556 3557 3558 3559 3560 3561 3562 3563 3564 3565 3566 3567\n",
      " 3568 3569 3570 3571 3572 3573 3574 3575 3576 3577 3578 3579 3580 3581\n",
      " 3582 3583 3584 3585 3586 3587 3588 3589 3590 3591 3592 3593 3594 3595\n",
      " 3596 3597 3598 3599 3600 3601 3602 3603 3604 3605 3606 3607 3608 3609\n",
      " 3610 3611 3612 3613 3614 3615 3616 3617 3618 3619 3620 3621 3622 3623\n",
      " 3624 3625 3626 3627 3628 3629 3630 3631 3632 3633 3634 3635 3636 3637\n",
      " 3638 3639 3640 3641 3642 3643 3644 3645 3646 3647 3648 3649 3650 3651\n",
      " 3652 3653 3654 3655]\n",
      "TRAIN: [   0    1    2 ... 9131 9132 9133] TEST: [3656 3657 3658 3659 3660 3661 3662 3663 3664 3665 3666 3667 3668 3669\n",
      " 3670 3671 3672 3673 3674 3675 3676 3677 3678 3679 3680 3681 3682 3683\n",
      " 3684 3685 3686 3687 3688 3689 3690 3691 3692 3693 3694 3695 3696 3697\n",
      " 3698 3699 3700 3701 3702 3703 3704 3705 3706 3707 3708 3709 3710 3711\n",
      " 3712 3713 3714 3715 3716 3717 3718 3719 3720 3721 3722 3723 3724 3725\n",
      " 3726 3727 3728 3729 3730 3731 3732 3733 3734 3735 3736 3737 3738 3739\n",
      " 3740 3741 3742 3743 3744 3745 3746 3747 3748 3749 3750 3751 3752 3753\n",
      " 3754 3755 3756 3757 3758 3759 3760 3761 3762 3763 3764 3765 3766 3767\n",
      " 3768 3769 3770 3771 3772 3773 3774 3775 3776 3777 3778 3779 3780 3781\n",
      " 3782 3783 3784 3785 3786 3787 3788 3789 3790 3791 3792 3793 3794 3795\n",
      " 3796 3797 3798 3799 3800 3801 3802 3803 3804 3805 3806 3807 3808 3809\n",
      " 3810 3811 3812 3813 3814 3815 3816 3817 3818 3819 3820 3821 3822 3823\n",
      " 3824 3825 3826 3827 3828 3829 3830 3831 3832 3833 3834 3835 3836 3837\n",
      " 3838 3839 3840 3841 3842 3843 3844 3845 3846 3847 3848 3849 3850 3851\n",
      " 3852 3853 3854 3855 3856 3857 3858 3859 3860 3861 3862 3863 3864 3865\n",
      " 3866 3867 3868 3869 3870 3871 3872 3873 3874 3875 3876 3877 3878 3879\n",
      " 3880 3881 3882 3883 3884 3885 3886 3887 3888 3889 3890 3891 3892 3893\n",
      " 3894 3895 3896 3897 3898 3899 3900 3901 3902 3903 3904 3905 3906 3907\n",
      " 3908 3909 3910 3911 3912 3913 3914 3915 3916 3917 3918 3919 3920 3921\n",
      " 3922 3923 3924 3925 3926 3927 3928 3929 3930 3931 3932 3933 3934 3935\n",
      " 3936 3937 3938 3939 3940 3941 3942 3943 3944 3945 3946 3947 3948 3949\n",
      " 3950 3951 3952 3953 3954 3955 3956 3957 3958 3959 3960 3961 3962 3963\n",
      " 3964 3965 3966 3967 3968 3969 3970 3971 3972 3973 3974 3975 3976 3977\n",
      " 3978 3979 3980 3981 3982 3983 3984 3985 3986 3987 3988 3989 3990 3991\n",
      " 3992 3993 3994 3995 3996 3997 3998 3999 4000 4001 4002 4003 4004 4005\n",
      " 4006 4007 4008 4009 4010 4011 4012 4013 4014 4015 4016 4017 4018 4019\n",
      " 4020 4021 4022 4023 4024 4025 4026 4027 4028 4029 4030 4031 4032 4033\n",
      " 4034 4035 4036 4037 4038 4039 4040 4041 4042 4043 4044 4045 4046 4047\n",
      " 4048 4049 4050 4051 4052 4053 4054 4055 4056 4057 4058 4059 4060 4061\n",
      " 4062 4063 4064 4065 4066 4067 4068 4069 4070 4071 4072 4073 4074 4075\n",
      " 4076 4077 4078 4079 4080 4081 4082 4083 4084 4085 4086 4087 4088 4089\n",
      " 4090 4091 4092 4093 4094 4095 4096 4097 4098 4099 4100 4101 4102 4103\n",
      " 4104 4105 4106 4107 4108 4109 4110 4111 4112 4113 4114 4115 4116 4117\n",
      " 4118 4119 4120 4121 4122 4123 4124 4125 4126 4127 4128 4129 4130 4131\n",
      " 4132 4133 4134 4135 4136 4137 4138 4139 4140 4141 4142 4143 4144 4145\n",
      " 4146 4147 4148 4149 4150 4151 4152 4153 4154 4155 4156 4157 4158 4159\n",
      " 4160 4161 4162 4163 4164 4165 4166 4167 4168 4169 4170 4171 4172 4173\n",
      " 4174 4175 4176 4177 4178 4179 4180 4181 4182 4183 4184 4185 4186 4187\n",
      " 4188 4189 4190 4191 4192 4193 4194 4195 4196 4197 4198 4199 4200 4201\n",
      " 4202 4203 4204 4205 4206 4207 4208 4209 4210 4211 4212 4213 4214 4215\n",
      " 4216 4217 4218 4219 4220 4221 4222 4223 4224 4225 4226 4227 4228 4229\n",
      " 4230 4231 4232 4233 4234 4235 4236 4237 4238 4239 4240 4241 4242 4243\n",
      " 4244 4245 4246 4247 4248 4249 4250 4251 4252 4253 4254 4255 4256 4257\n",
      " 4258 4259 4260 4261 4262 4263 4264 4265 4266 4267 4268 4269 4270 4271\n",
      " 4272 4273 4274 4275 4276 4277 4278 4279 4280 4281 4282 4283 4284 4285\n",
      " 4286 4287 4288 4289 4290 4291 4292 4293 4294 4295 4296 4297 4298 4299\n",
      " 4300 4301 4302 4303 4304 4305 4306 4307 4308 4309 4310 4311 4312 4313\n",
      " 4314 4315 4316 4317 4318 4319 4320 4321 4322 4323 4324 4325 4326 4327\n",
      " 4328 4329 4330 4331 4332 4333 4334 4335 4336 4337 4338 4339 4340 4341\n",
      " 4342 4343 4344 4345 4346 4347 4348 4349 4350 4351 4352 4353 4354 4355\n",
      " 4356 4357 4358 4359 4360 4361 4362 4363 4364 4365 4366 4367 4368 4369\n",
      " 4370 4371 4372 4373 4374 4375 4376 4377 4378 4379 4380 4381 4382 4383\n",
      " 4384 4385 4386 4387 4388 4389 4390 4391 4392 4393 4394 4395 4396 4397\n",
      " 4398 4399 4400 4401 4402 4403 4404 4405 4406 4407 4408 4409 4410 4411\n",
      " 4412 4413 4414 4415 4416 4417 4418 4419 4420 4421 4422 4423 4424 4425\n",
      " 4426 4427 4428 4429 4430 4431 4432 4433 4434 4435 4436 4437 4438 4439\n",
      " 4440 4441 4442 4443 4444 4445 4446 4447 4448 4449 4450 4451 4452 4453\n",
      " 4454 4455 4456 4457 4458 4459 4460 4461 4462 4463 4464 4465 4466 4467\n",
      " 4468 4469 4470 4471 4472 4473 4474 4475 4476 4477 4478 4479 4480 4481\n",
      " 4482 4483 4484 4485 4486 4487 4488 4489 4490 4491 4492 4493 4494 4495\n",
      " 4496 4497 4498 4499 4500 4501 4502 4503 4504 4505 4506 4507 4508 4509\n",
      " 4510 4511 4512 4513 4514 4515 4516 4517 4518 4519 4520 4521 4522 4523\n",
      " 4524 4525 4526 4527 4528 4529 4530 4531 4532 4533 4534 4535 4536 4537\n",
      " 4538 4539 4540 4541 4542 4543 4544 4545 4546 4547 4548 4549 4550 4551\n",
      " 4552 4553 4554 4555 4556 4557 4558 4559 4560 4561 4562 4563 4564 4565\n",
      " 4566 4567 4568]\n",
      "TRAIN: [   0    1    2 ... 9131 9132 9133] TEST: [4569 4570 4571 4572 4573 4574 4575 4576 4577 4578 4579 4580 4581 4582\n",
      " 4583 4584 4585 4586 4587 4588 4589 4590 4591 4592 4593 4594 4595 4596\n",
      " 4597 4598 4599 4600 4601 4602 4603 4604 4605 4606 4607 4608 4609 4610\n",
      " 4611 4612 4613 4614 4615 4616 4617 4618 4619 4620 4621 4622 4623 4624\n",
      " 4625 4626 4627 4628 4629 4630 4631 4632 4633 4634 4635 4636 4637 4638\n",
      " 4639 4640 4641 4642 4643 4644 4645 4646 4647 4648 4649 4650 4651 4652\n",
      " 4653 4654 4655 4656 4657 4658 4659 4660 4661 4662 4663 4664 4665 4666\n",
      " 4667 4668 4669 4670 4671 4672 4673 4674 4675 4676 4677 4678 4679 4680\n",
      " 4681 4682 4683 4684 4685 4686 4687 4688 4689 4690 4691 4692 4693 4694\n",
      " 4695 4696 4697 4698 4699 4700 4701 4702 4703 4704 4705 4706 4707 4708\n",
      " 4709 4710 4711 4712 4713 4714 4715 4716 4717 4718 4719 4720 4721 4722\n",
      " 4723 4724 4725 4726 4727 4728 4729 4730 4731 4732 4733 4734 4735 4736\n",
      " 4737 4738 4739 4740 4741 4742 4743 4744 4745 4746 4747 4748 4749 4750\n",
      " 4751 4752 4753 4754 4755 4756 4757 4758 4759 4760 4761 4762 4763 4764\n",
      " 4765 4766 4767 4768 4769 4770 4771 4772 4773 4774 4775 4776 4777 4778\n",
      " 4779 4780 4781 4782 4783 4784 4785 4786 4787 4788 4789 4790 4791 4792\n",
      " 4793 4794 4795 4796 4797 4798 4799 4800 4801 4802 4803 4804 4805 4806\n",
      " 4807 4808 4809 4810 4811 4812 4813 4814 4815 4816 4817 4818 4819 4820\n",
      " 4821 4822 4823 4824 4825 4826 4827 4828 4829 4830 4831 4832 4833 4834\n",
      " 4835 4836 4837 4838 4839 4840 4841 4842 4843 4844 4845 4846 4847 4848\n",
      " 4849 4850 4851 4852 4853 4854 4855 4856 4857 4858 4859 4860 4861 4862\n",
      " 4863 4864 4865 4866 4867 4868 4869 4870 4871 4872 4873 4874 4875 4876\n",
      " 4877 4878 4879 4880 4881 4882 4883 4884 4885 4886 4887 4888 4889 4890\n",
      " 4891 4892 4893 4894 4895 4896 4897 4898 4899 4900 4901 4902 4903 4904\n",
      " 4905 4906 4907 4908 4909 4910 4911 4912 4913 4914 4915 4916 4917 4918\n",
      " 4919 4920 4921 4922 4923 4924 4925 4926 4927 4928 4929 4930 4931 4932\n",
      " 4933 4934 4935 4936 4937 4938 4939 4940 4941 4942 4943 4944 4945 4946\n",
      " 4947 4948 4949 4950 4951 4952 4953 4954 4955 4956 4957 4958 4959 4960\n",
      " 4961 4962 4963 4964 4965 4966 4967 4968 4969 4970 4971 4972 4973 4974\n",
      " 4975 4976 4977 4978 4979 4980 4981 4982 4983 4984 4985 4986 4987 4988\n",
      " 4989 4990 4991 4992 4993 4994 4995 4996 4997 4998 4999 5000 5001 5002\n",
      " 5003 5004 5005 5006 5007 5008 5009 5010 5011 5012 5013 5014 5015 5016\n",
      " 5017 5018 5019 5020 5021 5022 5023 5024 5025 5026 5027 5028 5029 5030\n",
      " 5031 5032 5033 5034 5035 5036 5037 5038 5039 5040 5041 5042 5043 5044\n",
      " 5045 5046 5047 5048 5049 5050 5051 5052 5053 5054 5055 5056 5057 5058\n",
      " 5059 5060 5061 5062 5063 5064 5065 5066 5067 5068 5069 5070 5071 5072\n",
      " 5073 5074 5075 5076 5077 5078 5079 5080 5081 5082 5083 5084 5085 5086\n",
      " 5087 5088 5089 5090 5091 5092 5093 5094 5095 5096 5097 5098 5099 5100\n",
      " 5101 5102 5103 5104 5105 5106 5107 5108 5109 5110 5111 5112 5113 5114\n",
      " 5115 5116 5117 5118 5119 5120 5121 5122 5123 5124 5125 5126 5127 5128\n",
      " 5129 5130 5131 5132 5133 5134 5135 5136 5137 5138 5139 5140 5141 5142\n",
      " 5143 5144 5145 5146 5147 5148 5149 5150 5151 5152 5153 5154 5155 5156\n",
      " 5157 5158 5159 5160 5161 5162 5163 5164 5165 5166 5167 5168 5169 5170\n",
      " 5171 5172 5173 5174 5175 5176 5177 5178 5179 5180 5181 5182 5183 5184\n",
      " 5185 5186 5187 5188 5189 5190 5191 5192 5193 5194 5195 5196 5197 5198\n",
      " 5199 5200 5201 5202 5203 5204 5205 5206 5207 5208 5209 5210 5211 5212\n",
      " 5213 5214 5215 5216 5217 5218 5219 5220 5221 5222 5223 5224 5225 5226\n",
      " 5227 5228 5229 5230 5231 5232 5233 5234 5235 5236 5237 5238 5239 5240\n",
      " 5241 5242 5243 5244 5245 5246 5247 5248 5249 5250 5251 5252 5253 5254\n",
      " 5255 5256 5257 5258 5259 5260 5261 5262 5263 5264 5265 5266 5267 5268\n",
      " 5269 5270 5271 5272 5273 5274 5275 5276 5277 5278 5279 5280 5281 5282\n",
      " 5283 5284 5285 5286 5287 5288 5289 5290 5291 5292 5293 5294 5295 5296\n",
      " 5297 5298 5299 5300 5301 5302 5303 5304 5305 5306 5307 5308 5309 5310\n",
      " 5311 5312 5313 5314 5315 5316 5317 5318 5319 5320 5321 5322 5323 5324\n",
      " 5325 5326 5327 5328 5329 5330 5331 5332 5333 5334 5335 5336 5337 5338\n",
      " 5339 5340 5341 5342 5343 5344 5345 5346 5347 5348 5349 5350 5351 5352\n",
      " 5353 5354 5355 5356 5357 5358 5359 5360 5361 5362 5363 5364 5365 5366\n",
      " 5367 5368 5369 5370 5371 5372 5373 5374 5375 5376 5377 5378 5379 5380\n",
      " 5381 5382 5383 5384 5385 5386 5387 5388 5389 5390 5391 5392 5393 5394\n",
      " 5395 5396 5397 5398 5399 5400 5401 5402 5403 5404 5405 5406 5407 5408\n",
      " 5409 5410 5411 5412 5413 5414 5415 5416 5417 5418 5419 5420 5421 5422\n",
      " 5423 5424 5425 5426 5427 5428 5429 5430 5431 5432 5433 5434 5435 5436\n",
      " 5437 5438 5439 5440 5441 5442 5443 5444 5445 5446 5447 5448 5449 5450\n",
      " 5451 5452 5453 5454 5455 5456 5457 5458 5459 5460 5461 5462 5463 5464\n",
      " 5465 5466 5467 5468 5469 5470 5471 5472 5473 5474 5475 5476 5477 5478\n",
      " 5479 5480 5481]\n",
      "TRAIN: [   0    1    2 ... 9131 9132 9133] TEST: [5482 5483 5484 5485 5486 5487 5488 5489 5490 5491 5492 5493 5494 5495\n",
      " 5496 5497 5498 5499 5500 5501 5502 5503 5504 5505 5506 5507 5508 5509\n",
      " 5510 5511 5512 5513 5514 5515 5516 5517 5518 5519 5520 5521 5522 5523\n",
      " 5524 5525 5526 5527 5528 5529 5530 5531 5532 5533 5534 5535 5536 5537\n",
      " 5538 5539 5540 5541 5542 5543 5544 5545 5546 5547 5548 5549 5550 5551\n",
      " 5552 5553 5554 5555 5556 5557 5558 5559 5560 5561 5562 5563 5564 5565\n",
      " 5566 5567 5568 5569 5570 5571 5572 5573 5574 5575 5576 5577 5578 5579\n",
      " 5580 5581 5582 5583 5584 5585 5586 5587 5588 5589 5590 5591 5592 5593\n",
      " 5594 5595 5596 5597 5598 5599 5600 5601 5602 5603 5604 5605 5606 5607\n",
      " 5608 5609 5610 5611 5612 5613 5614 5615 5616 5617 5618 5619 5620 5621\n",
      " 5622 5623 5624 5625 5626 5627 5628 5629 5630 5631 5632 5633 5634 5635\n",
      " 5636 5637 5638 5639 5640 5641 5642 5643 5644 5645 5646 5647 5648 5649\n",
      " 5650 5651 5652 5653 5654 5655 5656 5657 5658 5659 5660 5661 5662 5663\n",
      " 5664 5665 5666 5667 5668 5669 5670 5671 5672 5673 5674 5675 5676 5677\n",
      " 5678 5679 5680 5681 5682 5683 5684 5685 5686 5687 5688 5689 5690 5691\n",
      " 5692 5693 5694 5695 5696 5697 5698 5699 5700 5701 5702 5703 5704 5705\n",
      " 5706 5707 5708 5709 5710 5711 5712 5713 5714 5715 5716 5717 5718 5719\n",
      " 5720 5721 5722 5723 5724 5725 5726 5727 5728 5729 5730 5731 5732 5733\n",
      " 5734 5735 5736 5737 5738 5739 5740 5741 5742 5743 5744 5745 5746 5747\n",
      " 5748 5749 5750 5751 5752 5753 5754 5755 5756 5757 5758 5759 5760 5761\n",
      " 5762 5763 5764 5765 5766 5767 5768 5769 5770 5771 5772 5773 5774 5775\n",
      " 5776 5777 5778 5779 5780 5781 5782 5783 5784 5785 5786 5787 5788 5789\n",
      " 5790 5791 5792 5793 5794 5795 5796 5797 5798 5799 5800 5801 5802 5803\n",
      " 5804 5805 5806 5807 5808 5809 5810 5811 5812 5813 5814 5815 5816 5817\n",
      " 5818 5819 5820 5821 5822 5823 5824 5825 5826 5827 5828 5829 5830 5831\n",
      " 5832 5833 5834 5835 5836 5837 5838 5839 5840 5841 5842 5843 5844 5845\n",
      " 5846 5847 5848 5849 5850 5851 5852 5853 5854 5855 5856 5857 5858 5859\n",
      " 5860 5861 5862 5863 5864 5865 5866 5867 5868 5869 5870 5871 5872 5873\n",
      " 5874 5875 5876 5877 5878 5879 5880 5881 5882 5883 5884 5885 5886 5887\n",
      " 5888 5889 5890 5891 5892 5893 5894 5895 5896 5897 5898 5899 5900 5901\n",
      " 5902 5903 5904 5905 5906 5907 5908 5909 5910 5911 5912 5913 5914 5915\n",
      " 5916 5917 5918 5919 5920 5921 5922 5923 5924 5925 5926 5927 5928 5929\n",
      " 5930 5931 5932 5933 5934 5935 5936 5937 5938 5939 5940 5941 5942 5943\n",
      " 5944 5945 5946 5947 5948 5949 5950 5951 5952 5953 5954 5955 5956 5957\n",
      " 5958 5959 5960 5961 5962 5963 5964 5965 5966 5967 5968 5969 5970 5971\n",
      " 5972 5973 5974 5975 5976 5977 5978 5979 5980 5981 5982 5983 5984 5985\n",
      " 5986 5987 5988 5989 5990 5991 5992 5993 5994 5995 5996 5997 5998 5999\n",
      " 6000 6001 6002 6003 6004 6005 6006 6007 6008 6009 6010 6011 6012 6013\n",
      " 6014 6015 6016 6017 6018 6019 6020 6021 6022 6023 6024 6025 6026 6027\n",
      " 6028 6029 6030 6031 6032 6033 6034 6035 6036 6037 6038 6039 6040 6041\n",
      " 6042 6043 6044 6045 6046 6047 6048 6049 6050 6051 6052 6053 6054 6055\n",
      " 6056 6057 6058 6059 6060 6061 6062 6063 6064 6065 6066 6067 6068 6069\n",
      " 6070 6071 6072 6073 6074 6075 6076 6077 6078 6079 6080 6081 6082 6083\n",
      " 6084 6085 6086 6087 6088 6089 6090 6091 6092 6093 6094 6095 6096 6097\n",
      " 6098 6099 6100 6101 6102 6103 6104 6105 6106 6107 6108 6109 6110 6111\n",
      " 6112 6113 6114 6115 6116 6117 6118 6119 6120 6121 6122 6123 6124 6125\n",
      " 6126 6127 6128 6129 6130 6131 6132 6133 6134 6135 6136 6137 6138 6139\n",
      " 6140 6141 6142 6143 6144 6145 6146 6147 6148 6149 6150 6151 6152 6153\n",
      " 6154 6155 6156 6157 6158 6159 6160 6161 6162 6163 6164 6165 6166 6167\n",
      " 6168 6169 6170 6171 6172 6173 6174 6175 6176 6177 6178 6179 6180 6181\n",
      " 6182 6183 6184 6185 6186 6187 6188 6189 6190 6191 6192 6193 6194 6195\n",
      " 6196 6197 6198 6199 6200 6201 6202 6203 6204 6205 6206 6207 6208 6209\n",
      " 6210 6211 6212 6213 6214 6215 6216 6217 6218 6219 6220 6221 6222 6223\n",
      " 6224 6225 6226 6227 6228 6229 6230 6231 6232 6233 6234 6235 6236 6237\n",
      " 6238 6239 6240 6241 6242 6243 6244 6245 6246 6247 6248 6249 6250 6251\n",
      " 6252 6253 6254 6255 6256 6257 6258 6259 6260 6261 6262 6263 6264 6265\n",
      " 6266 6267 6268 6269 6270 6271 6272 6273 6274 6275 6276 6277 6278 6279\n",
      " 6280 6281 6282 6283 6284 6285 6286 6287 6288 6289 6290 6291 6292 6293\n",
      " 6294 6295 6296 6297 6298 6299 6300 6301 6302 6303 6304 6305 6306 6307\n",
      " 6308 6309 6310 6311 6312 6313 6314 6315 6316 6317 6318 6319 6320 6321\n",
      " 6322 6323 6324 6325 6326 6327 6328 6329 6330 6331 6332 6333 6334 6335\n",
      " 6336 6337 6338 6339 6340 6341 6342 6343 6344 6345 6346 6347 6348 6349\n",
      " 6350 6351 6352 6353 6354 6355 6356 6357 6358 6359 6360 6361 6362 6363\n",
      " 6364 6365 6366 6367 6368 6369 6370 6371 6372 6373 6374 6375 6376 6377\n",
      " 6378 6379 6380 6381 6382 6383 6384 6385 6386 6387 6388 6389 6390 6391\n",
      " 6392 6393 6394]\n",
      "TRAIN: [   0    1    2 ... 9131 9132 9133] TEST: [6395 6396 6397 6398 6399 6400 6401 6402 6403 6404 6405 6406 6407 6408\n",
      " 6409 6410 6411 6412 6413 6414 6415 6416 6417 6418 6419 6420 6421 6422\n",
      " 6423 6424 6425 6426 6427 6428 6429 6430 6431 6432 6433 6434 6435 6436\n",
      " 6437 6438 6439 6440 6441 6442 6443 6444 6445 6446 6447 6448 6449 6450\n",
      " 6451 6452 6453 6454 6455 6456 6457 6458 6459 6460 6461 6462 6463 6464\n",
      " 6465 6466 6467 6468 6469 6470 6471 6472 6473 6474 6475 6476 6477 6478\n",
      " 6479 6480 6481 6482 6483 6484 6485 6486 6487 6488 6489 6490 6491 6492\n",
      " 6493 6494 6495 6496 6497 6498 6499 6500 6501 6502 6503 6504 6505 6506\n",
      " 6507 6508 6509 6510 6511 6512 6513 6514 6515 6516 6517 6518 6519 6520\n",
      " 6521 6522 6523 6524 6525 6526 6527 6528 6529 6530 6531 6532 6533 6534\n",
      " 6535 6536 6537 6538 6539 6540 6541 6542 6543 6544 6545 6546 6547 6548\n",
      " 6549 6550 6551 6552 6553 6554 6555 6556 6557 6558 6559 6560 6561 6562\n",
      " 6563 6564 6565 6566 6567 6568 6569 6570 6571 6572 6573 6574 6575 6576\n",
      " 6577 6578 6579 6580 6581 6582 6583 6584 6585 6586 6587 6588 6589 6590\n",
      " 6591 6592 6593 6594 6595 6596 6597 6598 6599 6600 6601 6602 6603 6604\n",
      " 6605 6606 6607 6608 6609 6610 6611 6612 6613 6614 6615 6616 6617 6618\n",
      " 6619 6620 6621 6622 6623 6624 6625 6626 6627 6628 6629 6630 6631 6632\n",
      " 6633 6634 6635 6636 6637 6638 6639 6640 6641 6642 6643 6644 6645 6646\n",
      " 6647 6648 6649 6650 6651 6652 6653 6654 6655 6656 6657 6658 6659 6660\n",
      " 6661 6662 6663 6664 6665 6666 6667 6668 6669 6670 6671 6672 6673 6674\n",
      " 6675 6676 6677 6678 6679 6680 6681 6682 6683 6684 6685 6686 6687 6688\n",
      " 6689 6690 6691 6692 6693 6694 6695 6696 6697 6698 6699 6700 6701 6702\n",
      " 6703 6704 6705 6706 6707 6708 6709 6710 6711 6712 6713 6714 6715 6716\n",
      " 6717 6718 6719 6720 6721 6722 6723 6724 6725 6726 6727 6728 6729 6730\n",
      " 6731 6732 6733 6734 6735 6736 6737 6738 6739 6740 6741 6742 6743 6744\n",
      " 6745 6746 6747 6748 6749 6750 6751 6752 6753 6754 6755 6756 6757 6758\n",
      " 6759 6760 6761 6762 6763 6764 6765 6766 6767 6768 6769 6770 6771 6772\n",
      " 6773 6774 6775 6776 6777 6778 6779 6780 6781 6782 6783 6784 6785 6786\n",
      " 6787 6788 6789 6790 6791 6792 6793 6794 6795 6796 6797 6798 6799 6800\n",
      " 6801 6802 6803 6804 6805 6806 6807 6808 6809 6810 6811 6812 6813 6814\n",
      " 6815 6816 6817 6818 6819 6820 6821 6822 6823 6824 6825 6826 6827 6828\n",
      " 6829 6830 6831 6832 6833 6834 6835 6836 6837 6838 6839 6840 6841 6842\n",
      " 6843 6844 6845 6846 6847 6848 6849 6850 6851 6852 6853 6854 6855 6856\n",
      " 6857 6858 6859 6860 6861 6862 6863 6864 6865 6866 6867 6868 6869 6870\n",
      " 6871 6872 6873 6874 6875 6876 6877 6878 6879 6880 6881 6882 6883 6884\n",
      " 6885 6886 6887 6888 6889 6890 6891 6892 6893 6894 6895 6896 6897 6898\n",
      " 6899 6900 6901 6902 6903 6904 6905 6906 6907 6908 6909 6910 6911 6912\n",
      " 6913 6914 6915 6916 6917 6918 6919 6920 6921 6922 6923 6924 6925 6926\n",
      " 6927 6928 6929 6930 6931 6932 6933 6934 6935 6936 6937 6938 6939 6940\n",
      " 6941 6942 6943 6944 6945 6946 6947 6948 6949 6950 6951 6952 6953 6954\n",
      " 6955 6956 6957 6958 6959 6960 6961 6962 6963 6964 6965 6966 6967 6968\n",
      " 6969 6970 6971 6972 6973 6974 6975 6976 6977 6978 6979 6980 6981 6982\n",
      " 6983 6984 6985 6986 6987 6988 6989 6990 6991 6992 6993 6994 6995 6996\n",
      " 6997 6998 6999 7000 7001 7002 7003 7004 7005 7006 7007 7008 7009 7010\n",
      " 7011 7012 7013 7014 7015 7016 7017 7018 7019 7020 7021 7022 7023 7024\n",
      " 7025 7026 7027 7028 7029 7030 7031 7032 7033 7034 7035 7036 7037 7038\n",
      " 7039 7040 7041 7042 7043 7044 7045 7046 7047 7048 7049 7050 7051 7052\n",
      " 7053 7054 7055 7056 7057 7058 7059 7060 7061 7062 7063 7064 7065 7066\n",
      " 7067 7068 7069 7070 7071 7072 7073 7074 7075 7076 7077 7078 7079 7080\n",
      " 7081 7082 7083 7084 7085 7086 7087 7088 7089 7090 7091 7092 7093 7094\n",
      " 7095 7096 7097 7098 7099 7100 7101 7102 7103 7104 7105 7106 7107 7108\n",
      " 7109 7110 7111 7112 7113 7114 7115 7116 7117 7118 7119 7120 7121 7122\n",
      " 7123 7124 7125 7126 7127 7128 7129 7130 7131 7132 7133 7134 7135 7136\n",
      " 7137 7138 7139 7140 7141 7142 7143 7144 7145 7146 7147 7148 7149 7150\n",
      " 7151 7152 7153 7154 7155 7156 7157 7158 7159 7160 7161 7162 7163 7164\n",
      " 7165 7166 7167 7168 7169 7170 7171 7172 7173 7174 7175 7176 7177 7178\n",
      " 7179 7180 7181 7182 7183 7184 7185 7186 7187 7188 7189 7190 7191 7192\n",
      " 7193 7194 7195 7196 7197 7198 7199 7200 7201 7202 7203 7204 7205 7206\n",
      " 7207 7208 7209 7210 7211 7212 7213 7214 7215 7216 7217 7218 7219 7220\n",
      " 7221 7222 7223 7224 7225 7226 7227 7228 7229 7230 7231 7232 7233 7234\n",
      " 7235 7236 7237 7238 7239 7240 7241 7242 7243 7244 7245 7246 7247 7248\n",
      " 7249 7250 7251 7252 7253 7254 7255 7256 7257 7258 7259 7260 7261 7262\n",
      " 7263 7264 7265 7266 7267 7268 7269 7270 7271 7272 7273 7274 7275 7276\n",
      " 7277 7278 7279 7280 7281 7282 7283 7284 7285 7286 7287 7288 7289 7290\n",
      " 7291 7292 7293 7294 7295 7296 7297 7298 7299 7300 7301 7302 7303 7304\n",
      " 7305 7306 7307]\n"
     ]
    },
    {
     "name": "stdout",
     "output_type": "stream",
     "text": [
      "TRAIN: [   0    1    2 ... 9131 9132 9133] TEST: [7308 7309 7310 7311 7312 7313 7314 7315 7316 7317 7318 7319 7320 7321\n",
      " 7322 7323 7324 7325 7326 7327 7328 7329 7330 7331 7332 7333 7334 7335\n",
      " 7336 7337 7338 7339 7340 7341 7342 7343 7344 7345 7346 7347 7348 7349\n",
      " 7350 7351 7352 7353 7354 7355 7356 7357 7358 7359 7360 7361 7362 7363\n",
      " 7364 7365 7366 7367 7368 7369 7370 7371 7372 7373 7374 7375 7376 7377\n",
      " 7378 7379 7380 7381 7382 7383 7384 7385 7386 7387 7388 7389 7390 7391\n",
      " 7392 7393 7394 7395 7396 7397 7398 7399 7400 7401 7402 7403 7404 7405\n",
      " 7406 7407 7408 7409 7410 7411 7412 7413 7414 7415 7416 7417 7418 7419\n",
      " 7420 7421 7422 7423 7424 7425 7426 7427 7428 7429 7430 7431 7432 7433\n",
      " 7434 7435 7436 7437 7438 7439 7440 7441 7442 7443 7444 7445 7446 7447\n",
      " 7448 7449 7450 7451 7452 7453 7454 7455 7456 7457 7458 7459 7460 7461\n",
      " 7462 7463 7464 7465 7466 7467 7468 7469 7470 7471 7472 7473 7474 7475\n",
      " 7476 7477 7478 7479 7480 7481 7482 7483 7484 7485 7486 7487 7488 7489\n",
      " 7490 7491 7492 7493 7494 7495 7496 7497 7498 7499 7500 7501 7502 7503\n",
      " 7504 7505 7506 7507 7508 7509 7510 7511 7512 7513 7514 7515 7516 7517\n",
      " 7518 7519 7520 7521 7522 7523 7524 7525 7526 7527 7528 7529 7530 7531\n",
      " 7532 7533 7534 7535 7536 7537 7538 7539 7540 7541 7542 7543 7544 7545\n",
      " 7546 7547 7548 7549 7550 7551 7552 7553 7554 7555 7556 7557 7558 7559\n",
      " 7560 7561 7562 7563 7564 7565 7566 7567 7568 7569 7570 7571 7572 7573\n",
      " 7574 7575 7576 7577 7578 7579 7580 7581 7582 7583 7584 7585 7586 7587\n",
      " 7588 7589 7590 7591 7592 7593 7594 7595 7596 7597 7598 7599 7600 7601\n",
      " 7602 7603 7604 7605 7606 7607 7608 7609 7610 7611 7612 7613 7614 7615\n",
      " 7616 7617 7618 7619 7620 7621 7622 7623 7624 7625 7626 7627 7628 7629\n",
      " 7630 7631 7632 7633 7634 7635 7636 7637 7638 7639 7640 7641 7642 7643\n",
      " 7644 7645 7646 7647 7648 7649 7650 7651 7652 7653 7654 7655 7656 7657\n",
      " 7658 7659 7660 7661 7662 7663 7664 7665 7666 7667 7668 7669 7670 7671\n",
      " 7672 7673 7674 7675 7676 7677 7678 7679 7680 7681 7682 7683 7684 7685\n",
      " 7686 7687 7688 7689 7690 7691 7692 7693 7694 7695 7696 7697 7698 7699\n",
      " 7700 7701 7702 7703 7704 7705 7706 7707 7708 7709 7710 7711 7712 7713\n",
      " 7714 7715 7716 7717 7718 7719 7720 7721 7722 7723 7724 7725 7726 7727\n",
      " 7728 7729 7730 7731 7732 7733 7734 7735 7736 7737 7738 7739 7740 7741\n",
      " 7742 7743 7744 7745 7746 7747 7748 7749 7750 7751 7752 7753 7754 7755\n",
      " 7756 7757 7758 7759 7760 7761 7762 7763 7764 7765 7766 7767 7768 7769\n",
      " 7770 7771 7772 7773 7774 7775 7776 7777 7778 7779 7780 7781 7782 7783\n",
      " 7784 7785 7786 7787 7788 7789 7790 7791 7792 7793 7794 7795 7796 7797\n",
      " 7798 7799 7800 7801 7802 7803 7804 7805 7806 7807 7808 7809 7810 7811\n",
      " 7812 7813 7814 7815 7816 7817 7818 7819 7820 7821 7822 7823 7824 7825\n",
      " 7826 7827 7828 7829 7830 7831 7832 7833 7834 7835 7836 7837 7838 7839\n",
      " 7840 7841 7842 7843 7844 7845 7846 7847 7848 7849 7850 7851 7852 7853\n",
      " 7854 7855 7856 7857 7858 7859 7860 7861 7862 7863 7864 7865 7866 7867\n",
      " 7868 7869 7870 7871 7872 7873 7874 7875 7876 7877 7878 7879 7880 7881\n",
      " 7882 7883 7884 7885 7886 7887 7888 7889 7890 7891 7892 7893 7894 7895\n",
      " 7896 7897 7898 7899 7900 7901 7902 7903 7904 7905 7906 7907 7908 7909\n",
      " 7910 7911 7912 7913 7914 7915 7916 7917 7918 7919 7920 7921 7922 7923\n",
      " 7924 7925 7926 7927 7928 7929 7930 7931 7932 7933 7934 7935 7936 7937\n",
      " 7938 7939 7940 7941 7942 7943 7944 7945 7946 7947 7948 7949 7950 7951\n",
      " 7952 7953 7954 7955 7956 7957 7958 7959 7960 7961 7962 7963 7964 7965\n",
      " 7966 7967 7968 7969 7970 7971 7972 7973 7974 7975 7976 7977 7978 7979\n",
      " 7980 7981 7982 7983 7984 7985 7986 7987 7988 7989 7990 7991 7992 7993\n",
      " 7994 7995 7996 7997 7998 7999 8000 8001 8002 8003 8004 8005 8006 8007\n",
      " 8008 8009 8010 8011 8012 8013 8014 8015 8016 8017 8018 8019 8020 8021\n",
      " 8022 8023 8024 8025 8026 8027 8028 8029 8030 8031 8032 8033 8034 8035\n",
      " 8036 8037 8038 8039 8040 8041 8042 8043 8044 8045 8046 8047 8048 8049\n",
      " 8050 8051 8052 8053 8054 8055 8056 8057 8058 8059 8060 8061 8062 8063\n",
      " 8064 8065 8066 8067 8068 8069 8070 8071 8072 8073 8074 8075 8076 8077\n",
      " 8078 8079 8080 8081 8082 8083 8084 8085 8086 8087 8088 8089 8090 8091\n",
      " 8092 8093 8094 8095 8096 8097 8098 8099 8100 8101 8102 8103 8104 8105\n",
      " 8106 8107 8108 8109 8110 8111 8112 8113 8114 8115 8116 8117 8118 8119\n",
      " 8120 8121 8122 8123 8124 8125 8126 8127 8128 8129 8130 8131 8132 8133\n",
      " 8134 8135 8136 8137 8138 8139 8140 8141 8142 8143 8144 8145 8146 8147\n",
      " 8148 8149 8150 8151 8152 8153 8154 8155 8156 8157 8158 8159 8160 8161\n",
      " 8162 8163 8164 8165 8166 8167 8168 8169 8170 8171 8172 8173 8174 8175\n",
      " 8176 8177 8178 8179 8180 8181 8182 8183 8184 8185 8186 8187 8188 8189\n",
      " 8190 8191 8192 8193 8194 8195 8196 8197 8198 8199 8200 8201 8202 8203\n",
      " 8204 8205 8206 8207 8208 8209 8210 8211 8212 8213 8214 8215 8216 8217\n",
      " 8218 8219 8220]\n",
      "TRAIN: [   0    1    2 ... 8218 8219 8220] TEST: [8221 8222 8223 8224 8225 8226 8227 8228 8229 8230 8231 8232 8233 8234\n",
      " 8235 8236 8237 8238 8239 8240 8241 8242 8243 8244 8245 8246 8247 8248\n",
      " 8249 8250 8251 8252 8253 8254 8255 8256 8257 8258 8259 8260 8261 8262\n",
      " 8263 8264 8265 8266 8267 8268 8269 8270 8271 8272 8273 8274 8275 8276\n",
      " 8277 8278 8279 8280 8281 8282 8283 8284 8285 8286 8287 8288 8289 8290\n",
      " 8291 8292 8293 8294 8295 8296 8297 8298 8299 8300 8301 8302 8303 8304\n",
      " 8305 8306 8307 8308 8309 8310 8311 8312 8313 8314 8315 8316 8317 8318\n",
      " 8319 8320 8321 8322 8323 8324 8325 8326 8327 8328 8329 8330 8331 8332\n",
      " 8333 8334 8335 8336 8337 8338 8339 8340 8341 8342 8343 8344 8345 8346\n",
      " 8347 8348 8349 8350 8351 8352 8353 8354 8355 8356 8357 8358 8359 8360\n",
      " 8361 8362 8363 8364 8365 8366 8367 8368 8369 8370 8371 8372 8373 8374\n",
      " 8375 8376 8377 8378 8379 8380 8381 8382 8383 8384 8385 8386 8387 8388\n",
      " 8389 8390 8391 8392 8393 8394 8395 8396 8397 8398 8399 8400 8401 8402\n",
      " 8403 8404 8405 8406 8407 8408 8409 8410 8411 8412 8413 8414 8415 8416\n",
      " 8417 8418 8419 8420 8421 8422 8423 8424 8425 8426 8427 8428 8429 8430\n",
      " 8431 8432 8433 8434 8435 8436 8437 8438 8439 8440 8441 8442 8443 8444\n",
      " 8445 8446 8447 8448 8449 8450 8451 8452 8453 8454 8455 8456 8457 8458\n",
      " 8459 8460 8461 8462 8463 8464 8465 8466 8467 8468 8469 8470 8471 8472\n",
      " 8473 8474 8475 8476 8477 8478 8479 8480 8481 8482 8483 8484 8485 8486\n",
      " 8487 8488 8489 8490 8491 8492 8493 8494 8495 8496 8497 8498 8499 8500\n",
      " 8501 8502 8503 8504 8505 8506 8507 8508 8509 8510 8511 8512 8513 8514\n",
      " 8515 8516 8517 8518 8519 8520 8521 8522 8523 8524 8525 8526 8527 8528\n",
      " 8529 8530 8531 8532 8533 8534 8535 8536 8537 8538 8539 8540 8541 8542\n",
      " 8543 8544 8545 8546 8547 8548 8549 8550 8551 8552 8553 8554 8555 8556\n",
      " 8557 8558 8559 8560 8561 8562 8563 8564 8565 8566 8567 8568 8569 8570\n",
      " 8571 8572 8573 8574 8575 8576 8577 8578 8579 8580 8581 8582 8583 8584\n",
      " 8585 8586 8587 8588 8589 8590 8591 8592 8593 8594 8595 8596 8597 8598\n",
      " 8599 8600 8601 8602 8603 8604 8605 8606 8607 8608 8609 8610 8611 8612\n",
      " 8613 8614 8615 8616 8617 8618 8619 8620 8621 8622 8623 8624 8625 8626\n",
      " 8627 8628 8629 8630 8631 8632 8633 8634 8635 8636 8637 8638 8639 8640\n",
      " 8641 8642 8643 8644 8645 8646 8647 8648 8649 8650 8651 8652 8653 8654\n",
      " 8655 8656 8657 8658 8659 8660 8661 8662 8663 8664 8665 8666 8667 8668\n",
      " 8669 8670 8671 8672 8673 8674 8675 8676 8677 8678 8679 8680 8681 8682\n",
      " 8683 8684 8685 8686 8687 8688 8689 8690 8691 8692 8693 8694 8695 8696\n",
      " 8697 8698 8699 8700 8701 8702 8703 8704 8705 8706 8707 8708 8709 8710\n",
      " 8711 8712 8713 8714 8715 8716 8717 8718 8719 8720 8721 8722 8723 8724\n",
      " 8725 8726 8727 8728 8729 8730 8731 8732 8733 8734 8735 8736 8737 8738\n",
      " 8739 8740 8741 8742 8743 8744 8745 8746 8747 8748 8749 8750 8751 8752\n",
      " 8753 8754 8755 8756 8757 8758 8759 8760 8761 8762 8763 8764 8765 8766\n",
      " 8767 8768 8769 8770 8771 8772 8773 8774 8775 8776 8777 8778 8779 8780\n",
      " 8781 8782 8783 8784 8785 8786 8787 8788 8789 8790 8791 8792 8793 8794\n",
      " 8795 8796 8797 8798 8799 8800 8801 8802 8803 8804 8805 8806 8807 8808\n",
      " 8809 8810 8811 8812 8813 8814 8815 8816 8817 8818 8819 8820 8821 8822\n",
      " 8823 8824 8825 8826 8827 8828 8829 8830 8831 8832 8833 8834 8835 8836\n",
      " 8837 8838 8839 8840 8841 8842 8843 8844 8845 8846 8847 8848 8849 8850\n",
      " 8851 8852 8853 8854 8855 8856 8857 8858 8859 8860 8861 8862 8863 8864\n",
      " 8865 8866 8867 8868 8869 8870 8871 8872 8873 8874 8875 8876 8877 8878\n",
      " 8879 8880 8881 8882 8883 8884 8885 8886 8887 8888 8889 8890 8891 8892\n",
      " 8893 8894 8895 8896 8897 8898 8899 8900 8901 8902 8903 8904 8905 8906\n",
      " 8907 8908 8909 8910 8911 8912 8913 8914 8915 8916 8917 8918 8919 8920\n",
      " 8921 8922 8923 8924 8925 8926 8927 8928 8929 8930 8931 8932 8933 8934\n",
      " 8935 8936 8937 8938 8939 8940 8941 8942 8943 8944 8945 8946 8947 8948\n",
      " 8949 8950 8951 8952 8953 8954 8955 8956 8957 8958 8959 8960 8961 8962\n",
      " 8963 8964 8965 8966 8967 8968 8969 8970 8971 8972 8973 8974 8975 8976\n",
      " 8977 8978 8979 8980 8981 8982 8983 8984 8985 8986 8987 8988 8989 8990\n",
      " 8991 8992 8993 8994 8995 8996 8997 8998 8999 9000 9001 9002 9003 9004\n",
      " 9005 9006 9007 9008 9009 9010 9011 9012 9013 9014 9015 9016 9017 9018\n",
      " 9019 9020 9021 9022 9023 9024 9025 9026 9027 9028 9029 9030 9031 9032\n",
      " 9033 9034 9035 9036 9037 9038 9039 9040 9041 9042 9043 9044 9045 9046\n",
      " 9047 9048 9049 9050 9051 9052 9053 9054 9055 9056 9057 9058 9059 9060\n",
      " 9061 9062 9063 9064 9065 9066 9067 9068 9069 9070 9071 9072 9073 9074\n",
      " 9075 9076 9077 9078 9079 9080 9081 9082 9083 9084 9085 9086 9087 9088\n",
      " 9089 9090 9091 9092 9093 9094 9095 9096 9097 9098 9099 9100 9101 9102\n",
      " 9103 9104 9105 9106 9107 9108 9109 9110 9111 9112 9113 9114 9115 9116\n",
      " 9117 9118 9119 9120 9121 9122 9123 9124 9125 9126 9127 9128 9129 9130\n",
      " 9131 9132 9133]\n"
     ]
    }
   ],
   "source": [
    "for train_index, test_index in kf.split(X):\n",
    "    print('TRAIN:', train_index, 'TEST:', test_index)\n",
    "    X_train, X_test = X_val.iloc[train_index], X_val.iloc[test_index]\n",
    "    y_train, y_test = y_val.iloc[train_index], y_val.iloc[test_index]"
   ]
  },
  {
   "cell_type": "code",
   "execution_count": 55,
   "metadata": {
    "scrolled": true
   },
   "outputs": [
    {
     "name": "stderr",
     "output_type": "stream",
     "text": [
      "/home/miriam/.local/lib/python3.6/site-packages/sklearn/linear_model/logistic.py:433: FutureWarning: Default solver will be changed to 'lbfgs' in 0.22. Specify a solver to silence this warning.\n",
      "  FutureWarning)\n",
      "/home/miriam/.local/lib/python3.6/site-packages/sklearn/linear_model/logistic.py:460: FutureWarning: Default multi_class will be changed to 'auto' in 0.22. Specify the multi_class option to silence this warning.\n",
      "  \"this warning.\", FutureWarning)\n",
      "/home/miriam/.local/lib/python3.6/site-packages/sklearn/linear_model/logistic.py:433: FutureWarning: Default solver will be changed to 'lbfgs' in 0.22. Specify a solver to silence this warning.\n",
      "  FutureWarning)\n",
      "/home/miriam/.local/lib/python3.6/site-packages/sklearn/linear_model/logistic.py:460: FutureWarning: Default multi_class will be changed to 'auto' in 0.22. Specify the multi_class option to silence this warning.\n",
      "  \"this warning.\", FutureWarning)\n",
      "/home/miriam/.local/lib/python3.6/site-packages/sklearn/linear_model/logistic.py:433: FutureWarning: Default solver will be changed to 'lbfgs' in 0.22. Specify a solver to silence this warning.\n",
      "  FutureWarning)\n",
      "/home/miriam/.local/lib/python3.6/site-packages/sklearn/linear_model/logistic.py:460: FutureWarning: Default multi_class will be changed to 'auto' in 0.22. Specify the multi_class option to silence this warning.\n",
      "  \"this warning.\", FutureWarning)\n",
      "/home/miriam/.local/lib/python3.6/site-packages/sklearn/linear_model/logistic.py:433: FutureWarning: Default solver will be changed to 'lbfgs' in 0.22. Specify a solver to silence this warning.\n",
      "  FutureWarning)\n",
      "/home/miriam/.local/lib/python3.6/site-packages/sklearn/linear_model/logistic.py:460: FutureWarning: Default multi_class will be changed to 'auto' in 0.22. Specify the multi_class option to silence this warning.\n",
      "  \"this warning.\", FutureWarning)\n",
      "/home/miriam/.local/lib/python3.6/site-packages/sklearn/linear_model/logistic.py:433: FutureWarning: Default solver will be changed to 'lbfgs' in 0.22. Specify a solver to silence this warning.\n",
      "  FutureWarning)\n",
      "/home/miriam/.local/lib/python3.6/site-packages/sklearn/linear_model/logistic.py:460: FutureWarning: Default multi_class will be changed to 'auto' in 0.22. Specify the multi_class option to silence this warning.\n",
      "  \"this warning.\", FutureWarning)\n",
      "/home/miriam/.local/lib/python3.6/site-packages/sklearn/linear_model/logistic.py:433: FutureWarning: Default solver will be changed to 'lbfgs' in 0.22. Specify a solver to silence this warning.\n",
      "  FutureWarning)\n",
      "/home/miriam/.local/lib/python3.6/site-packages/sklearn/linear_model/logistic.py:460: FutureWarning: Default multi_class will be changed to 'auto' in 0.22. Specify the multi_class option to silence this warning.\n",
      "  \"this warning.\", FutureWarning)\n",
      "/home/miriam/.local/lib/python3.6/site-packages/sklearn/linear_model/logistic.py:433: FutureWarning: Default solver will be changed to 'lbfgs' in 0.22. Specify a solver to silence this warning.\n",
      "  FutureWarning)\n",
      "/home/miriam/.local/lib/python3.6/site-packages/sklearn/linear_model/logistic.py:460: FutureWarning: Default multi_class will be changed to 'auto' in 0.22. Specify the multi_class option to silence this warning.\n",
      "  \"this warning.\", FutureWarning)\n",
      "/home/miriam/.local/lib/python3.6/site-packages/sklearn/linear_model/logistic.py:433: FutureWarning: Default solver will be changed to 'lbfgs' in 0.22. Specify a solver to silence this warning.\n",
      "  FutureWarning)\n",
      "/home/miriam/.local/lib/python3.6/site-packages/sklearn/linear_model/logistic.py:460: FutureWarning: Default multi_class will be changed to 'auto' in 0.22. Specify the multi_class option to silence this warning.\n",
      "  \"this warning.\", FutureWarning)\n",
      "/home/miriam/.local/lib/python3.6/site-packages/sklearn/linear_model/logistic.py:433: FutureWarning: Default solver will be changed to 'lbfgs' in 0.22. Specify a solver to silence this warning.\n",
      "  FutureWarning)\n",
      "/home/miriam/.local/lib/python3.6/site-packages/sklearn/linear_model/logistic.py:460: FutureWarning: Default multi_class will be changed to 'auto' in 0.22. Specify the multi_class option to silence this warning.\n",
      "  \"this warning.\", FutureWarning)\n",
      "/home/miriam/.local/lib/python3.6/site-packages/sklearn/linear_model/logistic.py:433: FutureWarning: Default solver will be changed to 'lbfgs' in 0.22. Specify a solver to silence this warning.\n",
      "  FutureWarning)\n",
      "/home/miriam/.local/lib/python3.6/site-packages/sklearn/linear_model/logistic.py:460: FutureWarning: Default multi_class will be changed to 'auto' in 0.22. Specify the multi_class option to silence this warning.\n",
      "  \"this warning.\", FutureWarning)\n"
     ]
    },
    {
     "name": "stdout",
     "output_type": "stream",
     "text": [
      "Cross-validated scores: [0.95956284 0.96393443 0.95519126 0.94972678 0.95837897 0.96495071\n",
      " 0.94078947 0.94517544 0.95833333 0.95504386]\n"
     ]
    }
   ],
   "source": [
    "from sklearn.model_selection import KFold, cross_val_score\n",
    "\n",
    "scores = cross_val_score(clf_logistic, df_model, y, cv=10)\n",
    "print ('Cross-validated scores:', scores)"
   ]
  },
  {
   "cell_type": "markdown",
   "metadata": {},
   "source": [
    "---------"
   ]
  },
  {
   "cell_type": "markdown",
   "metadata": {},
   "source": [
    "## Machine Learning 2"
   ]
  },
  {
   "cell_type": "code",
   "execution_count": 56,
   "metadata": {},
   "outputs": [],
   "source": [
    "df2 = df.copy()\n",
    "df2.drop(labels=['Total Claim Labels'], axis=1, inplace=True)"
   ]
  },
  {
   "cell_type": "code",
   "execution_count": 57,
   "metadata": {},
   "outputs": [
    {
     "data": {
      "text/html": [
       "<div>\n",
       "<style scoped>\n",
       "    .dataframe tbody tr th:only-of-type {\n",
       "        vertical-align: middle;\n",
       "    }\n",
       "\n",
       "    .dataframe tbody tr th {\n",
       "        vertical-align: top;\n",
       "    }\n",
       "\n",
       "    .dataframe thead th {\n",
       "        text-align: right;\n",
       "    }\n",
       "</style>\n",
       "<table border=\"1\" class=\"dataframe\">\n",
       "  <thead>\n",
       "    <tr style=\"text-align: right;\">\n",
       "      <th></th>\n",
       "      <th>State</th>\n",
       "      <th>Customer Lifetime Value</th>\n",
       "      <th>Response</th>\n",
       "      <th>Coverage</th>\n",
       "      <th>Education</th>\n",
       "      <th>Effective To Date</th>\n",
       "      <th>EmploymentStatus</th>\n",
       "      <th>Gender</th>\n",
       "      <th>Income</th>\n",
       "      <th>Location Code</th>\n",
       "      <th>Marital Status</th>\n",
       "      <th>Monthly Premium Auto</th>\n",
       "      <th>Months Since Last Claim</th>\n",
       "      <th>Months Since Policy Inception</th>\n",
       "      <th>Number of Open Complaints</th>\n",
       "      <th>Number of Policies</th>\n",
       "      <th>Policy Type</th>\n",
       "      <th>Policy</th>\n",
       "      <th>Renew Offer Type</th>\n",
       "      <th>Sales Channel</th>\n",
       "      <th>Total Claim Amount</th>\n",
       "      <th>Vehicle Class</th>\n",
       "      <th>Vehicle Size</th>\n",
       "    </tr>\n",
       "  </thead>\n",
       "  <tbody>\n",
       "    <tr>\n",
       "      <th>0</th>\n",
       "      <td>Washington</td>\n",
       "      <td>2763.519279</td>\n",
       "      <td>No</td>\n",
       "      <td>Basic</td>\n",
       "      <td>Bachelor</td>\n",
       "      <td>734192</td>\n",
       "      <td>Employed</td>\n",
       "      <td>F</td>\n",
       "      <td>56274</td>\n",
       "      <td>Suburban</td>\n",
       "      <td>Married</td>\n",
       "      <td>69</td>\n",
       "      <td>32</td>\n",
       "      <td>5</td>\n",
       "      <td>0</td>\n",
       "      <td>1</td>\n",
       "      <td>Corporate Auto</td>\n",
       "      <td>Corporate L3</td>\n",
       "      <td>Offer1</td>\n",
       "      <td>Agent</td>\n",
       "      <td>384.811147</td>\n",
       "      <td>Two-Door Car</td>\n",
       "      <td>Medsize</td>\n",
       "    </tr>\n",
       "    <tr>\n",
       "      <th>1</th>\n",
       "      <td>Arizona</td>\n",
       "      <td>6979.535903</td>\n",
       "      <td>No</td>\n",
       "      <td>Extended</td>\n",
       "      <td>Bachelor</td>\n",
       "      <td>734168</td>\n",
       "      <td>Unemployed</td>\n",
       "      <td>F</td>\n",
       "      <td>0</td>\n",
       "      <td>Suburban</td>\n",
       "      <td>Single</td>\n",
       "      <td>94</td>\n",
       "      <td>13</td>\n",
       "      <td>42</td>\n",
       "      <td>0</td>\n",
       "      <td>8</td>\n",
       "      <td>Personal Auto</td>\n",
       "      <td>Personal L3</td>\n",
       "      <td>Offer3</td>\n",
       "      <td>Agent</td>\n",
       "      <td>1131.464935</td>\n",
       "      <td>Four-Door Car</td>\n",
       "      <td>Medsize</td>\n",
       "    </tr>\n",
       "    <tr>\n",
       "      <th>2</th>\n",
       "      <td>Nevada</td>\n",
       "      <td>12887.431650</td>\n",
       "      <td>No</td>\n",
       "      <td>Premium</td>\n",
       "      <td>Bachelor</td>\n",
       "      <td>734187</td>\n",
       "      <td>Employed</td>\n",
       "      <td>F</td>\n",
       "      <td>48767</td>\n",
       "      <td>Suburban</td>\n",
       "      <td>Married</td>\n",
       "      <td>108</td>\n",
       "      <td>18</td>\n",
       "      <td>38</td>\n",
       "      <td>0</td>\n",
       "      <td>2</td>\n",
       "      <td>Personal Auto</td>\n",
       "      <td>Personal L3</td>\n",
       "      <td>Offer1</td>\n",
       "      <td>Agent</td>\n",
       "      <td>566.472247</td>\n",
       "      <td>Two-Door Car</td>\n",
       "      <td>Medsize</td>\n",
       "    </tr>\n",
       "    <tr>\n",
       "      <th>3</th>\n",
       "      <td>California</td>\n",
       "      <td>7645.861827</td>\n",
       "      <td>No</td>\n",
       "      <td>Basic</td>\n",
       "      <td>Bachelor</td>\n",
       "      <td>734157</td>\n",
       "      <td>Unemployed</td>\n",
       "      <td>M</td>\n",
       "      <td>0</td>\n",
       "      <td>Suburban</td>\n",
       "      <td>Married</td>\n",
       "      <td>106</td>\n",
       "      <td>18</td>\n",
       "      <td>65</td>\n",
       "      <td>0</td>\n",
       "      <td>7</td>\n",
       "      <td>Corporate Auto</td>\n",
       "      <td>Corporate L2</td>\n",
       "      <td>Offer1</td>\n",
       "      <td>Call Center</td>\n",
       "      <td>529.881344</td>\n",
       "      <td>SUV</td>\n",
       "      <td>Medsize</td>\n",
       "    </tr>\n",
       "    <tr>\n",
       "      <th>4</th>\n",
       "      <td>Washington</td>\n",
       "      <td>2813.692575</td>\n",
       "      <td>No</td>\n",
       "      <td>Basic</td>\n",
       "      <td>Bachelor</td>\n",
       "      <td>734171</td>\n",
       "      <td>Employed</td>\n",
       "      <td>M</td>\n",
       "      <td>43836</td>\n",
       "      <td>Rural</td>\n",
       "      <td>Single</td>\n",
       "      <td>73</td>\n",
       "      <td>12</td>\n",
       "      <td>44</td>\n",
       "      <td>0</td>\n",
       "      <td>1</td>\n",
       "      <td>Personal Auto</td>\n",
       "      <td>Personal L1</td>\n",
       "      <td>Offer1</td>\n",
       "      <td>Agent</td>\n",
       "      <td>138.130879</td>\n",
       "      <td>Four-Door Car</td>\n",
       "      <td>Medsize</td>\n",
       "    </tr>\n",
       "  </tbody>\n",
       "</table>\n",
       "</div>"
      ],
      "text/plain": [
       "        State  Customer Lifetime Value Response  Coverage Education  \\\n",
       "0  Washington              2763.519279       No     Basic  Bachelor   \n",
       "1     Arizona              6979.535903       No  Extended  Bachelor   \n",
       "2      Nevada             12887.431650       No   Premium  Bachelor   \n",
       "3  California              7645.861827       No     Basic  Bachelor   \n",
       "4  Washington              2813.692575       No     Basic  Bachelor   \n",
       "\n",
       "   Effective To Date EmploymentStatus Gender  Income Location Code  \\\n",
       "0             734192         Employed      F   56274      Suburban   \n",
       "1             734168       Unemployed      F       0      Suburban   \n",
       "2             734187         Employed      F   48767      Suburban   \n",
       "3             734157       Unemployed      M       0      Suburban   \n",
       "4             734171         Employed      M   43836         Rural   \n",
       "\n",
       "  Marital Status  Monthly Premium Auto  Months Since Last Claim  \\\n",
       "0        Married                    69                       32   \n",
       "1         Single                    94                       13   \n",
       "2        Married                   108                       18   \n",
       "3        Married                   106                       18   \n",
       "4         Single                    73                       12   \n",
       "\n",
       "   Months Since Policy Inception  Number of Open Complaints  \\\n",
       "0                              5                          0   \n",
       "1                             42                          0   \n",
       "2                             38                          0   \n",
       "3                             65                          0   \n",
       "4                             44                          0   \n",
       "\n",
       "   Number of Policies     Policy Type        Policy Renew Offer Type  \\\n",
       "0                   1  Corporate Auto  Corporate L3           Offer1   \n",
       "1                   8   Personal Auto   Personal L3           Offer3   \n",
       "2                   2   Personal Auto   Personal L3           Offer1   \n",
       "3                   7  Corporate Auto  Corporate L2           Offer1   \n",
       "4                   1   Personal Auto   Personal L1           Offer1   \n",
       "\n",
       "  Sales Channel  Total Claim Amount  Vehicle Class Vehicle Size  \n",
       "0         Agent          384.811147   Two-Door Car      Medsize  \n",
       "1         Agent         1131.464935  Four-Door Car      Medsize  \n",
       "2         Agent          566.472247   Two-Door Car      Medsize  \n",
       "3   Call Center          529.881344            SUV      Medsize  \n",
       "4         Agent          138.130879  Four-Door Car      Medsize  "
      ]
     },
     "execution_count": 57,
     "metadata": {},
     "output_type": "execute_result"
    }
   ],
   "source": [
    "df2.head()"
   ]
  },
  {
   "cell_type": "code",
   "execution_count": 58,
   "metadata": {},
   "outputs": [
    {
     "name": "stdout",
     "output_type": "stream",
     "text": [
      "0.09900700000000001 2893.239678 434.0887943128969 272.2582445 547.5148387500001\n"
     ]
    }
   ],
   "source": [
    "Total_claim_min = df2['Total Claim Amount'].min()\n",
    "Total_claim_max = df2['Total Claim Amount'].max()\n",
    "Total_claim_mean = df2['Total Claim Amount'].mean()\n",
    "Total_claim_q1 = df2['Total Claim Amount'].quantile(0.25)\n",
    "Total_claim_q2 = df2['Total Claim Amount'].quantile(0.75)\n",
    "print(Total_claim_min, Total_claim_max, Total_claim_mean, Total_claim_q1, Total_claim_q2)"
   ]
  },
  {
   "cell_type": "code",
   "execution_count": 59,
   "metadata": {
    "scrolled": true
   },
   "outputs": [
    {
     "name": "stdout",
     "output_type": "stream",
     "text": [
      "0    1\n",
      "1    4\n",
      "2    4\n",
      "3    2\n",
      "4    0\n",
      "Name: Total Claim Labels, dtype: category\n",
      "Categories (4, int64): [0 < 1 < 2 < 4]\n"
     ]
    }
   ],
   "source": [
    "#Labels = 0: Low , Moderate, High\n",
    "cutoffs = [0, Total_claim_q1, Total_claim_mean, Total_claim_q2, Total_claim_max]\n",
    "df['Total Claim Labels'] = pd.cut(df['Total Claim Amount'],cutoffs, labels=[0,1,2,4])\n",
    "print(df['Total Claim Labels'].head())\n"
   ]
  },
  {
   "cell_type": "code",
   "execution_count": 60,
   "metadata": {},
   "outputs": [
    {
     "data": {
      "text/plain": [
       "dtype('int64')"
      ]
     },
     "execution_count": 60,
     "metadata": {},
     "output_type": "execute_result"
    }
   ],
   "source": [
    "# Cambiar tipo\n",
    "df['Total Claim Labels'] = df['Total Claim Labels'].astype('int64')\n",
    "df['Total Claim Labels'].dtype"
   ]
  },
  {
   "cell_type": "code",
   "execution_count": 61,
   "metadata": {},
   "outputs": [
    {
     "data": {
      "text/plain": [
       "0"
      ]
     },
     "execution_count": 61,
     "metadata": {},
     "output_type": "execute_result"
    }
   ],
   "source": [
    "df['Total Claim Labels'].isna().sum()"
   ]
  },
  {
   "cell_type": "markdown",
   "metadata": {},
   "source": [
    "### Train/ Test 2"
   ]
  },
  {
   "cell_type": "code",
   "execution_count": 62,
   "metadata": {},
   "outputs": [],
   "source": [
    "columns=[col for col in df2.columns if df2[col].dtype == object]\n",
    "\n",
    "df_model2 = pd.get_dummies(data=df, columns = columns, drop_first=True)"
   ]
  },
  {
   "cell_type": "code",
   "execution_count": 251,
   "metadata": {},
   "outputs": [],
   "source": [
    "cols = [col for col in df_model2.columns if col != ['Total Claim Labels']]\n",
    "X = df_model2[cols]\n",
    "y_tr = label_binarize(df_model2['Total Claim Labels'], classes=[0,1,2,3])\n",
    "n_classes = 4\n",
    "\n",
    "\n",
    "X_train, X_test, y_train, y_test = train_test_split(X, y, test_size=0.2)\n"
   ]
  },
  {
   "cell_type": "markdown",
   "metadata": {},
   "source": [
    "### Logistic Regression  2"
   ]
  },
  {
   "cell_type": "code",
   "execution_count": 222,
   "metadata": {},
   "outputs": [
    {
     "name": "stderr",
     "output_type": "stream",
     "text": [
      "/home/miriam/.local/lib/python3.6/site-packages/sklearn/linear_model/logistic.py:433: FutureWarning: Default solver will be changed to 'lbfgs' in 0.22. Specify a solver to silence this warning.\n",
      "  FutureWarning)\n",
      "/home/miriam/.local/lib/python3.6/site-packages/sklearn/linear_model/logistic.py:460: FutureWarning: Default multi_class will be changed to 'auto' in 0.22. Specify the multi_class option to silence this warning.\n",
      "  \"this warning.\", FutureWarning)\n"
     ]
    },
    {
     "name": "stdout",
     "output_type": "stream",
     "text": [
      "Logistic Regression - Accuracy: 0.789272030651341\n"
     ]
    }
   ],
   "source": [
    "clf_logistic = linear_model.LogisticRegression() #multi_class='multinomial', solver='lbfgs'\n",
    "clf_logistic.fit(X_train, y_train)\n",
    "score2 = clf_logistic.score(X_test, y_test)\n",
    "y_pred_logistic2 = clf_logistic.predict(X_test)\n",
    "\n",
    "accuracy_logistic2 = metrics.accuracy_score(y_test, y_pred_logistic2)\n",
    "\n",
    "cm_logistic = metrics.confusion_matrix(y_test, y_pred_logistic2)\n",
    "\n",
    "\n",
    "print(\"Logistic Regression - Accuracy:\", accuracy_logistic2)"
   ]
  },
  {
   "cell_type": "code",
   "execution_count": 223,
   "metadata": {},
   "outputs": [
    {
     "data": {
      "image/png": "[encoded data removed]",
      "text/plain": [
       "<Figure size 648x648 with 2 Axes>"
      ]
     },
     "metadata": {
      "needs_background": "light"
     },
     "output_type": "display_data"
    }
   ],
   "source": [
    "print_matrix(cm_logistic, accuracy_logistic2, model='Logistic Regression')"
   ]
  },
  {
   "cell_type": "markdown",
   "metadata": {},
   "source": [
    "### SVM - SVC Grid Search"
   ]
  },
  {
   "cell_type": "code",
   "execution_count": 224,
   "metadata": {
    "scrolled": true
   },
   "outputs": [
    {
     "data": {
      "text/plain": [
       "SVC(C=1.0, cache_size=200, class_weight=None, coef0=0.0,\n",
       "  decision_function_shape='ovr', degree=3, gamma='auto_deprecated',\n",
       "  kernel='rbf', max_iter=-1, probability=False, random_state=None,\n",
       "  shrinking=True, tol=0.001, verbose=False)"
      ]
     },
     "execution_count": 224,
     "metadata": {},
     "output_type": "execute_result"
    }
   ],
   "source": [
    "clf = svm.SVC()\n",
    "clf"
   ]
  },
  {
   "cell_type": "code",
   "execution_count": 225,
   "metadata": {},
   "outputs": [],
   "source": [
    "from sklearn.model_selection import GridSearchCV"
   ]
  },
  {
   "cell_type": "code",
   "execution_count": 226,
   "metadata": {},
   "outputs": [
    {
     "data": {
      "text/plain": [
       "{'C': 20, 'coef0': 0.0, 'gamma': 'scale'}"
      ]
     },
     "execution_count": 226,
     "metadata": {},
     "output_type": "execute_result"
    }
   ],
   "source": [
    "parameters = {'C':[10, 20], 'gamma':('auto', 'scale'), 'coef0': [0.0, 0.1]}\n",
    "\n",
    "svc_grid = svm.SVC()\n",
    "clf2 = GridSearchCV(svc_grid, parameters, cv=5)\n",
    "\n",
    "clf2.fit(X_train, y_train)\n",
    "\n",
    "clf2.best_params_"
   ]
  },
  {
   "cell_type": "markdown",
   "metadata": {},
   "source": [
    "### SVM - SVC 2"
   ]
  },
  {
   "cell_type": "code",
   "execution_count": 227,
   "metadata": {
    "scrolled": true
   },
   "outputs": [
    {
     "data": {
      "text/plain": [
       "SVC(C=1.0, cache_size=200, class_weight=None, coef0=0.0,\n",
       "  decision_function_shape='ovr', degree=3, gamma='auto_deprecated',\n",
       "  kernel='rbf', max_iter=-1, probability=False, random_state=None,\n",
       "  shrinking=True, tol=0.001, verbose=False)"
      ]
     },
     "execution_count": 227,
     "metadata": {},
     "output_type": "execute_result"
    }
   ],
   "source": [
    "clf = svm.SVC()\n",
    "clf"
   ]
  },
  {
   "cell_type": "code",
   "execution_count": 252,
   "metadata": {},
   "outputs": [
    {
     "name": "stdout",
     "output_type": "stream",
     "text": [
      "Score: 0.8319649698960043\n",
      "Intercept: [-0.04704656  0.22092245 -0.01846435  0.28139964 -0.01112854 -0.24958182]\n",
      "Accuracy SVM: 0.8319649698960043\n"
     ]
    }
   ],
   "source": [
    "#X_train, X_test, y_train, y_test = train_test_split(X, y, test_size=0.2)\n",
    "\n",
    "\n",
    "clf = svm.SVC(C=20, gamma='scale', coef0=0.0)\n",
    "clf.fit(X_train, y_train)\n",
    "print('Score:', clf.score(X_test, y_test))\n",
    "print('Intercept:', clf.intercept_)\n",
    "\n",
    "y_pred1 = clf.predict(X_test)\n",
    "\n",
    "\n",
    "accuracy_svm = metrics.accuracy_score(y_test, y_pred1)\n",
    "print('Accuracy SVM:', accuracy_svm)"
   ]
  },
  {
   "cell_type": "code",
   "execution_count": 253,
   "metadata": {},
   "outputs": [],
   "source": [
    "cm_svm = metrics.confusion_matrix(y_test, y_pred1)"
   ]
  },
  {
   "cell_type": "code",
   "execution_count": 254,
   "metadata": {},
   "outputs": [
    {
     "data": {
      "image/png": "[encoded data removed]",
      "text/plain": [
       "<Figure size 648x648 with 2 Axes>"
      ]
     },
     "metadata": {
      "needs_background": "light"
     },
     "output_type": "display_data"
    }
   ],
   "source": [
    "print_matrix(cm_svm, accuracy_svm, model='SVM2')"
   ]
  },
  {
   "cell_type": "code",
   "execution_count": 256,
   "metadata": {},
   "outputs": [
    {
     "ename": "ValueError",
     "evalue": "Can only tuple-index with a MultiIndex",
     "output_type": "error",
     "traceback": [
      "\u001b[0;31m---------------------------------------------------------------------------\u001b[0m",
      "\u001b[0;31mValueError\u001b[0m                                Traceback (most recent call last)",
      "\u001b[0;32m<ipython-input-256-4a6828a82967>\u001b[0m in \u001b[0;36m<module>\u001b[0;34m\u001b[0m\n\u001b[1;32m      5\u001b[0m \u001b[0mroc_auc\u001b[0m \u001b[0;34m=\u001b[0m \u001b[0mdict\u001b[0m\u001b[0;34m(\u001b[0m\u001b[0;34m)\u001b[0m\u001b[0;34m\u001b[0m\u001b[0;34m\u001b[0m\u001b[0m\n\u001b[1;32m      6\u001b[0m \u001b[0;32mfor\u001b[0m \u001b[0mi\u001b[0m \u001b[0;32min\u001b[0m \u001b[0mrange\u001b[0m\u001b[0;34m(\u001b[0m\u001b[0mn_classes\u001b[0m\u001b[0;34m)\u001b[0m\u001b[0;34m:\u001b[0m\u001b[0;34m\u001b[0m\u001b[0;34m\u001b[0m\u001b[0m\n\u001b[0;32m----> 7\u001b[0;31m     \u001b[0mfpr\u001b[0m\u001b[0;34m[\u001b[0m\u001b[0mi\u001b[0m\u001b[0;34m]\u001b[0m\u001b[0;34m,\u001b[0m \u001b[0mtpr\u001b[0m\u001b[0;34m[\u001b[0m\u001b[0mi\u001b[0m\u001b[0;34m]\u001b[0m\u001b[0;34m,\u001b[0m \u001b[0m_\u001b[0m \u001b[0;34m=\u001b[0m \u001b[0mroc_curve\u001b[0m\u001b[0;34m(\u001b[0m\u001b[0my_test\u001b[0m\u001b[0;34m[\u001b[0m\u001b[0;34m:\u001b[0m\u001b[0;34m,\u001b[0m\u001b[0mi\u001b[0m\u001b[0;34m]\u001b[0m\u001b[0;34m,\u001b[0m \u001b[0my_pred1\u001b[0m\u001b[0;34m[\u001b[0m\u001b[0;34m:\u001b[0m\u001b[0;34m,\u001b[0m\u001b[0mi\u001b[0m\u001b[0;34m]\u001b[0m\u001b[0;34m)\u001b[0m\u001b[0;34m\u001b[0m\u001b[0;34m\u001b[0m\u001b[0m\n\u001b[0m\u001b[1;32m      8\u001b[0m     \u001b[0mroc_auc\u001b[0m\u001b[0;34m[\u001b[0m\u001b[0mi\u001b[0m\u001b[0;34m]\u001b[0m \u001b[0;34m=\u001b[0m \u001b[0mauc\u001b[0m\u001b[0;34m(\u001b[0m\u001b[0mfpr\u001b[0m\u001b[0;34m[\u001b[0m\u001b[0mi\u001b[0m\u001b[0;34m]\u001b[0m\u001b[0;34m,\u001b[0m \u001b[0mtpr\u001b[0m\u001b[0;34m[\u001b[0m\u001b[0mi\u001b[0m\u001b[0;34m]\u001b[0m\u001b[0;34m)\u001b[0m\u001b[0;34m\u001b[0m\u001b[0;34m\u001b[0m\u001b[0m\n\u001b[1;32m      9\u001b[0m     \u001b[0mprint\u001b[0m\u001b[0;34m(\u001b[0m\u001b[0mroc_auc\u001b[0m\u001b[0;34m[\u001b[0m\u001b[0mi\u001b[0m\u001b[0;34m]\u001b[0m\u001b[0;34m)\u001b[0m\u001b[0;34m\u001b[0m\u001b[0;34m\u001b[0m\u001b[0m\n",
      "\u001b[0;32m~/.local/lib/python3.6/site-packages/pandas/core/series.py\u001b[0m in \u001b[0;36m__getitem__\u001b[0;34m(self, key)\u001b[0m\n\u001b[1;32m    808\u001b[0m             \u001b[0mkey\u001b[0m \u001b[0;34m=\u001b[0m \u001b[0mcheck_bool_indexer\u001b[0m\u001b[0;34m(\u001b[0m\u001b[0mself\u001b[0m\u001b[0;34m.\u001b[0m\u001b[0mindex\u001b[0m\u001b[0;34m,\u001b[0m \u001b[0mkey\u001b[0m\u001b[0;34m)\u001b[0m\u001b[0;34m\u001b[0m\u001b[0;34m\u001b[0m\u001b[0m\n\u001b[1;32m    809\u001b[0m \u001b[0;34m\u001b[0m\u001b[0m\n\u001b[0;32m--> 810\u001b[0;31m         \u001b[0;32mreturn\u001b[0m \u001b[0mself\u001b[0m\u001b[0;34m.\u001b[0m\u001b[0m_get_with\u001b[0m\u001b[0;34m(\u001b[0m\u001b[0mkey\u001b[0m\u001b[0;34m)\u001b[0m\u001b[0;34m\u001b[0m\u001b[0;34m\u001b[0m\u001b[0m\n\u001b[0m\u001b[1;32m    811\u001b[0m \u001b[0;34m\u001b[0m\u001b[0m\n\u001b[1;32m    812\u001b[0m     \u001b[0;32mdef\u001b[0m \u001b[0m_get_with\u001b[0m\u001b[0;34m(\u001b[0m\u001b[0mself\u001b[0m\u001b[0;34m,\u001b[0m \u001b[0mkey\u001b[0m\u001b[0;34m)\u001b[0m\u001b[0;34m:\u001b[0m\u001b[0;34m\u001b[0m\u001b[0;34m\u001b[0m\u001b[0m\n",
      "\u001b[0;32m~/.local/lib/python3.6/site-packages/pandas/core/series.py\u001b[0m in \u001b[0;36m_get_with\u001b[0;34m(self, key)\u001b[0m\n\u001b[1;32m    821\u001b[0m             \u001b[0;32mif\u001b[0m \u001b[0misinstance\u001b[0m\u001b[0;34m(\u001b[0m\u001b[0mkey\u001b[0m\u001b[0;34m,\u001b[0m \u001b[0mtuple\u001b[0m\u001b[0;34m)\u001b[0m\u001b[0;34m:\u001b[0m\u001b[0;34m\u001b[0m\u001b[0;34m\u001b[0m\u001b[0m\n\u001b[1;32m    822\u001b[0m                 \u001b[0;32mtry\u001b[0m\u001b[0;34m:\u001b[0m\u001b[0;34m\u001b[0m\u001b[0;34m\u001b[0m\u001b[0m\n\u001b[0;32m--> 823\u001b[0;31m                     \u001b[0;32mreturn\u001b[0m \u001b[0mself\u001b[0m\u001b[0;34m.\u001b[0m\u001b[0m_get_values_tuple\u001b[0m\u001b[0;34m(\u001b[0m\u001b[0mkey\u001b[0m\u001b[0;34m)\u001b[0m\u001b[0;34m\u001b[0m\u001b[0;34m\u001b[0m\u001b[0m\n\u001b[0m\u001b[1;32m    824\u001b[0m                 \u001b[0;32mexcept\u001b[0m \u001b[0mException\u001b[0m\u001b[0;34m:\u001b[0m\u001b[0;34m\u001b[0m\u001b[0;34m\u001b[0m\u001b[0m\n\u001b[1;32m    825\u001b[0m                     \u001b[0;32mif\u001b[0m \u001b[0mlen\u001b[0m\u001b[0;34m(\u001b[0m\u001b[0mkey\u001b[0m\u001b[0;34m)\u001b[0m \u001b[0;34m==\u001b[0m \u001b[0;36m1\u001b[0m\u001b[0;34m:\u001b[0m\u001b[0;34m\u001b[0m\u001b[0;34m\u001b[0m\u001b[0m\n",
      "\u001b[0;32m~/.local/lib/python3.6/site-packages/pandas/core/series.py\u001b[0m in \u001b[0;36m_get_values_tuple\u001b[0;34m(self, key)\u001b[0m\n\u001b[1;32m    866\u001b[0m \u001b[0;34m\u001b[0m\u001b[0m\n\u001b[1;32m    867\u001b[0m         \u001b[0;32mif\u001b[0m \u001b[0;32mnot\u001b[0m \u001b[0misinstance\u001b[0m\u001b[0;34m(\u001b[0m\u001b[0mself\u001b[0m\u001b[0;34m.\u001b[0m\u001b[0mindex\u001b[0m\u001b[0;34m,\u001b[0m \u001b[0mMultiIndex\u001b[0m\u001b[0;34m)\u001b[0m\u001b[0;34m:\u001b[0m\u001b[0;34m\u001b[0m\u001b[0;34m\u001b[0m\u001b[0m\n\u001b[0;32m--> 868\u001b[0;31m             \u001b[0;32mraise\u001b[0m \u001b[0mValueError\u001b[0m\u001b[0;34m(\u001b[0m\u001b[0;34m'Can only tuple-index with a MultiIndex'\u001b[0m\u001b[0;34m)\u001b[0m\u001b[0;34m\u001b[0m\u001b[0;34m\u001b[0m\u001b[0m\n\u001b[0m\u001b[1;32m    869\u001b[0m \u001b[0;34m\u001b[0m\u001b[0m\n\u001b[1;32m    870\u001b[0m         \u001b[0;31m# If key is contained, would have returned by now\u001b[0m\u001b[0;34m\u001b[0m\u001b[0;34m\u001b[0m\u001b[0;34m\u001b[0m\u001b[0m\n",
      "\u001b[0;31mValueError\u001b[0m: Can only tuple-index with a MultiIndex"
     ]
    }
   ],
   "source": [
    "n_classes = 4\n",
    "\n",
    "fpr = dict()\n",
    "tpr = dict()\n",
    "roc_auc = dict()\n",
    "for i in range(n_classes):\n",
    "    fpr[i], tpr[i], _ = roc_curve(y_test[:,i], y_pred1[:,i])\n",
    "    roc_auc[i] = auc(fpr[i], tpr[i])\n",
    "    print(roc_auc[i])\n",
    "\n",
    "for i in range(n_classes):\n",
    "    plt.figure()\n",
    "    plt.plot(fpr[i], tpr[i], label='ROC curve (area = %0.2f)' % roc_auc[i])\n",
    "    #plt.plot([0, 1], [0, 1], 'k--')\n",
    "    #plt.xlim([0.0, 1.0])\n",
    "    #plt.ylim([0.0, 1.05])\n",
    "    plt.xlabel('False Positive Rate')\n",
    "    plt.ylabel('True Positive Rate')\n",
    "    plt.title('Receiver operating characteristic example')\n",
    "    plt.legend(loc=\"lower right\")\n",
    "    plt.show()"
   ]
  },
  {
   "cell_type": "markdown",
   "metadata": {},
   "source": [
    "### Random Forest "
   ]
  },
  {
   "cell_type": "code",
   "execution_count": 231,
   "metadata": {},
   "outputs": [],
   "source": [
    "cols = [col for col in df_model2.columns if (col != ['Total Claim Labels']) and (col != ['Montly Premium Auto'])]\n",
    "X = df_model2[cols]\n",
    "y = df_model2['Total Claim Labels']\n",
    "\n",
    "X_train_3, X_test_3, y_train_3, y_test_3 = train_test_split(X, y, test_size=0.2)\n"
   ]
  },
  {
   "cell_type": "code",
   "execution_count": 232,
   "metadata": {},
   "outputs": [
    {
     "data": {
      "text/plain": [
       "RandomForestClassifier(bootstrap=True, class_weight=None, criterion='gini',\n",
       "            max_depth=None, max_features='auto', max_leaf_nodes=None,\n",
       "            min_impurity_decrease=0.0, min_impurity_split=None,\n",
       "            min_samples_leaf=1, min_samples_split=2,\n",
       "            min_weight_fraction_leaf=0.0, n_estimators='warn', n_jobs=None,\n",
       "            oob_score=False, random_state=None, verbose=0,\n",
       "            warm_start=False)"
      ]
     },
     "execution_count": 232,
     "metadata": {},
     "output_type": "execute_result"
    }
   ],
   "source": [
    "RandomForestClassifier()"
   ]
  },
  {
   "cell_type": "code",
   "execution_count": 233,
   "metadata": {},
   "outputs": [
    {
     "name": "stdout",
     "output_type": "stream",
     "text": [
      "Accuracy SVM: 0.9978106185002736\n"
     ]
    }
   ],
   "source": [
    "\n",
    "ks_rf = RandomForestClassifier(n_estimators=10).fit(X_train, y_train)\n",
    "\n",
    "y_pred_test_rf = ks_rf.predict(X_test)\n",
    "\n",
    "\n",
    "accuracy_random = metrics.accuracy_score(y_test, y_pred_test_rf)\n",
    "\n",
    "print('Accuracy SVM:', accuracy_random)"
   ]
  },
  {
   "cell_type": "code",
   "execution_count": 234,
   "metadata": {},
   "outputs": [],
   "source": [
    "cm_random = metrics.confusion_matrix(y_test, y_pred_test_rf)"
   ]
  },
  {
   "cell_type": "code",
   "execution_count": 235,
   "metadata": {},
   "outputs": [
    {
     "data": {
      "image/png": "[encoded data removed]",
      "text/plain": [
       "<Figure size 648x648 with 2 Axes>"
      ]
     },
     "metadata": {
      "needs_background": "light"
     },
     "output_type": "display_data"
    }
   ],
   "source": [
    "print_matrix(cm_random, accuracy_random, model='RandomForest')"
   ]
  },
  {
   "cell_type": "markdown",
   "metadata": {},
   "source": [
    "## Cross Validation Random"
   ]
  },
  {
   "cell_type": "code",
   "execution_count": 236,
   "metadata": {},
   "outputs": [
    {
     "name": "stdout",
     "output_type": "stream",
     "text": [
      "Cross-validated scores: [0.9980315  0.99868766 0.9993434  1.         1.         1.        ]\n"
     ]
    }
   ],
   "source": [
    "scores = cross_val_score(ks_rf, df_model2, y, cv=6)\n",
    "print ('Cross-validated scores:', scores)"
   ]
  },
  {
   "cell_type": "markdown",
   "metadata": {},
   "source": [
    "#### ROC CURVE"
   ]
  },
  {
   "cell_type": "code",
   "execution_count": 237,
   "metadata": {},
   "outputs": [],
   "source": [
    "y_tr = label_binarize(y, classes=[0,1,2,3])\n",
    "n_classes = 3\n",
    "X_train_tr, X_test_tr, y_train_tr, y_test_tr =train_test_split(X, y_tr, test_size=0.33, random_state=0)\n",
    "\n",
    "\n",
    "ks_rf = RandomForestClassifier(n_estimators=10).fit(X_train_tr, y_train_tr)\n",
    "\n",
    "y_pred_test_rf = ks_rf.predict(X_test_tr)"
   ]
  },
  {
   "cell_type": "code",
   "execution_count": 261,
   "metadata": {},
   "outputs": [
    {
     "name": "stdout",
     "output_type": "stream",
     "text": [
      "1.0\n",
      "0.9994623655913979\n",
      "0.9982174688057042\n",
      "nan\n"
     ]
    },
    {
     "name": "stderr",
     "output_type": "stream",
     "text": [
      "/home/miriam/.local/lib/python3.6/site-packages/sklearn/metrics/ranking.py:656: UndefinedMetricWarning: No positive samples in y_true, true positive value should be meaningless\n",
      "  UndefinedMetricWarning)\n"
     ]
    },
    {
     "data": {
      "image/png": "[encoded data removed]",
      "text/plain": [
       "<Figure size 432x288 with 1 Axes>"
      ]
     },
     "metadata": {
      "needs_background": "light"
     },
     "output_type": "display_data"
    },
    {
     "data": {
      "image/png": "[encoded data removed]",
      "text/plain": [
       "<Figure size 432x288 with 1 Axes>"
      ]
     },
     "metadata": {
      "needs_background": "light"
     },
     "output_type": "display_data"
    },
    {
     "data": {
      "image/png": "[encoded data removed]",
      "text/plain": [
       "<Figure size 432x288 with 1 Axes>"
      ]
     },
     "metadata": {
      "needs_background": "light"
     },
     "output_type": "display_data"
    },
    {
     "data": {
      "image/png": "[encoded data removed]",
      "text/plain": [
       "<Figure size 432x288 with 1 Axes>"
      ]
     },
     "metadata": {
      "needs_background": "light"
     },
     "output_type": "display_data"
    }
   ],
   "source": [
    "n_classes = 4\n",
    "\n",
    "fpr = dict()\n",
    "tpr = dict()\n",
    "roc_auc = dict()\n",
    "for i in range(n_classes):\n",
    "    fpr[i], tpr[i], _ = roc_curve(y_test_tr[:,i], y_pred_test_rf[:,i])\n",
    "    roc_auc[i] = auc(fpr[i], tpr[i])\n",
    "    print(roc_auc[i])\n",
    "\n",
    "for i in range(n_classes):\n",
    "    plt.figure()\n",
    "    plt.plot(fpr[i], tpr[i], label='ROC curve (area = %0.2f)' % roc_auc[i])\n",
    "    plt.xlabel('False Positive Rate')\n",
    "    plt.ylabel('True Positive Rate')\n",
    "    plt.title('Receiver operating characteristic example')\n",
    "    plt.legend(loc=\"lower right\")\n",
    "    plt.show()"
   ]
  },
  {
   "cell_type": "code",
   "execution_count": 262,
   "metadata": {},
   "outputs": [
    {
     "data": {
      "image/png": "[encoded data removed]",
      "text/plain": [
       "<Figure size 432x288 with 1 Axes>"
      ]
     },
     "metadata": {
      "needs_background": "light"
     },
     "output_type": "display_data"
    },
    {
     "data": {
      "image/png": "[encoded data removed]",
      "text/plain": [
       "<Figure size 432x288 with 1 Axes>"
      ]
     },
     "metadata": {
      "needs_background": "light"
     },
     "output_type": "display_data"
    },
    {
     "data": {
      "image/png": "[encoded data removed]",
      "text/plain": [
       "<Figure size 432x288 with 1 Axes>"
      ]
     },
     "metadata": {
      "needs_background": "light"
     },
     "output_type": "display_data"
    },
    {
     "data": {
      "image/png": "[encoded data removed]",
      "text/plain": [
       "<Figure size 432x288 with 1 Axes>"
      ]
     },
     "metadata": {
      "needs_background": "light"
     },
     "output_type": "display_data"
    }
   ],
   "source": [
    "for i in range(n_classes):\n",
    "    plt.figure()\n",
    "    plt.plot(fpr[i], tpr[i], label='ROC curve (area = %0.2f)' % roc_auc[i])\n",
    "    plt.plot([0, 1], [0, 1], 'k--')\n",
    "    plt.xlim([0.0, 1.0])\n",
    "    plt.ylim([0.0, 1.05])\n",
    "    plt.xlabel('False Positive Rate')\n",
    "    plt.ylabel('True Positive Rate')\n",
    "    plt.title('Receiver operating characteristic example')\n",
    "    plt.legend(loc=\"lower right\")\n",
    "    plt.show()"
   ]
  },
  {
   "cell_type": "markdown",
   "metadata": {},
   "source": [
    "### Grid Search - Random Forest"
   ]
  },
  {
   "cell_type": "code",
   "execution_count": 240,
   "metadata": {},
   "outputs": [
    {
     "data": {
      "text/plain": [
       "{'C': 20, 'gamma': 'scale'}"
      ]
     },
     "execution_count": 240,
     "metadata": {},
     "output_type": "execute_result"
    }
   ],
   "source": [
    "parameters = {'C':[10, 20], 'gamma':('auto', 'scale')}\n",
    "\n",
    "svc_grid = svm.SVC()\n",
    "clf2 = GridSearchCV(svc_grid, parameters, cv=5)\n",
    "\n",
    "clf2.fit(X_train, y_train)\n",
    "\n",
    "clf2.best_params_"
   ]
  },
  {
   "cell_type": "code",
   "execution_count": null,
   "metadata": {},
   "outputs": [],
   "source": []
  },
  {
   "cell_type": "code",
   "execution_count": null,
   "metadata": {},
   "outputs": [],
   "source": []
  },
  {
   "cell_type": "code",
   "execution_count": null,
   "metadata": {},
   "outputs": [],
   "source": []
  },
  {
   "cell_type": "code",
   "execution_count": null,
   "metadata": {},
   "outputs": [],
   "source": []
  }
 ],
 "metadata": {
  "kernelspec": {
   "display_name": "Python 3",
   "language": "python",
   "name": "python3"
  },
  "language_info": {
   "codemirror_mode": {
    "name": "ipython",
    "version": 3
   },
   "file_extension": ".py",
   "mimetype": "text/x-python",
   "name": "python",
   "nbconvert_exporter": "python",
   "pygments_lexer": "ipython3",
   "version": "3.6.7"
  }
 },
 "nbformat": 4,
 "nbformat_minor": 2
}
